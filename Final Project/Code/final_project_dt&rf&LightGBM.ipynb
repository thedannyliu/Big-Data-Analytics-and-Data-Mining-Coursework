{
  "nbformat": 4,
  "nbformat_minor": 0,
  "metadata": {
    "colab": {
      "provenance": []
    },
    "kernelspec": {
      "name": "python3",
      "display_name": "Python 3"
    },
    "language_info": {
      "name": "python"
    }
  },
  "cells": [
    {
      "cell_type": "code",
      "execution_count": 1,
      "metadata": {
        "colab": {
          "base_uri": "https://localhost:8080/"
        },
        "id": "ziJsp0TMgoFG",
        "outputId": "da1c78e7-8c5c-41d9-ae2e-9fa16fa72cac"
      },
      "outputs": [
        {
          "output_type": "stream",
          "name": "stdout",
          "text": [
            "Mounted at /content/drive\n"
          ]
        }
      ],
      "source": [
        "from google.colab import drive\n",
        "drive.mount('/content/drive')"
      ]
    },
    {
      "cell_type": "code",
      "source": [
        "import pandas as pd\n",
        "import numpy as np\n",
        "import matplotlib.pyplot as plt\n",
        "import torch\n",
        "import torch.nn as nn\n",
        "from torch.utils.data import Dataset, DataLoader\n",
        "from sklearn.preprocessing import StandardScaler\n",
        "from sklearn.preprocessing import MinMaxScaler\n",
        "from torch.utils.data.dataloader import default_collate\n",
        "from datetime import datetime\n",
        "from statsmodels.tsa.arima.model import ARIMA\n",
        "import xgboost as xgb\n",
        "import warnings\n",
        "warnings.filterwarnings(\"ignore\")"
      ],
      "metadata": {
        "id": "9d8tFQq4hrJl"
      },
      "execution_count": 2,
      "outputs": []
    },
    {
      "cell_type": "code",
      "source": [
        "AQI_201806 = pd.read_csv('/content/drive/MyDrive/BigDataAnalyticsandDataMining/Final/AQX_P_488_Resource/空氣品質指標(AQI)(歷史資料) (2018-06).csv')\n",
        "AQI_201807 = pd.read_csv('/content/drive/MyDrive/BigDataAnalyticsandDataMining/Final/AQX_P_488_Resource/空氣品質指標(AQI)(歷史資料) (2018-07).csv')\n",
        "AQI_201808 = pd.read_csv('/content/drive/MyDrive/BigDataAnalyticsandDataMining/Final/AQX_P_488_Resource/空氣品質指標(AQI)(歷史資料) (2018-08).csv')\n",
        "AQI_201809 = pd.read_csv('/content/drive/MyDrive/BigDataAnalyticsandDataMining/Final/AQX_P_488_Resource/空氣品質指標(AQI)(歷史資料) (2018-09).csv')\n",
        "AQI_201810 = pd.read_csv('/content/drive/MyDrive/BigDataAnalyticsandDataMining/Final/AQX_P_488_Resource/空氣品質指標(AQI)(歷史資料) (2018-10).csv')\n",
        "AQI_201811 = pd.read_csv('/content/drive/MyDrive/BigDataAnalyticsandDataMining/Final/AQX_P_488_Resource/空氣品質指標(AQI)(歷史資料) (2018-11).csv')\n",
        "AQI_201812 = pd.read_csv('/content/drive/MyDrive/BigDataAnalyticsandDataMining/Final/AQX_P_488_Resource/空氣品質指標(AQI)(歷史資料) (2018-12).csv')\n",
        "AQI_201901 = pd.read_csv('/content/drive/MyDrive/BigDataAnalyticsandDataMining/Final/AQX_P_488_Resource/空氣品質指標(AQI)(歷史資料) (2019-01).csv')\n",
        "AQI_201902 = pd.read_csv('/content/drive/MyDrive/BigDataAnalyticsandDataMining/Final/AQX_P_488_Resource/空氣品質指標(AQI)(歷史資料) (2019-02).csv')\n",
        "AQI_201903 = pd.read_csv('/content/drive/MyDrive/BigDataAnalyticsandDataMining/Final/AQX_P_488_Resource/空氣品質指標(AQI)(歷史資料) (2019-03).csv')\n",
        "AQI_201904 = pd.read_csv('/content/drive/MyDrive/BigDataAnalyticsandDataMining/Final/AQX_P_488_Resource/空氣品質指標(AQI)(歷史資料) (2019-04).csv')\n",
        "AQI_201905 = pd.read_csv('/content/drive/MyDrive/BigDataAnalyticsandDataMining/Final/AQX_P_488_Resource/空氣品質指標(AQI)(歷史資料) (2019-05).csv')\n",
        "AQI_201906 = pd.read_csv('/content/drive/MyDrive/BigDataAnalyticsandDataMining/Final/AQX_P_488_Resource/空氣品質指標(AQI)(歷史資料) (2019-06).csv')\n",
        "AQI_201907 = pd.read_csv('/content/drive/MyDrive/BigDataAnalyticsandDataMining/Final/AQX_P_488_Resource/空氣品質指標(AQI)(歷史資料) (2019-07).csv')\n",
        "AQI_201908 = pd.read_csv('/content/drive/MyDrive/BigDataAnalyticsandDataMining/Final/AQX_P_488_Resource/空氣品質指標(AQI)(歷史資料) (2019-08).csv')\n",
        "AQI_201909 = pd.read_csv('/content/drive/MyDrive/BigDataAnalyticsandDataMining/Final/AQX_P_488_Resource/空氣品質指標(AQI)(歷史資料) (2019-09).csv')\n",
        "AQI_201910 = pd.read_csv('/content/drive/MyDrive/BigDataAnalyticsandDataMining/Final/AQX_P_488_Resource/空氣品質指標(AQI)(歷史資料) (2019-10).csv')\n",
        "AQI_201911 = pd.read_csv('/content/drive/MyDrive/BigDataAnalyticsandDataMining/Final/AQX_P_488_Resource/空氣品質指標(AQI)(歷史資料) (2019-11).csv')\n",
        "AQI_201912 = pd.read_csv('/content/drive/MyDrive/BigDataAnalyticsandDataMining/Final/AQX_P_488_Resource/空氣品質指標(AQI)(歷史資料) (2019-12).csv')\n",
        "AQI_202001 = pd.read_csv('/content/drive/MyDrive/BigDataAnalyticsandDataMining/Final/AQX_P_488_Resource/空氣品質指標(AQI)(歷史資料) (2020-01).csv')\n",
        "AQI_202002 = pd.read_csv('/content/drive/MyDrive/BigDataAnalyticsandDataMining/Final/AQX_P_488_Resource/空氣品質指標(AQI)(歷史資料) (2020-02).csv')\n",
        "AQI_202003 = pd.read_csv('/content/drive/MyDrive/BigDataAnalyticsandDataMining/Final/AQX_P_488_Resource/空氣品質指標(AQI)(歷史資料) (2020-03).csv')\n",
        "AQI_202004 = pd.read_csv('/content/drive/MyDrive/BigDataAnalyticsandDataMining/Final/AQX_P_488_Resource/空氣品質指標(AQI)(歷史資料) (2020-04).csv')\n",
        "AQI_202005 = pd.read_csv('/content/drive/MyDrive/BigDataAnalyticsandDataMining/Final/AQX_P_488_Resource/空氣品質指標(AQI)(歷史資料) (2020-05).csv')\n",
        "AQI_202006 = pd.read_csv('/content/drive/MyDrive/BigDataAnalyticsandDataMining/Final/AQX_P_488_Resource/空氣品質指標(AQI)(歷史資料) (2020-06).csv')\n",
        "AQI_202007 = pd.read_csv('/content/drive/MyDrive/BigDataAnalyticsandDataMining/Final/AQX_P_488_Resource/空氣品質指標(AQI)(歷史資料) (2020-07).csv')\n",
        "AQI_202008 = pd.read_csv('/content/drive/MyDrive/BigDataAnalyticsandDataMining/Final/AQX_P_488_Resource/空氣品質指標(AQI)(歷史資料) (2020-08).csv')\n",
        "AQI_202009 = pd.read_csv('/content/drive/MyDrive/BigDataAnalyticsandDataMining/Final/AQX_P_488_Resource/空氣品質指標(AQI)(歷史資料) (2020-09).csv')\n",
        "AQI_202010 = pd.read_csv('/content/drive/MyDrive/BigDataAnalyticsandDataMining/Final/AQX_P_488_Resource/空氣品質指標(AQI)(歷史資料) (2020-10).csv')\n",
        "AQI_202011 = pd.read_csv('/content/drive/MyDrive/BigDataAnalyticsandDataMining/Final/AQX_P_488_Resource/空氣品質指標(AQI)(歷史資料) (2020-11).csv')\n",
        "AQI_202012 = pd.read_csv('/content/drive/MyDrive/BigDataAnalyticsandDataMining/Final/AQX_P_488_Resource/空氣品質指標(AQI)(歷史資料) (2020-12).csv')\n",
        "AQI_202101 = pd.read_csv('/content/drive/MyDrive/BigDataAnalyticsandDataMining/Final/AQX_P_488_Resource/空氣品質指標(AQI)(歷史資料) (2021-01).csv')\n",
        "AQI_202102 = pd.read_csv('/content/drive/MyDrive/BigDataAnalyticsandDataMining/Final/AQX_P_488_Resource/空氣品質指標(AQI)(歷史資料) (2021-02).csv')\n",
        "AQI_202103 = pd.read_csv('/content/drive/MyDrive/BigDataAnalyticsandDataMining/Final/AQX_P_488_Resource/空氣品質指標(AQI)(歷史資料) (2021-03).csv')\n",
        "AQI_202104 = pd.read_csv('/content/drive/MyDrive/BigDataAnalyticsandDataMining/Final/AQX_P_488_Resource/空氣品質指標(AQI)(歷史資料) (2021-04).csv')\n",
        "AQI_202105 = pd.read_csv('/content/drive/MyDrive/BigDataAnalyticsandDataMining/Final/AQX_P_488_Resource/空氣品質指標(AQI)(歷史資料) (2021-05).csv')\n",
        "AQI_202106 = pd.read_csv('/content/drive/MyDrive/BigDataAnalyticsandDataMining/Final/AQX_P_488_Resource/空氣品質指標(AQI)(歷史資料) (2021-06).csv')\n",
        "AQI_202107 = pd.read_csv('/content/drive/MyDrive/BigDataAnalyticsandDataMining/Final/AQX_P_488_Resource/空氣品質指標(AQI)(歷史資料) (2021-07).csv')\n",
        "AQI_202108 = pd.read_csv('/content/drive/MyDrive/BigDataAnalyticsandDataMining/Final/AQX_P_488_Resource/空氣品質指標(AQI)(歷史資料) (2021-08).csv')\n",
        "AQI_202109 = pd.read_csv('/content/drive/MyDrive/BigDataAnalyticsandDataMining/Final/AQX_P_488_Resource/空氣品質指標(AQI)(歷史資料) (2021-09).csv')\n",
        "AQI_202110 = pd.read_csv('/content/drive/MyDrive/BigDataAnalyticsandDataMining/Final/AQX_P_488_Resource/空氣品質指標(AQI)(歷史資料) (2021-10).csv')\n",
        "AQI_202111 = pd.read_csv('/content/drive/MyDrive/BigDataAnalyticsandDataMining/Final/AQX_P_488_Resource/空氣品質指標(AQI)(歷史資料) (2021-11).csv')\n",
        "AQI_202112 = pd.read_csv('/content/drive/MyDrive/BigDataAnalyticsandDataMining/Final/AQX_P_488_Resource/空氣品質指標(AQI)(歷史資料) (2021-12).csv')\n",
        "AQI_202201 = pd.read_csv('/content/drive/MyDrive/BigDataAnalyticsandDataMining/Final/AQX_P_488_Resource/空氣品質指標(AQI)(歷史資料) (2022-01).csv')\n",
        "AQI_202202 = pd.read_csv('/content/drive/MyDrive/BigDataAnalyticsandDataMining/Final/AQX_P_488_Resource/空氣品質指標(AQI)(歷史資料) (2022-02).csv')\n",
        "AQI_202203 = pd.read_csv('/content/drive/MyDrive/BigDataAnalyticsandDataMining/Final/AQX_P_488_Resource/空氣品質指標(AQI)(歷史資料) (2022-03).csv')\n",
        "AQI_202204 = pd.read_csv('/content/drive/MyDrive/BigDataAnalyticsandDataMining/Final/AQX_P_488_Resource/空氣品質指標(AQI)(歷史資料) (2022-04).csv')\n",
        "AQI_202205 = pd.read_csv('/content/drive/MyDrive/BigDataAnalyticsandDataMining/Final/AQX_P_488_Resource/空氣品質指標(AQI)(歷史資料) (2022-05).csv')\n",
        "AQI_202206 = pd.read_csv('/content/drive/MyDrive/BigDataAnalyticsandDataMining/Final/AQX_P_488_Resource/空氣品質指標(AQI)(歷史資料) (2022-06).csv')\n",
        "AQI_202207 = pd.read_csv('/content/drive/MyDrive/BigDataAnalyticsandDataMining/Final/AQX_P_488_Resource/空氣品質指標(AQI)(歷史資料) (2022-07).csv')\n",
        "AQI_202208 = pd.read_csv('/content/drive/MyDrive/BigDataAnalyticsandDataMining/Final/AQX_P_488_Resource/空氣品質指標(AQI)(歷史資料) (2022-08).csv')\n",
        "AQI_202209 = pd.read_csv('/content/drive/MyDrive/BigDataAnalyticsandDataMining/Final/AQX_P_488_Resource/空氣品質指標(AQI)(歷史資料) (2022-09).csv')\n",
        "AQI_202210 = pd.read_csv('/content/drive/MyDrive/BigDataAnalyticsandDataMining/Final/AQX_P_488_Resource/空氣品質指標(AQI)(歷史資料) (2022-10).csv')\n",
        "AQI_202211 = pd.read_csv('/content/drive/MyDrive/BigDataAnalyticsandDataMining/Final/AQX_P_488_Resource/空氣品質指標(AQI)(歷史資料) (2022-11).csv')\n",
        "AQI_202212 = pd.read_csv('/content/drive/MyDrive/BigDataAnalyticsandDataMining/Final/AQX_P_488_Resource/空氣品質指標(AQI)(歷史資料) (2022-12).csv')\n",
        "AQI_202301 = pd.read_csv('/content/drive/MyDrive/BigDataAnalyticsandDataMining/Final/AQX_P_488_Resource/空氣品質指標(AQI)(歷史資料) (2023-01).csv')\n",
        "AQI_202302 = pd.read_csv('/content/drive/MyDrive/BigDataAnalyticsandDataMining/Final/AQX_P_488_Resource/空氣品質指標(AQI)(歷史資料) (2023-02).csv')\n",
        "AQI_202303 = pd.read_csv('/content/drive/MyDrive/BigDataAnalyticsandDataMining/Final/AQX_P_488_Resource/空氣品質指標(AQI)(歷史資料) (2023-03).csv')\n",
        "AQI_202304 = pd.read_csv('/content/drive/MyDrive/BigDataAnalyticsandDataMining/Final/AQX_P_488_Resource/空氣品質指標(AQI)(歷史資料) (2023-04).csv')\n",
        "AQI_202305 = pd.read_csv('/content/drive/MyDrive/BigDataAnalyticsandDataMining/Final/AQX_P_488_Resource/空氣品質指標(AQI)(歷史資料) (2023-05).csv')"
      ],
      "metadata": {
        "id": "xISVkobarJzQ"
      },
      "execution_count": 3,
      "outputs": []
    },
    {
      "cell_type": "code",
      "source": [
        "# Train Data: 2018/06 - 2022/05\n",
        "AQI_train_data_list = [AQI_201806, AQI_201807, AQI_201808, AQI_201809, AQI_201810, AQI_201811, AQI_201812, AQI_201901,\n",
        "                       AQI_201902, AQI_201903, AQI_201904, AQI_201905, AQI_201906, AQI_201907, AQI_201908, AQI_201909,\n",
        "                       AQI_201910, AQI_201911, AQI_201912, AQI_202001, AQI_202002, AQI_202003, AQI_202004, AQI_202005,\n",
        "                       AQI_202006, AQI_202007, AQI_202008, AQI_202009, AQI_202010, AQI_202011, AQI_202012, AQI_202101, \n",
        "                       AQI_202102, AQI_202103, AQI_202104, AQI_202105, AQI_202106, AQI_202107, AQI_202108, AQI_202109,\n",
        "                       AQI_202110, AQI_202111, AQI_202112, AQI_202201, AQI_202202, AQI_202203, AQI_202204, AQI_202205]\n",
        "print(len(AQI_train_data_list))\n",
        "# Test Data: 2022/06 - 2023/05\n",
        "AQI_test_data_list = [AQI_202206, AQI_202207, AQI_202208, AQI_202209, AQI_202210, AQI_202211, AQI_202212,\n",
        "                      AQI_202301, AQI_202302, AQI_202303, AQI_202304, AQI_202305]\n",
        "print(len(AQI_test_data_list))"
      ],
      "metadata": {
        "colab": {
          "base_uri": "https://localhost:8080/"
        },
        "id": "tWnlb3hBthiG",
        "outputId": "5c07d318-ffe8-47be-b73b-5a7c4e91d1a1"
      },
      "execution_count": 4,
      "outputs": [
        {
          "output_type": "stream",
          "name": "stdout",
          "text": [
            "48\n",
            "12\n"
          ]
        }
      ]
    },
    {
      "cell_type": "code",
      "source": [
        "# Train\n",
        "# Create empty DF\n",
        "train_data = pd.DataFrame()\n",
        "for train in AQI_train_data_list:\n",
        "    train_data = pd.concat([train_data, train], axis=0, ignore_index=True)\n",
        "# Test\n",
        "# Create empty DF\n",
        "test_data = pd.DataFrame()\n",
        "for test in AQI_test_data_list:\n",
        "    test_data = pd.concat([test_data, test], axis=0, ignore_index=True)"
      ],
      "metadata": {
        "id": "GyyHt3kGtm7K"
      },
      "execution_count": 5,
      "outputs": []
    },
    {
      "cell_type": "code",
      "source": [
        "# release memory\n",
        "for data in AQI_train_data_list, AQI_test_data_list:\n",
        "    data = ''"
      ],
      "metadata": {
        "id": "fnmb4myFtpEG"
      },
      "execution_count": 6,
      "outputs": []
    },
    {
      "cell_type": "markdown",
      "source": [
        "Pick a location"
      ],
      "metadata": {
        "id": "idIM2h1JtrAD"
      }
    },
    {
      "cell_type": "code",
      "source": [
        "# Location = 臺南\n",
        "train_data = train_data[train_data['\"sitename\"']=='臺南']\n",
        "test_data = test_data[test_data['\"sitename\"']=='臺南']\n",
        "# Reset index\n",
        "train_data = train_data.reset_index(drop=True)\n",
        "test_data = test_data.reset_index(drop=True)"
      ],
      "metadata": {
        "id": "hzAgE362tvDx"
      },
      "execution_count": 7,
      "outputs": []
    },
    {
      "cell_type": "code",
      "source": [
        "train_data"
      ],
      "metadata": {
        "colab": {
          "base_uri": "https://localhost:8080/",
          "height": 487
        },
        "id": "yyNqefLYtx-A",
        "outputId": "11369d9a-b5e1-4562-8add-bd0fd0dd66a9"
      },
      "execution_count": 8,
      "outputs": [
        {
          "output_type": "execute_result",
          "data": {
            "text/plain": [
              "      \"sitename\" \"county\"  \"aqi\" \"pollutant\" \"status\" \"so2\"  \"co\"  \"o3\"  \\\n",
              "0             臺南      臺南市   22.0         NaN       良好   2.6  0.22    15   \n",
              "1             臺南      臺南市   24.0         NaN       良好   2.4  0.17    15   \n",
              "2             臺南      臺南市   24.0         NaN       良好   2.4   0.1    16   \n",
              "3             臺南      臺南市   23.0         NaN       良好   2.6  0.09    13   \n",
              "4             臺南      臺南市   22.0         NaN       良好   2.9  0.11    11   \n",
              "...          ...      ...    ...         ...      ...   ...   ...   ...   \n",
              "40089         臺南      臺南市   24.0         NaN       良好   0.3  0.12  23.2   \n",
              "40090         臺南      臺南市   23.0         NaN       良好   0.3  0.11  20.4   \n",
              "40091         臺南      臺南市   22.0         NaN       良好   0.2  0.11  21.4   \n",
              "40092         臺南      臺南市   32.0         NaN       良好   0.2  0.14  12.8   \n",
              "40093         臺南      臺南市   19.0         NaN       良好   0.2  0.14  18.0   \n",
              "\n",
              "      \"o3_8hr\" \"pm10\"  ... \"winddirec\" \"datacreationdate\" \"unit\" \"co_8hr\"  \\\n",
              "0         17.0   12.0  ...       359.0   2018-06-01 00:00    NaN      0.2   \n",
              "1         17.0   16.0  ...         8.4   2018-06-01 01:00    NaN      0.2   \n",
              "2         16.0   15.0  ...         1.4   2018-06-01 02:00    NaN      0.2   \n",
              "3         15.0   13.0  ...       358.0   2018-06-01 03:00    NaN      0.2   \n",
              "4         15.0   13.0  ...        46.0   2018-06-01 04:00    NaN      0.2   \n",
              "...        ...    ...  ...         ...                ...    ...      ...   \n",
              "40089     26.1   12.0  ...         219   2022-05-31 19:00    NaN        0   \n",
              "40090     25.0   13.0  ...         219   2022-05-31 20:00    NaN        0   \n",
              "40091     24.2   15.0  ...         207   2022-05-31 21:00    NaN      0.1   \n",
              "40092     22.2   21.0  ...         187   2022-05-31 22:00    NaN      0.1   \n",
              "40093     21.2   11.0  ...         160   2022-05-31 23:00    NaN      0.1   \n",
              "\n",
              "      \"pm2.5_avg\" \"pm10_avg\" \"so2_avg\"  \"longitude\" \"latitude\" \"siteid\"  \n",
              "0             7.0       17.0       4.0   120.202617  22.984581      NaN  \n",
              "1             7.0       16.0       4.0   120.202617  22.984581      NaN  \n",
              "2             8.0       16.0       4.0   120.202617  22.984581      NaN  \n",
              "3             7.0       16.0       4.0   120.202617  22.984581      NaN  \n",
              "4             7.0       16.0       3.0   120.202617  22.984581      NaN  \n",
              "...           ...        ...       ...          ...        ...      ...  \n",
              "40089         6.0       16.0       0.0   120.202617  22.984581     46.0  \n",
              "40090         6.0       15.0       0.0   120.202617  22.984581     46.0  \n",
              "40091         6.0       14.0       0.0   120.202617  22.984581     46.0  \n",
              "40092         5.0       15.0       0.0   120.202617  22.984581     46.0  \n",
              "40093         4.0       15.0       0.0   120.202617  22.984581     46.0  \n",
              "\n",
              "[40094 rows x 25 columns]"
            ],
            "text/html": [
              "\n",
              "  <div id=\"df-c08b0dc9-4ec2-487b-8452-d72a67315140\">\n",
              "    <div class=\"colab-df-container\">\n",
              "      <div>\n",
              "<style scoped>\n",
              "    .dataframe tbody tr th:only-of-type {\n",
              "        vertical-align: middle;\n",
              "    }\n",
              "\n",
              "    .dataframe tbody tr th {\n",
              "        vertical-align: top;\n",
              "    }\n",
              "\n",
              "    .dataframe thead th {\n",
              "        text-align: right;\n",
              "    }\n",
              "</style>\n",
              "<table border=\"1\" class=\"dataframe\">\n",
              "  <thead>\n",
              "    <tr style=\"text-align: right;\">\n",
              "      <th></th>\n",
              "      <th>\"sitename\"</th>\n",
              "      <th>\"county\"</th>\n",
              "      <th>\"aqi\"</th>\n",
              "      <th>\"pollutant\"</th>\n",
              "      <th>\"status\"</th>\n",
              "      <th>\"so2\"</th>\n",
              "      <th>\"co\"</th>\n",
              "      <th>\"o3\"</th>\n",
              "      <th>\"o3_8hr\"</th>\n",
              "      <th>\"pm10\"</th>\n",
              "      <th>...</th>\n",
              "      <th>\"winddirec\"</th>\n",
              "      <th>\"datacreationdate\"</th>\n",
              "      <th>\"unit\"</th>\n",
              "      <th>\"co_8hr\"</th>\n",
              "      <th>\"pm2.5_avg\"</th>\n",
              "      <th>\"pm10_avg\"</th>\n",
              "      <th>\"so2_avg\"</th>\n",
              "      <th>\"longitude\"</th>\n",
              "      <th>\"latitude\"</th>\n",
              "      <th>\"siteid\"</th>\n",
              "    </tr>\n",
              "  </thead>\n",
              "  <tbody>\n",
              "    <tr>\n",
              "      <th>0</th>\n",
              "      <td>臺南</td>\n",
              "      <td>臺南市</td>\n",
              "      <td>22.0</td>\n",
              "      <td>NaN</td>\n",
              "      <td>良好</td>\n",
              "      <td>2.6</td>\n",
              "      <td>0.22</td>\n",
              "      <td>15</td>\n",
              "      <td>17.0</td>\n",
              "      <td>12.0</td>\n",
              "      <td>...</td>\n",
              "      <td>359.0</td>\n",
              "      <td>2018-06-01 00:00</td>\n",
              "      <td>NaN</td>\n",
              "      <td>0.2</td>\n",
              "      <td>7.0</td>\n",
              "      <td>17.0</td>\n",
              "      <td>4.0</td>\n",
              "      <td>120.202617</td>\n",
              "      <td>22.984581</td>\n",
              "      <td>NaN</td>\n",
              "    </tr>\n",
              "    <tr>\n",
              "      <th>1</th>\n",
              "      <td>臺南</td>\n",
              "      <td>臺南市</td>\n",
              "      <td>24.0</td>\n",
              "      <td>NaN</td>\n",
              "      <td>良好</td>\n",
              "      <td>2.4</td>\n",
              "      <td>0.17</td>\n",
              "      <td>15</td>\n",
              "      <td>17.0</td>\n",
              "      <td>16.0</td>\n",
              "      <td>...</td>\n",
              "      <td>8.4</td>\n",
              "      <td>2018-06-01 01:00</td>\n",
              "      <td>NaN</td>\n",
              "      <td>0.2</td>\n",
              "      <td>7.0</td>\n",
              "      <td>16.0</td>\n",
              "      <td>4.0</td>\n",
              "      <td>120.202617</td>\n",
              "      <td>22.984581</td>\n",
              "      <td>NaN</td>\n",
              "    </tr>\n",
              "    <tr>\n",
              "      <th>2</th>\n",
              "      <td>臺南</td>\n",
              "      <td>臺南市</td>\n",
              "      <td>24.0</td>\n",
              "      <td>NaN</td>\n",
              "      <td>良好</td>\n",
              "      <td>2.4</td>\n",
              "      <td>0.1</td>\n",
              "      <td>16</td>\n",
              "      <td>16.0</td>\n",
              "      <td>15.0</td>\n",
              "      <td>...</td>\n",
              "      <td>1.4</td>\n",
              "      <td>2018-06-01 02:00</td>\n",
              "      <td>NaN</td>\n",
              "      <td>0.2</td>\n",
              "      <td>8.0</td>\n",
              "      <td>16.0</td>\n",
              "      <td>4.0</td>\n",
              "      <td>120.202617</td>\n",
              "      <td>22.984581</td>\n",
              "      <td>NaN</td>\n",
              "    </tr>\n",
              "    <tr>\n",
              "      <th>3</th>\n",
              "      <td>臺南</td>\n",
              "      <td>臺南市</td>\n",
              "      <td>23.0</td>\n",
              "      <td>NaN</td>\n",
              "      <td>良好</td>\n",
              "      <td>2.6</td>\n",
              "      <td>0.09</td>\n",
              "      <td>13</td>\n",
              "      <td>15.0</td>\n",
              "      <td>13.0</td>\n",
              "      <td>...</td>\n",
              "      <td>358.0</td>\n",
              "      <td>2018-06-01 03:00</td>\n",
              "      <td>NaN</td>\n",
              "      <td>0.2</td>\n",
              "      <td>7.0</td>\n",
              "      <td>16.0</td>\n",
              "      <td>4.0</td>\n",
              "      <td>120.202617</td>\n",
              "      <td>22.984581</td>\n",
              "      <td>NaN</td>\n",
              "    </tr>\n",
              "    <tr>\n",
              "      <th>4</th>\n",
              "      <td>臺南</td>\n",
              "      <td>臺南市</td>\n",
              "      <td>22.0</td>\n",
              "      <td>NaN</td>\n",
              "      <td>良好</td>\n",
              "      <td>2.9</td>\n",
              "      <td>0.11</td>\n",
              "      <td>11</td>\n",
              "      <td>15.0</td>\n",
              "      <td>13.0</td>\n",
              "      <td>...</td>\n",
              "      <td>46.0</td>\n",
              "      <td>2018-06-01 04:00</td>\n",
              "      <td>NaN</td>\n",
              "      <td>0.2</td>\n",
              "      <td>7.0</td>\n",
              "      <td>16.0</td>\n",
              "      <td>3.0</td>\n",
              "      <td>120.202617</td>\n",
              "      <td>22.984581</td>\n",
              "      <td>NaN</td>\n",
              "    </tr>\n",
              "    <tr>\n",
              "      <th>...</th>\n",
              "      <td>...</td>\n",
              "      <td>...</td>\n",
              "      <td>...</td>\n",
              "      <td>...</td>\n",
              "      <td>...</td>\n",
              "      <td>...</td>\n",
              "      <td>...</td>\n",
              "      <td>...</td>\n",
              "      <td>...</td>\n",
              "      <td>...</td>\n",
              "      <td>...</td>\n",
              "      <td>...</td>\n",
              "      <td>...</td>\n",
              "      <td>...</td>\n",
              "      <td>...</td>\n",
              "      <td>...</td>\n",
              "      <td>...</td>\n",
              "      <td>...</td>\n",
              "      <td>...</td>\n",
              "      <td>...</td>\n",
              "      <td>...</td>\n",
              "    </tr>\n",
              "    <tr>\n",
              "      <th>40089</th>\n",
              "      <td>臺南</td>\n",
              "      <td>臺南市</td>\n",
              "      <td>24.0</td>\n",
              "      <td>NaN</td>\n",
              "      <td>良好</td>\n",
              "      <td>0.3</td>\n",
              "      <td>0.12</td>\n",
              "      <td>23.2</td>\n",
              "      <td>26.1</td>\n",
              "      <td>12.0</td>\n",
              "      <td>...</td>\n",
              "      <td>219</td>\n",
              "      <td>2022-05-31 19:00</td>\n",
              "      <td>NaN</td>\n",
              "      <td>0</td>\n",
              "      <td>6.0</td>\n",
              "      <td>16.0</td>\n",
              "      <td>0.0</td>\n",
              "      <td>120.202617</td>\n",
              "      <td>22.984581</td>\n",
              "      <td>46.0</td>\n",
              "    </tr>\n",
              "    <tr>\n",
              "      <th>40090</th>\n",
              "      <td>臺南</td>\n",
              "      <td>臺南市</td>\n",
              "      <td>23.0</td>\n",
              "      <td>NaN</td>\n",
              "      <td>良好</td>\n",
              "      <td>0.3</td>\n",
              "      <td>0.11</td>\n",
              "      <td>20.4</td>\n",
              "      <td>25.0</td>\n",
              "      <td>13.0</td>\n",
              "      <td>...</td>\n",
              "      <td>219</td>\n",
              "      <td>2022-05-31 20:00</td>\n",
              "      <td>NaN</td>\n",
              "      <td>0</td>\n",
              "      <td>6.0</td>\n",
              "      <td>15.0</td>\n",
              "      <td>0.0</td>\n",
              "      <td>120.202617</td>\n",
              "      <td>22.984581</td>\n",
              "      <td>46.0</td>\n",
              "    </tr>\n",
              "    <tr>\n",
              "      <th>40091</th>\n",
              "      <td>臺南</td>\n",
              "      <td>臺南市</td>\n",
              "      <td>22.0</td>\n",
              "      <td>NaN</td>\n",
              "      <td>良好</td>\n",
              "      <td>0.2</td>\n",
              "      <td>0.11</td>\n",
              "      <td>21.4</td>\n",
              "      <td>24.2</td>\n",
              "      <td>15.0</td>\n",
              "      <td>...</td>\n",
              "      <td>207</td>\n",
              "      <td>2022-05-31 21:00</td>\n",
              "      <td>NaN</td>\n",
              "      <td>0.1</td>\n",
              "      <td>6.0</td>\n",
              "      <td>14.0</td>\n",
              "      <td>0.0</td>\n",
              "      <td>120.202617</td>\n",
              "      <td>22.984581</td>\n",
              "      <td>46.0</td>\n",
              "    </tr>\n",
              "    <tr>\n",
              "      <th>40092</th>\n",
              "      <td>臺南</td>\n",
              "      <td>臺南市</td>\n",
              "      <td>32.0</td>\n",
              "      <td>NaN</td>\n",
              "      <td>良好</td>\n",
              "      <td>0.2</td>\n",
              "      <td>0.14</td>\n",
              "      <td>12.8</td>\n",
              "      <td>22.2</td>\n",
              "      <td>21.0</td>\n",
              "      <td>...</td>\n",
              "      <td>187</td>\n",
              "      <td>2022-05-31 22:00</td>\n",
              "      <td>NaN</td>\n",
              "      <td>0.1</td>\n",
              "      <td>5.0</td>\n",
              "      <td>15.0</td>\n",
              "      <td>0.0</td>\n",
              "      <td>120.202617</td>\n",
              "      <td>22.984581</td>\n",
              "      <td>46.0</td>\n",
              "    </tr>\n",
              "    <tr>\n",
              "      <th>40093</th>\n",
              "      <td>臺南</td>\n",
              "      <td>臺南市</td>\n",
              "      <td>19.0</td>\n",
              "      <td>NaN</td>\n",
              "      <td>良好</td>\n",
              "      <td>0.2</td>\n",
              "      <td>0.14</td>\n",
              "      <td>18.0</td>\n",
              "      <td>21.2</td>\n",
              "      <td>11.0</td>\n",
              "      <td>...</td>\n",
              "      <td>160</td>\n",
              "      <td>2022-05-31 23:00</td>\n",
              "      <td>NaN</td>\n",
              "      <td>0.1</td>\n",
              "      <td>4.0</td>\n",
              "      <td>15.0</td>\n",
              "      <td>0.0</td>\n",
              "      <td>120.202617</td>\n",
              "      <td>22.984581</td>\n",
              "      <td>46.0</td>\n",
              "    </tr>\n",
              "  </tbody>\n",
              "</table>\n",
              "<p>40094 rows × 25 columns</p>\n",
              "</div>\n",
              "      <button class=\"colab-df-convert\" onclick=\"convertToInteractive('df-c08b0dc9-4ec2-487b-8452-d72a67315140')\"\n",
              "              title=\"Convert this dataframe to an interactive table.\"\n",
              "              style=\"display:none;\">\n",
              "        \n",
              "  <svg xmlns=\"http://www.w3.org/2000/svg\" height=\"24px\"viewBox=\"0 0 24 24\"\n",
              "       width=\"24px\">\n",
              "    <path d=\"M0 0h24v24H0V0z\" fill=\"none\"/>\n",
              "    <path d=\"M18.56 5.44l.94 2.06.94-2.06 2.06-.94-2.06-.94-.94-2.06-.94 2.06-2.06.94zm-11 1L8.5 8.5l.94-2.06 2.06-.94-2.06-.94L8.5 2.5l-.94 2.06-2.06.94zm10 10l.94 2.06.94-2.06 2.06-.94-2.06-.94-.94-2.06-.94 2.06-2.06.94z\"/><path d=\"M17.41 7.96l-1.37-1.37c-.4-.4-.92-.59-1.43-.59-.52 0-1.04.2-1.43.59L10.3 9.45l-7.72 7.72c-.78.78-.78 2.05 0 2.83L4 21.41c.39.39.9.59 1.41.59.51 0 1.02-.2 1.41-.59l7.78-7.78 2.81-2.81c.8-.78.8-2.07 0-2.86zM5.41 20L4 18.59l7.72-7.72 1.47 1.35L5.41 20z\"/>\n",
              "  </svg>\n",
              "      </button>\n",
              "      \n",
              "  <style>\n",
              "    .colab-df-container {\n",
              "      display:flex;\n",
              "      flex-wrap:wrap;\n",
              "      gap: 12px;\n",
              "    }\n",
              "\n",
              "    .colab-df-convert {\n",
              "      background-color: #E8F0FE;\n",
              "      border: none;\n",
              "      border-radius: 50%;\n",
              "      cursor: pointer;\n",
              "      display: none;\n",
              "      fill: #1967D2;\n",
              "      height: 32px;\n",
              "      padding: 0 0 0 0;\n",
              "      width: 32px;\n",
              "    }\n",
              "\n",
              "    .colab-df-convert:hover {\n",
              "      background-color: #E2EBFA;\n",
              "      box-shadow: 0px 1px 2px rgba(60, 64, 67, 0.3), 0px 1px 3px 1px rgba(60, 64, 67, 0.15);\n",
              "      fill: #174EA6;\n",
              "    }\n",
              "\n",
              "    [theme=dark] .colab-df-convert {\n",
              "      background-color: #3B4455;\n",
              "      fill: #D2E3FC;\n",
              "    }\n",
              "\n",
              "    [theme=dark] .colab-df-convert:hover {\n",
              "      background-color: #434B5C;\n",
              "      box-shadow: 0px 1px 3px 1px rgba(0, 0, 0, 0.15);\n",
              "      filter: drop-shadow(0px 1px 2px rgba(0, 0, 0, 0.3));\n",
              "      fill: #FFFFFF;\n",
              "    }\n",
              "  </style>\n",
              "\n",
              "      <script>\n",
              "        const buttonEl =\n",
              "          document.querySelector('#df-c08b0dc9-4ec2-487b-8452-d72a67315140 button.colab-df-convert');\n",
              "        buttonEl.style.display =\n",
              "          google.colab.kernel.accessAllowed ? 'block' : 'none';\n",
              "\n",
              "        async function convertToInteractive(key) {\n",
              "          const element = document.querySelector('#df-c08b0dc9-4ec2-487b-8452-d72a67315140');\n",
              "          const dataTable =\n",
              "            await google.colab.kernel.invokeFunction('convertToInteractive',\n",
              "                                                     [key], {});\n",
              "          if (!dataTable) return;\n",
              "\n",
              "          const docLinkHtml = 'Like what you see? Visit the ' +\n",
              "            '<a target=\"_blank\" href=https://colab.research.google.com/notebooks/data_table.ipynb>data table notebook</a>'\n",
              "            + ' to learn more about interactive tables.';\n",
              "          element.innerHTML = '';\n",
              "          dataTable['output_type'] = 'display_data';\n",
              "          await google.colab.output.renderOutput(dataTable, element);\n",
              "          const docLink = document.createElement('div');\n",
              "          docLink.innerHTML = docLinkHtml;\n",
              "          element.appendChild(docLink);\n",
              "        }\n",
              "      </script>\n",
              "    </div>\n",
              "  </div>\n",
              "  "
            ]
          },
          "metadata": {},
          "execution_count": 8
        }
      ]
    },
    {
      "cell_type": "markdown",
      "source": [
        "Tainan"
      ],
      "metadata": {
        "id": "O4hoYw4hejH6"
      }
    },
    {
      "cell_type": "code",
      "source": [
        "tainan_aqi = pd.concat([train_data, test_data], axis=0, ignore_index=True)\n",
        "tainan_aqi"
      ],
      "metadata": {
        "colab": {
          "base_uri": "https://localhost:8080/",
          "height": 487
        },
        "id": "IqmRysPXeiB8",
        "outputId": "82da6e1b-f918-48cb-de40-fd3030d4cd84"
      },
      "execution_count": 9,
      "outputs": [
        {
          "output_type": "execute_result",
          "data": {
            "text/plain": [
              "      \"sitename\" \"county\"  \"aqi\" \"pollutant\" \"status\" \"so2\"  \"co\"  \"o3\"  \\\n",
              "0             臺南      臺南市   22.0         NaN       良好   2.6  0.22    15   \n",
              "1             臺南      臺南市   24.0         NaN       良好   2.4  0.17    15   \n",
              "2             臺南      臺南市   24.0         NaN       良好   2.4   0.1    16   \n",
              "3             臺南      臺南市   23.0         NaN       良好   2.6  0.09    13   \n",
              "4             臺南      臺南市   22.0         NaN       良好   2.9  0.11    11   \n",
              "...          ...      ...    ...         ...      ...   ...   ...   ...   \n",
              "48789         臺南      臺南市   57.0       細懸浮微粒       普通   0.5  0.25  18.0   \n",
              "48790         臺南      臺南市   55.0       細懸浮微粒       普通   0.5  0.26  15.1   \n",
              "48791         臺南      臺南市   49.0         NaN       良好   0.4  0.25  14.1   \n",
              "48792         臺南      臺南市   44.0         NaN       良好   0.5  0.22  12.1   \n",
              "48793         臺南      臺南市   41.0         NaN       良好   0.4  0.22  10.6   \n",
              "\n",
              "      \"o3_8hr\" \"pm10\"  ... \"winddirec\" \"datacreationdate\" \"unit\" \"co_8hr\"  \\\n",
              "0         17.0   12.0  ...       359.0   2018-06-01 00:00    NaN      0.2   \n",
              "1         17.0   16.0  ...         8.4   2018-06-01 01:00    NaN      0.2   \n",
              "2         16.0   15.0  ...         1.4   2018-06-01 02:00    NaN      0.2   \n",
              "3         15.0   13.0  ...       358.0   2018-06-01 03:00    NaN      0.2   \n",
              "4         15.0   13.0  ...        46.0   2018-06-01 04:00    NaN      0.2   \n",
              "...        ...    ...  ...         ...                ...    ...      ...   \n",
              "48789     29.5   40.0  ...         323   2023-05-31 19:00    NaN      0.2   \n",
              "48790     24.7   35.0  ...         353   2023-05-31 20:00    NaN      0.2   \n",
              "48791     21.2   24.0  ...         352   2023-05-31 21:00    NaN      0.2   \n",
              "48792     17.2   25.0  ...         355   2023-05-31 22:00    NaN      0.2   \n",
              "48793     16.3   30.0  ...         358   2023-05-31 23:00    NaN      0.2   \n",
              "\n",
              "      \"pm2.5_avg\" \"pm10_avg\" \"so2_avg\"  \"longitude\" \"latitude\" \"siteid\"  \n",
              "0             7.0       17.0       4.0   120.202617  22.984581      NaN  \n",
              "1             7.0       16.0       4.0   120.202617  22.984581      NaN  \n",
              "2             8.0       16.0       4.0   120.202617  22.984581      NaN  \n",
              "3             7.0       16.0       4.0   120.202617  22.984581      NaN  \n",
              "4             7.0       16.0       3.0   120.202617  22.984581      NaN  \n",
              "...           ...        ...       ...          ...        ...      ...  \n",
              "48789        18.0       51.0       1.0   120.220850  22.991230     46.0  \n",
              "48790        17.0       50.0       1.0   120.220850  22.991230     46.0  \n",
              "48791        15.0       45.0       1.0   120.220850  22.991230     46.0  \n",
              "48792        14.0       39.0       1.0   120.220850  22.991230     46.0  \n",
              "48793        13.0       36.0       1.0   120.220850  22.991230     46.0  \n",
              "\n",
              "[48794 rows x 25 columns]"
            ],
            "text/html": [
              "\n",
              "  <div id=\"df-f5226098-256d-4dee-bdf6-d3effeff0f75\">\n",
              "    <div class=\"colab-df-container\">\n",
              "      <div>\n",
              "<style scoped>\n",
              "    .dataframe tbody tr th:only-of-type {\n",
              "        vertical-align: middle;\n",
              "    }\n",
              "\n",
              "    .dataframe tbody tr th {\n",
              "        vertical-align: top;\n",
              "    }\n",
              "\n",
              "    .dataframe thead th {\n",
              "        text-align: right;\n",
              "    }\n",
              "</style>\n",
              "<table border=\"1\" class=\"dataframe\">\n",
              "  <thead>\n",
              "    <tr style=\"text-align: right;\">\n",
              "      <th></th>\n",
              "      <th>\"sitename\"</th>\n",
              "      <th>\"county\"</th>\n",
              "      <th>\"aqi\"</th>\n",
              "      <th>\"pollutant\"</th>\n",
              "      <th>\"status\"</th>\n",
              "      <th>\"so2\"</th>\n",
              "      <th>\"co\"</th>\n",
              "      <th>\"o3\"</th>\n",
              "      <th>\"o3_8hr\"</th>\n",
              "      <th>\"pm10\"</th>\n",
              "      <th>...</th>\n",
              "      <th>\"winddirec\"</th>\n",
              "      <th>\"datacreationdate\"</th>\n",
              "      <th>\"unit\"</th>\n",
              "      <th>\"co_8hr\"</th>\n",
              "      <th>\"pm2.5_avg\"</th>\n",
              "      <th>\"pm10_avg\"</th>\n",
              "      <th>\"so2_avg\"</th>\n",
              "      <th>\"longitude\"</th>\n",
              "      <th>\"latitude\"</th>\n",
              "      <th>\"siteid\"</th>\n",
              "    </tr>\n",
              "  </thead>\n",
              "  <tbody>\n",
              "    <tr>\n",
              "      <th>0</th>\n",
              "      <td>臺南</td>\n",
              "      <td>臺南市</td>\n",
              "      <td>22.0</td>\n",
              "      <td>NaN</td>\n",
              "      <td>良好</td>\n",
              "      <td>2.6</td>\n",
              "      <td>0.22</td>\n",
              "      <td>15</td>\n",
              "      <td>17.0</td>\n",
              "      <td>12.0</td>\n",
              "      <td>...</td>\n",
              "      <td>359.0</td>\n",
              "      <td>2018-06-01 00:00</td>\n",
              "      <td>NaN</td>\n",
              "      <td>0.2</td>\n",
              "      <td>7.0</td>\n",
              "      <td>17.0</td>\n",
              "      <td>4.0</td>\n",
              "      <td>120.202617</td>\n",
              "      <td>22.984581</td>\n",
              "      <td>NaN</td>\n",
              "    </tr>\n",
              "    <tr>\n",
              "      <th>1</th>\n",
              "      <td>臺南</td>\n",
              "      <td>臺南市</td>\n",
              "      <td>24.0</td>\n",
              "      <td>NaN</td>\n",
              "      <td>良好</td>\n",
              "      <td>2.4</td>\n",
              "      <td>0.17</td>\n",
              "      <td>15</td>\n",
              "      <td>17.0</td>\n",
              "      <td>16.0</td>\n",
              "      <td>...</td>\n",
              "      <td>8.4</td>\n",
              "      <td>2018-06-01 01:00</td>\n",
              "      <td>NaN</td>\n",
              "      <td>0.2</td>\n",
              "      <td>7.0</td>\n",
              "      <td>16.0</td>\n",
              "      <td>4.0</td>\n",
              "      <td>120.202617</td>\n",
              "      <td>22.984581</td>\n",
              "      <td>NaN</td>\n",
              "    </tr>\n",
              "    <tr>\n",
              "      <th>2</th>\n",
              "      <td>臺南</td>\n",
              "      <td>臺南市</td>\n",
              "      <td>24.0</td>\n",
              "      <td>NaN</td>\n",
              "      <td>良好</td>\n",
              "      <td>2.4</td>\n",
              "      <td>0.1</td>\n",
              "      <td>16</td>\n",
              "      <td>16.0</td>\n",
              "      <td>15.0</td>\n",
              "      <td>...</td>\n",
              "      <td>1.4</td>\n",
              "      <td>2018-06-01 02:00</td>\n",
              "      <td>NaN</td>\n",
              "      <td>0.2</td>\n",
              "      <td>8.0</td>\n",
              "      <td>16.0</td>\n",
              "      <td>4.0</td>\n",
              "      <td>120.202617</td>\n",
              "      <td>22.984581</td>\n",
              "      <td>NaN</td>\n",
              "    </tr>\n",
              "    <tr>\n",
              "      <th>3</th>\n",
              "      <td>臺南</td>\n",
              "      <td>臺南市</td>\n",
              "      <td>23.0</td>\n",
              "      <td>NaN</td>\n",
              "      <td>良好</td>\n",
              "      <td>2.6</td>\n",
              "      <td>0.09</td>\n",
              "      <td>13</td>\n",
              "      <td>15.0</td>\n",
              "      <td>13.0</td>\n",
              "      <td>...</td>\n",
              "      <td>358.0</td>\n",
              "      <td>2018-06-01 03:00</td>\n",
              "      <td>NaN</td>\n",
              "      <td>0.2</td>\n",
              "      <td>7.0</td>\n",
              "      <td>16.0</td>\n",
              "      <td>4.0</td>\n",
              "      <td>120.202617</td>\n",
              "      <td>22.984581</td>\n",
              "      <td>NaN</td>\n",
              "    </tr>\n",
              "    <tr>\n",
              "      <th>4</th>\n",
              "      <td>臺南</td>\n",
              "      <td>臺南市</td>\n",
              "      <td>22.0</td>\n",
              "      <td>NaN</td>\n",
              "      <td>良好</td>\n",
              "      <td>2.9</td>\n",
              "      <td>0.11</td>\n",
              "      <td>11</td>\n",
              "      <td>15.0</td>\n",
              "      <td>13.0</td>\n",
              "      <td>...</td>\n",
              "      <td>46.0</td>\n",
              "      <td>2018-06-01 04:00</td>\n",
              "      <td>NaN</td>\n",
              "      <td>0.2</td>\n",
              "      <td>7.0</td>\n",
              "      <td>16.0</td>\n",
              "      <td>3.0</td>\n",
              "      <td>120.202617</td>\n",
              "      <td>22.984581</td>\n",
              "      <td>NaN</td>\n",
              "    </tr>\n",
              "    <tr>\n",
              "      <th>...</th>\n",
              "      <td>...</td>\n",
              "      <td>...</td>\n",
              "      <td>...</td>\n",
              "      <td>...</td>\n",
              "      <td>...</td>\n",
              "      <td>...</td>\n",
              "      <td>...</td>\n",
              "      <td>...</td>\n",
              "      <td>...</td>\n",
              "      <td>...</td>\n",
              "      <td>...</td>\n",
              "      <td>...</td>\n",
              "      <td>...</td>\n",
              "      <td>...</td>\n",
              "      <td>...</td>\n",
              "      <td>...</td>\n",
              "      <td>...</td>\n",
              "      <td>...</td>\n",
              "      <td>...</td>\n",
              "      <td>...</td>\n",
              "      <td>...</td>\n",
              "    </tr>\n",
              "    <tr>\n",
              "      <th>48789</th>\n",
              "      <td>臺南</td>\n",
              "      <td>臺南市</td>\n",
              "      <td>57.0</td>\n",
              "      <td>細懸浮微粒</td>\n",
              "      <td>普通</td>\n",
              "      <td>0.5</td>\n",
              "      <td>0.25</td>\n",
              "      <td>18.0</td>\n",
              "      <td>29.5</td>\n",
              "      <td>40.0</td>\n",
              "      <td>...</td>\n",
              "      <td>323</td>\n",
              "      <td>2023-05-31 19:00</td>\n",
              "      <td>NaN</td>\n",
              "      <td>0.2</td>\n",
              "      <td>18.0</td>\n",
              "      <td>51.0</td>\n",
              "      <td>1.0</td>\n",
              "      <td>120.220850</td>\n",
              "      <td>22.991230</td>\n",
              "      <td>46.0</td>\n",
              "    </tr>\n",
              "    <tr>\n",
              "      <th>48790</th>\n",
              "      <td>臺南</td>\n",
              "      <td>臺南市</td>\n",
              "      <td>55.0</td>\n",
              "      <td>細懸浮微粒</td>\n",
              "      <td>普通</td>\n",
              "      <td>0.5</td>\n",
              "      <td>0.26</td>\n",
              "      <td>15.1</td>\n",
              "      <td>24.7</td>\n",
              "      <td>35.0</td>\n",
              "      <td>...</td>\n",
              "      <td>353</td>\n",
              "      <td>2023-05-31 20:00</td>\n",
              "      <td>NaN</td>\n",
              "      <td>0.2</td>\n",
              "      <td>17.0</td>\n",
              "      <td>50.0</td>\n",
              "      <td>1.0</td>\n",
              "      <td>120.220850</td>\n",
              "      <td>22.991230</td>\n",
              "      <td>46.0</td>\n",
              "    </tr>\n",
              "    <tr>\n",
              "      <th>48791</th>\n",
              "      <td>臺南</td>\n",
              "      <td>臺南市</td>\n",
              "      <td>49.0</td>\n",
              "      <td>NaN</td>\n",
              "      <td>良好</td>\n",
              "      <td>0.4</td>\n",
              "      <td>0.25</td>\n",
              "      <td>14.1</td>\n",
              "      <td>21.2</td>\n",
              "      <td>24.0</td>\n",
              "      <td>...</td>\n",
              "      <td>352</td>\n",
              "      <td>2023-05-31 21:00</td>\n",
              "      <td>NaN</td>\n",
              "      <td>0.2</td>\n",
              "      <td>15.0</td>\n",
              "      <td>45.0</td>\n",
              "      <td>1.0</td>\n",
              "      <td>120.220850</td>\n",
              "      <td>22.991230</td>\n",
              "      <td>46.0</td>\n",
              "    </tr>\n",
              "    <tr>\n",
              "      <th>48792</th>\n",
              "      <td>臺南</td>\n",
              "      <td>臺南市</td>\n",
              "      <td>44.0</td>\n",
              "      <td>NaN</td>\n",
              "      <td>良好</td>\n",
              "      <td>0.5</td>\n",
              "      <td>0.22</td>\n",
              "      <td>12.1</td>\n",
              "      <td>17.2</td>\n",
              "      <td>25.0</td>\n",
              "      <td>...</td>\n",
              "      <td>355</td>\n",
              "      <td>2023-05-31 22:00</td>\n",
              "      <td>NaN</td>\n",
              "      <td>0.2</td>\n",
              "      <td>14.0</td>\n",
              "      <td>39.0</td>\n",
              "      <td>1.0</td>\n",
              "      <td>120.220850</td>\n",
              "      <td>22.991230</td>\n",
              "      <td>46.0</td>\n",
              "    </tr>\n",
              "    <tr>\n",
              "      <th>48793</th>\n",
              "      <td>臺南</td>\n",
              "      <td>臺南市</td>\n",
              "      <td>41.0</td>\n",
              "      <td>NaN</td>\n",
              "      <td>良好</td>\n",
              "      <td>0.4</td>\n",
              "      <td>0.22</td>\n",
              "      <td>10.6</td>\n",
              "      <td>16.3</td>\n",
              "      <td>30.0</td>\n",
              "      <td>...</td>\n",
              "      <td>358</td>\n",
              "      <td>2023-05-31 23:00</td>\n",
              "      <td>NaN</td>\n",
              "      <td>0.2</td>\n",
              "      <td>13.0</td>\n",
              "      <td>36.0</td>\n",
              "      <td>1.0</td>\n",
              "      <td>120.220850</td>\n",
              "      <td>22.991230</td>\n",
              "      <td>46.0</td>\n",
              "    </tr>\n",
              "  </tbody>\n",
              "</table>\n",
              "<p>48794 rows × 25 columns</p>\n",
              "</div>\n",
              "      <button class=\"colab-df-convert\" onclick=\"convertToInteractive('df-f5226098-256d-4dee-bdf6-d3effeff0f75')\"\n",
              "              title=\"Convert this dataframe to an interactive table.\"\n",
              "              style=\"display:none;\">\n",
              "        \n",
              "  <svg xmlns=\"http://www.w3.org/2000/svg\" height=\"24px\"viewBox=\"0 0 24 24\"\n",
              "       width=\"24px\">\n",
              "    <path d=\"M0 0h24v24H0V0z\" fill=\"none\"/>\n",
              "    <path d=\"M18.56 5.44l.94 2.06.94-2.06 2.06-.94-2.06-.94-.94-2.06-.94 2.06-2.06.94zm-11 1L8.5 8.5l.94-2.06 2.06-.94-2.06-.94L8.5 2.5l-.94 2.06-2.06.94zm10 10l.94 2.06.94-2.06 2.06-.94-2.06-.94-.94-2.06-.94 2.06-2.06.94z\"/><path d=\"M17.41 7.96l-1.37-1.37c-.4-.4-.92-.59-1.43-.59-.52 0-1.04.2-1.43.59L10.3 9.45l-7.72 7.72c-.78.78-.78 2.05 0 2.83L4 21.41c.39.39.9.59 1.41.59.51 0 1.02-.2 1.41-.59l7.78-7.78 2.81-2.81c.8-.78.8-2.07 0-2.86zM5.41 20L4 18.59l7.72-7.72 1.47 1.35L5.41 20z\"/>\n",
              "  </svg>\n",
              "      </button>\n",
              "      \n",
              "  <style>\n",
              "    .colab-df-container {\n",
              "      display:flex;\n",
              "      flex-wrap:wrap;\n",
              "      gap: 12px;\n",
              "    }\n",
              "\n",
              "    .colab-df-convert {\n",
              "      background-color: #E8F0FE;\n",
              "      border: none;\n",
              "      border-radius: 50%;\n",
              "      cursor: pointer;\n",
              "      display: none;\n",
              "      fill: #1967D2;\n",
              "      height: 32px;\n",
              "      padding: 0 0 0 0;\n",
              "      width: 32px;\n",
              "    }\n",
              "\n",
              "    .colab-df-convert:hover {\n",
              "      background-color: #E2EBFA;\n",
              "      box-shadow: 0px 1px 2px rgba(60, 64, 67, 0.3), 0px 1px 3px 1px rgba(60, 64, 67, 0.15);\n",
              "      fill: #174EA6;\n",
              "    }\n",
              "\n",
              "    [theme=dark] .colab-df-convert {\n",
              "      background-color: #3B4455;\n",
              "      fill: #D2E3FC;\n",
              "    }\n",
              "\n",
              "    [theme=dark] .colab-df-convert:hover {\n",
              "      background-color: #434B5C;\n",
              "      box-shadow: 0px 1px 3px 1px rgba(0, 0, 0, 0.15);\n",
              "      filter: drop-shadow(0px 1px 2px rgba(0, 0, 0, 0.3));\n",
              "      fill: #FFFFFF;\n",
              "    }\n",
              "  </style>\n",
              "\n",
              "      <script>\n",
              "        const buttonEl =\n",
              "          document.querySelector('#df-f5226098-256d-4dee-bdf6-d3effeff0f75 button.colab-df-convert');\n",
              "        buttonEl.style.display =\n",
              "          google.colab.kernel.accessAllowed ? 'block' : 'none';\n",
              "\n",
              "        async function convertToInteractive(key) {\n",
              "          const element = document.querySelector('#df-f5226098-256d-4dee-bdf6-d3effeff0f75');\n",
              "          const dataTable =\n",
              "            await google.colab.kernel.invokeFunction('convertToInteractive',\n",
              "                                                     [key], {});\n",
              "          if (!dataTable) return;\n",
              "\n",
              "          const docLinkHtml = 'Like what you see? Visit the ' +\n",
              "            '<a target=\"_blank\" href=https://colab.research.google.com/notebooks/data_table.ipynb>data table notebook</a>'\n",
              "            + ' to learn more about interactive tables.';\n",
              "          element.innerHTML = '';\n",
              "          dataTable['output_type'] = 'display_data';\n",
              "          await google.colab.output.renderOutput(dataTable, element);\n",
              "          const docLink = document.createElement('div');\n",
              "          docLink.innerHTML = docLinkHtml;\n",
              "          element.appendChild(docLink);\n",
              "        }\n",
              "      </script>\n",
              "    </div>\n",
              "  </div>\n",
              "  "
            ]
          },
          "metadata": {},
          "execution_count": 9
        }
      ]
    },
    {
      "cell_type": "markdown",
      "source": [
        "Pick columns needed"
      ],
      "metadata": {
        "id": "_n9gofvxt2so"
      }
    },
    {
      "cell_type": "code",
      "source": [
        "cols_needed = ['\"aqi\"', '\"datacreationdate\"', '\"windspeed\"', '\"winddirec\"']\n",
        "train_data_use = train_data[cols_needed]\n",
        "test_data_use = test_data[cols_needed]"
      ],
      "metadata": {
        "id": "462HYR95tz6x"
      },
      "execution_count": 8,
      "outputs": []
    },
    {
      "cell_type": "code",
      "source": [
        "train_data_use"
      ],
      "metadata": {
        "colab": {
          "base_uri": "https://localhost:8080/",
          "height": 423
        },
        "id": "zQxoXHDouheN",
        "outputId": "a6d6680b-ff40-4fcf-ae12-dca220630851"
      },
      "execution_count": 9,
      "outputs": [
        {
          "output_type": "execute_result",
          "data": {
            "text/plain": [
              "       \"aqi\" \"datacreationdate\" \"windspeed\" \"winddirec\"\n",
              "0       22.0   2018-06-01 00:00         2.1       359.0\n",
              "1       24.0   2018-06-01 01:00         2.4         8.4\n",
              "2       24.0   2018-06-01 02:00         2.0         1.4\n",
              "3       23.0   2018-06-01 03:00         1.9       358.0\n",
              "4       22.0   2018-06-01 04:00         2.4        46.0\n",
              "...      ...                ...         ...         ...\n",
              "40089   24.0   2022-05-31 19:00           1         219\n",
              "40090   23.0   2022-05-31 20:00         1.4         219\n",
              "40091   22.0   2022-05-31 21:00         1.1         207\n",
              "40092   32.0   2022-05-31 22:00         0.7         187\n",
              "40093   19.0   2022-05-31 23:00         0.8         160\n",
              "\n",
              "[40094 rows x 4 columns]"
            ],
            "text/html": [
              "\n",
              "  <div id=\"df-0399e45d-799c-4c28-bd37-798225838ca1\">\n",
              "    <div class=\"colab-df-container\">\n",
              "      <div>\n",
              "<style scoped>\n",
              "    .dataframe tbody tr th:only-of-type {\n",
              "        vertical-align: middle;\n",
              "    }\n",
              "\n",
              "    .dataframe tbody tr th {\n",
              "        vertical-align: top;\n",
              "    }\n",
              "\n",
              "    .dataframe thead th {\n",
              "        text-align: right;\n",
              "    }\n",
              "</style>\n",
              "<table border=\"1\" class=\"dataframe\">\n",
              "  <thead>\n",
              "    <tr style=\"text-align: right;\">\n",
              "      <th></th>\n",
              "      <th>\"aqi\"</th>\n",
              "      <th>\"datacreationdate\"</th>\n",
              "      <th>\"windspeed\"</th>\n",
              "      <th>\"winddirec\"</th>\n",
              "    </tr>\n",
              "  </thead>\n",
              "  <tbody>\n",
              "    <tr>\n",
              "      <th>0</th>\n",
              "      <td>22.0</td>\n",
              "      <td>2018-06-01 00:00</td>\n",
              "      <td>2.1</td>\n",
              "      <td>359.0</td>\n",
              "    </tr>\n",
              "    <tr>\n",
              "      <th>1</th>\n",
              "      <td>24.0</td>\n",
              "      <td>2018-06-01 01:00</td>\n",
              "      <td>2.4</td>\n",
              "      <td>8.4</td>\n",
              "    </tr>\n",
              "    <tr>\n",
              "      <th>2</th>\n",
              "      <td>24.0</td>\n",
              "      <td>2018-06-01 02:00</td>\n",
              "      <td>2.0</td>\n",
              "      <td>1.4</td>\n",
              "    </tr>\n",
              "    <tr>\n",
              "      <th>3</th>\n",
              "      <td>23.0</td>\n",
              "      <td>2018-06-01 03:00</td>\n",
              "      <td>1.9</td>\n",
              "      <td>358.0</td>\n",
              "    </tr>\n",
              "    <tr>\n",
              "      <th>4</th>\n",
              "      <td>22.0</td>\n",
              "      <td>2018-06-01 04:00</td>\n",
              "      <td>2.4</td>\n",
              "      <td>46.0</td>\n",
              "    </tr>\n",
              "    <tr>\n",
              "      <th>...</th>\n",
              "      <td>...</td>\n",
              "      <td>...</td>\n",
              "      <td>...</td>\n",
              "      <td>...</td>\n",
              "    </tr>\n",
              "    <tr>\n",
              "      <th>40089</th>\n",
              "      <td>24.0</td>\n",
              "      <td>2022-05-31 19:00</td>\n",
              "      <td>1</td>\n",
              "      <td>219</td>\n",
              "    </tr>\n",
              "    <tr>\n",
              "      <th>40090</th>\n",
              "      <td>23.0</td>\n",
              "      <td>2022-05-31 20:00</td>\n",
              "      <td>1.4</td>\n",
              "      <td>219</td>\n",
              "    </tr>\n",
              "    <tr>\n",
              "      <th>40091</th>\n",
              "      <td>22.0</td>\n",
              "      <td>2022-05-31 21:00</td>\n",
              "      <td>1.1</td>\n",
              "      <td>207</td>\n",
              "    </tr>\n",
              "    <tr>\n",
              "      <th>40092</th>\n",
              "      <td>32.0</td>\n",
              "      <td>2022-05-31 22:00</td>\n",
              "      <td>0.7</td>\n",
              "      <td>187</td>\n",
              "    </tr>\n",
              "    <tr>\n",
              "      <th>40093</th>\n",
              "      <td>19.0</td>\n",
              "      <td>2022-05-31 23:00</td>\n",
              "      <td>0.8</td>\n",
              "      <td>160</td>\n",
              "    </tr>\n",
              "  </tbody>\n",
              "</table>\n",
              "<p>40094 rows × 4 columns</p>\n",
              "</div>\n",
              "      <button class=\"colab-df-convert\" onclick=\"convertToInteractive('df-0399e45d-799c-4c28-bd37-798225838ca1')\"\n",
              "              title=\"Convert this dataframe to an interactive table.\"\n",
              "              style=\"display:none;\">\n",
              "        \n",
              "  <svg xmlns=\"http://www.w3.org/2000/svg\" height=\"24px\"viewBox=\"0 0 24 24\"\n",
              "       width=\"24px\">\n",
              "    <path d=\"M0 0h24v24H0V0z\" fill=\"none\"/>\n",
              "    <path d=\"M18.56 5.44l.94 2.06.94-2.06 2.06-.94-2.06-.94-.94-2.06-.94 2.06-2.06.94zm-11 1L8.5 8.5l.94-2.06 2.06-.94-2.06-.94L8.5 2.5l-.94 2.06-2.06.94zm10 10l.94 2.06.94-2.06 2.06-.94-2.06-.94-.94-2.06-.94 2.06-2.06.94z\"/><path d=\"M17.41 7.96l-1.37-1.37c-.4-.4-.92-.59-1.43-.59-.52 0-1.04.2-1.43.59L10.3 9.45l-7.72 7.72c-.78.78-.78 2.05 0 2.83L4 21.41c.39.39.9.59 1.41.59.51 0 1.02-.2 1.41-.59l7.78-7.78 2.81-2.81c.8-.78.8-2.07 0-2.86zM5.41 20L4 18.59l7.72-7.72 1.47 1.35L5.41 20z\"/>\n",
              "  </svg>\n",
              "      </button>\n",
              "      \n",
              "  <style>\n",
              "    .colab-df-container {\n",
              "      display:flex;\n",
              "      flex-wrap:wrap;\n",
              "      gap: 12px;\n",
              "    }\n",
              "\n",
              "    .colab-df-convert {\n",
              "      background-color: #E8F0FE;\n",
              "      border: none;\n",
              "      border-radius: 50%;\n",
              "      cursor: pointer;\n",
              "      display: none;\n",
              "      fill: #1967D2;\n",
              "      height: 32px;\n",
              "      padding: 0 0 0 0;\n",
              "      width: 32px;\n",
              "    }\n",
              "\n",
              "    .colab-df-convert:hover {\n",
              "      background-color: #E2EBFA;\n",
              "      box-shadow: 0px 1px 2px rgba(60, 64, 67, 0.3), 0px 1px 3px 1px rgba(60, 64, 67, 0.15);\n",
              "      fill: #174EA6;\n",
              "    }\n",
              "\n",
              "    [theme=dark] .colab-df-convert {\n",
              "      background-color: #3B4455;\n",
              "      fill: #D2E3FC;\n",
              "    }\n",
              "\n",
              "    [theme=dark] .colab-df-convert:hover {\n",
              "      background-color: #434B5C;\n",
              "      box-shadow: 0px 1px 3px 1px rgba(0, 0, 0, 0.15);\n",
              "      filter: drop-shadow(0px 1px 2px rgba(0, 0, 0, 0.3));\n",
              "      fill: #FFFFFF;\n",
              "    }\n",
              "  </style>\n",
              "\n",
              "      <script>\n",
              "        const buttonEl =\n",
              "          document.querySelector('#df-0399e45d-799c-4c28-bd37-798225838ca1 button.colab-df-convert');\n",
              "        buttonEl.style.display =\n",
              "          google.colab.kernel.accessAllowed ? 'block' : 'none';\n",
              "\n",
              "        async function convertToInteractive(key) {\n",
              "          const element = document.querySelector('#df-0399e45d-799c-4c28-bd37-798225838ca1');\n",
              "          const dataTable =\n",
              "            await google.colab.kernel.invokeFunction('convertToInteractive',\n",
              "                                                     [key], {});\n",
              "          if (!dataTable) return;\n",
              "\n",
              "          const docLinkHtml = 'Like what you see? Visit the ' +\n",
              "            '<a target=\"_blank\" href=https://colab.research.google.com/notebooks/data_table.ipynb>data table notebook</a>'\n",
              "            + ' to learn more about interactive tables.';\n",
              "          element.innerHTML = '';\n",
              "          dataTable['output_type'] = 'display_data';\n",
              "          await google.colab.output.renderOutput(dataTable, element);\n",
              "          const docLink = document.createElement('div');\n",
              "          docLink.innerHTML = docLinkHtml;\n",
              "          element.appendChild(docLink);\n",
              "        }\n",
              "      </script>\n",
              "    </div>\n",
              "  </div>\n",
              "  "
            ]
          },
          "metadata": {},
          "execution_count": 9
        }
      ]
    },
    {
      "cell_type": "code",
      "source": [
        "test_data_use"
      ],
      "metadata": {
        "colab": {
          "base_uri": "https://localhost:8080/",
          "height": 423
        },
        "id": "ciDCjrH4uk30",
        "outputId": "d3a7a9cf-24f7-4140-ed42-127d4b615d31"
      },
      "execution_count": 10,
      "outputs": [
        {
          "output_type": "execute_result",
          "data": {
            "text/plain": [
              "      \"aqi\" \"datacreationdate\" \"windspeed\" \"winddirec\"\n",
              "0      18.0   2022-06-01 00:00         0.8         157\n",
              "1      22.0   2022-06-01 01:00         0.8         172\n",
              "2      23.0   2022-06-01 02:00           1         169\n",
              "3      27.0   2022-06-01 03:00         1.5         143\n",
              "4      31.0   2022-06-01 04:00         1.9         139\n",
              "...     ...                ...         ...         ...\n",
              "8695   57.0   2023-05-31 19:00         0.5         323\n",
              "8696   55.0   2023-05-31 20:00         0.7         353\n",
              "8697   49.0   2023-05-31 21:00         0.6         352\n",
              "8698   44.0   2023-05-31 22:00         0.6         355\n",
              "8699   41.0   2023-05-31 23:00         0.7         358\n",
              "\n",
              "[8700 rows x 4 columns]"
            ],
            "text/html": [
              "\n",
              "  <div id=\"df-edcd2e98-ed51-4819-b167-d85e63de0009\">\n",
              "    <div class=\"colab-df-container\">\n",
              "      <div>\n",
              "<style scoped>\n",
              "    .dataframe tbody tr th:only-of-type {\n",
              "        vertical-align: middle;\n",
              "    }\n",
              "\n",
              "    .dataframe tbody tr th {\n",
              "        vertical-align: top;\n",
              "    }\n",
              "\n",
              "    .dataframe thead th {\n",
              "        text-align: right;\n",
              "    }\n",
              "</style>\n",
              "<table border=\"1\" class=\"dataframe\">\n",
              "  <thead>\n",
              "    <tr style=\"text-align: right;\">\n",
              "      <th></th>\n",
              "      <th>\"aqi\"</th>\n",
              "      <th>\"datacreationdate\"</th>\n",
              "      <th>\"windspeed\"</th>\n",
              "      <th>\"winddirec\"</th>\n",
              "    </tr>\n",
              "  </thead>\n",
              "  <tbody>\n",
              "    <tr>\n",
              "      <th>0</th>\n",
              "      <td>18.0</td>\n",
              "      <td>2022-06-01 00:00</td>\n",
              "      <td>0.8</td>\n",
              "      <td>157</td>\n",
              "    </tr>\n",
              "    <tr>\n",
              "      <th>1</th>\n",
              "      <td>22.0</td>\n",
              "      <td>2022-06-01 01:00</td>\n",
              "      <td>0.8</td>\n",
              "      <td>172</td>\n",
              "    </tr>\n",
              "    <tr>\n",
              "      <th>2</th>\n",
              "      <td>23.0</td>\n",
              "      <td>2022-06-01 02:00</td>\n",
              "      <td>1</td>\n",
              "      <td>169</td>\n",
              "    </tr>\n",
              "    <tr>\n",
              "      <th>3</th>\n",
              "      <td>27.0</td>\n",
              "      <td>2022-06-01 03:00</td>\n",
              "      <td>1.5</td>\n",
              "      <td>143</td>\n",
              "    </tr>\n",
              "    <tr>\n",
              "      <th>4</th>\n",
              "      <td>31.0</td>\n",
              "      <td>2022-06-01 04:00</td>\n",
              "      <td>1.9</td>\n",
              "      <td>139</td>\n",
              "    </tr>\n",
              "    <tr>\n",
              "      <th>...</th>\n",
              "      <td>...</td>\n",
              "      <td>...</td>\n",
              "      <td>...</td>\n",
              "      <td>...</td>\n",
              "    </tr>\n",
              "    <tr>\n",
              "      <th>8695</th>\n",
              "      <td>57.0</td>\n",
              "      <td>2023-05-31 19:00</td>\n",
              "      <td>0.5</td>\n",
              "      <td>323</td>\n",
              "    </tr>\n",
              "    <tr>\n",
              "      <th>8696</th>\n",
              "      <td>55.0</td>\n",
              "      <td>2023-05-31 20:00</td>\n",
              "      <td>0.7</td>\n",
              "      <td>353</td>\n",
              "    </tr>\n",
              "    <tr>\n",
              "      <th>8697</th>\n",
              "      <td>49.0</td>\n",
              "      <td>2023-05-31 21:00</td>\n",
              "      <td>0.6</td>\n",
              "      <td>352</td>\n",
              "    </tr>\n",
              "    <tr>\n",
              "      <th>8698</th>\n",
              "      <td>44.0</td>\n",
              "      <td>2023-05-31 22:00</td>\n",
              "      <td>0.6</td>\n",
              "      <td>355</td>\n",
              "    </tr>\n",
              "    <tr>\n",
              "      <th>8699</th>\n",
              "      <td>41.0</td>\n",
              "      <td>2023-05-31 23:00</td>\n",
              "      <td>0.7</td>\n",
              "      <td>358</td>\n",
              "    </tr>\n",
              "  </tbody>\n",
              "</table>\n",
              "<p>8700 rows × 4 columns</p>\n",
              "</div>\n",
              "      <button class=\"colab-df-convert\" onclick=\"convertToInteractive('df-edcd2e98-ed51-4819-b167-d85e63de0009')\"\n",
              "              title=\"Convert this dataframe to an interactive table.\"\n",
              "              style=\"display:none;\">\n",
              "        \n",
              "  <svg xmlns=\"http://www.w3.org/2000/svg\" height=\"24px\"viewBox=\"0 0 24 24\"\n",
              "       width=\"24px\">\n",
              "    <path d=\"M0 0h24v24H0V0z\" fill=\"none\"/>\n",
              "    <path d=\"M18.56 5.44l.94 2.06.94-2.06 2.06-.94-2.06-.94-.94-2.06-.94 2.06-2.06.94zm-11 1L8.5 8.5l.94-2.06 2.06-.94-2.06-.94L8.5 2.5l-.94 2.06-2.06.94zm10 10l.94 2.06.94-2.06 2.06-.94-2.06-.94-.94-2.06-.94 2.06-2.06.94z\"/><path d=\"M17.41 7.96l-1.37-1.37c-.4-.4-.92-.59-1.43-.59-.52 0-1.04.2-1.43.59L10.3 9.45l-7.72 7.72c-.78.78-.78 2.05 0 2.83L4 21.41c.39.39.9.59 1.41.59.51 0 1.02-.2 1.41-.59l7.78-7.78 2.81-2.81c.8-.78.8-2.07 0-2.86zM5.41 20L4 18.59l7.72-7.72 1.47 1.35L5.41 20z\"/>\n",
              "  </svg>\n",
              "      </button>\n",
              "      \n",
              "  <style>\n",
              "    .colab-df-container {\n",
              "      display:flex;\n",
              "      flex-wrap:wrap;\n",
              "      gap: 12px;\n",
              "    }\n",
              "\n",
              "    .colab-df-convert {\n",
              "      background-color: #E8F0FE;\n",
              "      border: none;\n",
              "      border-radius: 50%;\n",
              "      cursor: pointer;\n",
              "      display: none;\n",
              "      fill: #1967D2;\n",
              "      height: 32px;\n",
              "      padding: 0 0 0 0;\n",
              "      width: 32px;\n",
              "    }\n",
              "\n",
              "    .colab-df-convert:hover {\n",
              "      background-color: #E2EBFA;\n",
              "      box-shadow: 0px 1px 2px rgba(60, 64, 67, 0.3), 0px 1px 3px 1px rgba(60, 64, 67, 0.15);\n",
              "      fill: #174EA6;\n",
              "    }\n",
              "\n",
              "    [theme=dark] .colab-df-convert {\n",
              "      background-color: #3B4455;\n",
              "      fill: #D2E3FC;\n",
              "    }\n",
              "\n",
              "    [theme=dark] .colab-df-convert:hover {\n",
              "      background-color: #434B5C;\n",
              "      box-shadow: 0px 1px 3px 1px rgba(0, 0, 0, 0.15);\n",
              "      filter: drop-shadow(0px 1px 2px rgba(0, 0, 0, 0.3));\n",
              "      fill: #FFFFFF;\n",
              "    }\n",
              "  </style>\n",
              "\n",
              "      <script>\n",
              "        const buttonEl =\n",
              "          document.querySelector('#df-edcd2e98-ed51-4819-b167-d85e63de0009 button.colab-df-convert');\n",
              "        buttonEl.style.display =\n",
              "          google.colab.kernel.accessAllowed ? 'block' : 'none';\n",
              "\n",
              "        async function convertToInteractive(key) {\n",
              "          const element = document.querySelector('#df-edcd2e98-ed51-4819-b167-d85e63de0009');\n",
              "          const dataTable =\n",
              "            await google.colab.kernel.invokeFunction('convertToInteractive',\n",
              "                                                     [key], {});\n",
              "          if (!dataTable) return;\n",
              "\n",
              "          const docLinkHtml = 'Like what you see? Visit the ' +\n",
              "            '<a target=\"_blank\" href=https://colab.research.google.com/notebooks/data_table.ipynb>data table notebook</a>'\n",
              "            + ' to learn more about interactive tables.';\n",
              "          element.innerHTML = '';\n",
              "          dataTable['output_type'] = 'display_data';\n",
              "          await google.colab.output.renderOutput(dataTable, element);\n",
              "          const docLink = document.createElement('div');\n",
              "          docLink.innerHTML = docLinkHtml;\n",
              "          element.appendChild(docLink);\n",
              "        }\n",
              "      </script>\n",
              "    </div>\n",
              "  </div>\n",
              "  "
            ]
          },
          "metadata": {},
          "execution_count": 10
        }
      ]
    },
    {
      "cell_type": "markdown",
      "source": [
        "Merge weather data"
      ],
      "metadata": {
        "id": "LqiuLkknuqcT"
      }
    },
    {
      "cell_type": "code",
      "source": [
        "weather_1 = pd.read_csv('/content/drive/MyDrive/BigDataAnalyticsandDataMining/Final/tainan_weather.csv')\n",
        "weather_2 = pd.read_csv('/content/drive/MyDrive/BigDataAnalyticsandDataMining/Final/tainan_weather-1.csv')"
      ],
      "metadata": {
        "id": "Zp6E2l4F1XaN"
      },
      "execution_count": 11,
      "outputs": []
    },
    {
      "cell_type": "code",
      "source": [
        "weather_1"
      ],
      "metadata": {
        "id": "Jmdru1Jq2EGP"
      },
      "execution_count": null,
      "outputs": []
    },
    {
      "cell_type": "code",
      "source": [
        "weather_2"
      ],
      "metadata": {
        "id": "GPe0wP1p2JfY"
      },
      "execution_count": null,
      "outputs": []
    },
    {
      "cell_type": "code",
      "source": [
        "# Keep only AQI related columns\n",
        "cols_needed = ['觀測時間(hour)', '氣溫(℃)', '相對溼度(%)', '最大陣風(m/s)', '降水量(mm)', '降水時數(h)']\n",
        "weather_1 = weather_1[cols_needed]\n",
        "weather_2 = weather_2[cols_needed]"
      ],
      "metadata": {
        "id": "h_2ZuW_D2aWg"
      },
      "execution_count": 12,
      "outputs": []
    },
    {
      "cell_type": "code",
      "source": [
        "# Turn weather 1 into data format\n",
        "start_date = pd.to_datetime('2018-06-01')\n",
        "end_date = pd.to_datetime('2020-06-12') + pd.DateOffset(days=1) - pd.DateOffset(minutes=1)\n",
        "date_range = pd.date_range(start=start_date, end=end_date, freq='H')\n",
        "weather_1['觀測時間(hour)'] = date_range.strftime('%Y-%m-%d ') + (weather_1['觀測時間(hour)'] - 1).astype(str).str.zfill(2) + ':00'\n",
        "# Turn weather 2 into data format\n",
        "start_date = pd.to_datetime('2020-06-13')\n",
        "end_date = pd.to_datetime('2023-05-31') + pd.DateOffset(days=1) - pd.DateOffset(minutes=1)\n",
        "date_range = pd.date_range(start=start_date, end=end_date, freq='H')\n",
        "weather_2['觀測時間(hour)'] = date_range.strftime('%Y-%m-%d ') + (weather_2['觀測時間(hour)'] - 1).astype(str).str.zfill(2) + ':00'"
      ],
      "metadata": {
        "id": "T8qK74_Y2T4o"
      },
      "execution_count": 13,
      "outputs": []
    },
    {
      "cell_type": "code",
      "source": [
        "weather = pd.concat([weather_1,weather_2], axis=0, ignore_index=True)\n",
        "weather"
      ],
      "metadata": {
        "colab": {
          "base_uri": "https://localhost:8080/",
          "height": 423
        },
        "id": "m8Toj9Tw2ViO",
        "outputId": "219d044f-a3b9-4b74-85a9-b32d6ef57b3f"
      },
      "execution_count": 14,
      "outputs": [
        {
          "output_type": "execute_result",
          "data": {
            "text/plain": [
              "             觀測時間(hour) 氣溫(℃) 相對溼度(%) 最大陣風(m/s) 降水量(mm)  降水時數(h)\n",
              "0      2018-06-01 00:00  29.2      76       7.5     0.0      0.0\n",
              "1      2018-06-01 01:00  28.8      78       7.1     0.0      0.0\n",
              "2      2018-06-01 02:00  29.0      77       5.1     0.0      0.0\n",
              "3      2018-06-01 03:00  28.6      79       5.3     0.0      0.0\n",
              "4      2018-06-01 04:00  28.5      79       5.9     0.0      0.0\n",
              "...                 ...   ...     ...       ...     ...      ...\n",
              "43819  2023-05-31 19:00  28.7      74       9.3     0.0      0.0\n",
              "43820  2023-05-31 20:00  28.4      77       8.2     0.0      0.0\n",
              "43821  2023-05-31 21:00  28.0      79       9.3     0.0      0.0\n",
              "43822  2023-05-31 22:00  27.8      81       6.5     0.0      0.0\n",
              "43823  2023-05-31 23:00  27.6      81       6.1     0.0      0.0\n",
              "\n",
              "[43824 rows x 6 columns]"
            ],
            "text/html": [
              "\n",
              "  <div id=\"df-a7937ef6-2586-4394-af96-594b22d48116\">\n",
              "    <div class=\"colab-df-container\">\n",
              "      <div>\n",
              "<style scoped>\n",
              "    .dataframe tbody tr th:only-of-type {\n",
              "        vertical-align: middle;\n",
              "    }\n",
              "\n",
              "    .dataframe tbody tr th {\n",
              "        vertical-align: top;\n",
              "    }\n",
              "\n",
              "    .dataframe thead th {\n",
              "        text-align: right;\n",
              "    }\n",
              "</style>\n",
              "<table border=\"1\" class=\"dataframe\">\n",
              "  <thead>\n",
              "    <tr style=\"text-align: right;\">\n",
              "      <th></th>\n",
              "      <th>觀測時間(hour)</th>\n",
              "      <th>氣溫(℃)</th>\n",
              "      <th>相對溼度(%)</th>\n",
              "      <th>最大陣風(m/s)</th>\n",
              "      <th>降水量(mm)</th>\n",
              "      <th>降水時數(h)</th>\n",
              "    </tr>\n",
              "  </thead>\n",
              "  <tbody>\n",
              "    <tr>\n",
              "      <th>0</th>\n",
              "      <td>2018-06-01 00:00</td>\n",
              "      <td>29.2</td>\n",
              "      <td>76</td>\n",
              "      <td>7.5</td>\n",
              "      <td>0.0</td>\n",
              "      <td>0.0</td>\n",
              "    </tr>\n",
              "    <tr>\n",
              "      <th>1</th>\n",
              "      <td>2018-06-01 01:00</td>\n",
              "      <td>28.8</td>\n",
              "      <td>78</td>\n",
              "      <td>7.1</td>\n",
              "      <td>0.0</td>\n",
              "      <td>0.0</td>\n",
              "    </tr>\n",
              "    <tr>\n",
              "      <th>2</th>\n",
              "      <td>2018-06-01 02:00</td>\n",
              "      <td>29.0</td>\n",
              "      <td>77</td>\n",
              "      <td>5.1</td>\n",
              "      <td>0.0</td>\n",
              "      <td>0.0</td>\n",
              "    </tr>\n",
              "    <tr>\n",
              "      <th>3</th>\n",
              "      <td>2018-06-01 03:00</td>\n",
              "      <td>28.6</td>\n",
              "      <td>79</td>\n",
              "      <td>5.3</td>\n",
              "      <td>0.0</td>\n",
              "      <td>0.0</td>\n",
              "    </tr>\n",
              "    <tr>\n",
              "      <th>4</th>\n",
              "      <td>2018-06-01 04:00</td>\n",
              "      <td>28.5</td>\n",
              "      <td>79</td>\n",
              "      <td>5.9</td>\n",
              "      <td>0.0</td>\n",
              "      <td>0.0</td>\n",
              "    </tr>\n",
              "    <tr>\n",
              "      <th>...</th>\n",
              "      <td>...</td>\n",
              "      <td>...</td>\n",
              "      <td>...</td>\n",
              "      <td>...</td>\n",
              "      <td>...</td>\n",
              "      <td>...</td>\n",
              "    </tr>\n",
              "    <tr>\n",
              "      <th>43819</th>\n",
              "      <td>2023-05-31 19:00</td>\n",
              "      <td>28.7</td>\n",
              "      <td>74</td>\n",
              "      <td>9.3</td>\n",
              "      <td>0.0</td>\n",
              "      <td>0.0</td>\n",
              "    </tr>\n",
              "    <tr>\n",
              "      <th>43820</th>\n",
              "      <td>2023-05-31 20:00</td>\n",
              "      <td>28.4</td>\n",
              "      <td>77</td>\n",
              "      <td>8.2</td>\n",
              "      <td>0.0</td>\n",
              "      <td>0.0</td>\n",
              "    </tr>\n",
              "    <tr>\n",
              "      <th>43821</th>\n",
              "      <td>2023-05-31 21:00</td>\n",
              "      <td>28.0</td>\n",
              "      <td>79</td>\n",
              "      <td>9.3</td>\n",
              "      <td>0.0</td>\n",
              "      <td>0.0</td>\n",
              "    </tr>\n",
              "    <tr>\n",
              "      <th>43822</th>\n",
              "      <td>2023-05-31 22:00</td>\n",
              "      <td>27.8</td>\n",
              "      <td>81</td>\n",
              "      <td>6.5</td>\n",
              "      <td>0.0</td>\n",
              "      <td>0.0</td>\n",
              "    </tr>\n",
              "    <tr>\n",
              "      <th>43823</th>\n",
              "      <td>2023-05-31 23:00</td>\n",
              "      <td>27.6</td>\n",
              "      <td>81</td>\n",
              "      <td>6.1</td>\n",
              "      <td>0.0</td>\n",
              "      <td>0.0</td>\n",
              "    </tr>\n",
              "  </tbody>\n",
              "</table>\n",
              "<p>43824 rows × 6 columns</p>\n",
              "</div>\n",
              "      <button class=\"colab-df-convert\" onclick=\"convertToInteractive('df-a7937ef6-2586-4394-af96-594b22d48116')\"\n",
              "              title=\"Convert this dataframe to an interactive table.\"\n",
              "              style=\"display:none;\">\n",
              "        \n",
              "  <svg xmlns=\"http://www.w3.org/2000/svg\" height=\"24px\"viewBox=\"0 0 24 24\"\n",
              "       width=\"24px\">\n",
              "    <path d=\"M0 0h24v24H0V0z\" fill=\"none\"/>\n",
              "    <path d=\"M18.56 5.44l.94 2.06.94-2.06 2.06-.94-2.06-.94-.94-2.06-.94 2.06-2.06.94zm-11 1L8.5 8.5l.94-2.06 2.06-.94-2.06-.94L8.5 2.5l-.94 2.06-2.06.94zm10 10l.94 2.06.94-2.06 2.06-.94-2.06-.94-.94-2.06-.94 2.06-2.06.94z\"/><path d=\"M17.41 7.96l-1.37-1.37c-.4-.4-.92-.59-1.43-.59-.52 0-1.04.2-1.43.59L10.3 9.45l-7.72 7.72c-.78.78-.78 2.05 0 2.83L4 21.41c.39.39.9.59 1.41.59.51 0 1.02-.2 1.41-.59l7.78-7.78 2.81-2.81c.8-.78.8-2.07 0-2.86zM5.41 20L4 18.59l7.72-7.72 1.47 1.35L5.41 20z\"/>\n",
              "  </svg>\n",
              "      </button>\n",
              "      \n",
              "  <style>\n",
              "    .colab-df-container {\n",
              "      display:flex;\n",
              "      flex-wrap:wrap;\n",
              "      gap: 12px;\n",
              "    }\n",
              "\n",
              "    .colab-df-convert {\n",
              "      background-color: #E8F0FE;\n",
              "      border: none;\n",
              "      border-radius: 50%;\n",
              "      cursor: pointer;\n",
              "      display: none;\n",
              "      fill: #1967D2;\n",
              "      height: 32px;\n",
              "      padding: 0 0 0 0;\n",
              "      width: 32px;\n",
              "    }\n",
              "\n",
              "    .colab-df-convert:hover {\n",
              "      background-color: #E2EBFA;\n",
              "      box-shadow: 0px 1px 2px rgba(60, 64, 67, 0.3), 0px 1px 3px 1px rgba(60, 64, 67, 0.15);\n",
              "      fill: #174EA6;\n",
              "    }\n",
              "\n",
              "    [theme=dark] .colab-df-convert {\n",
              "      background-color: #3B4455;\n",
              "      fill: #D2E3FC;\n",
              "    }\n",
              "\n",
              "    [theme=dark] .colab-df-convert:hover {\n",
              "      background-color: #434B5C;\n",
              "      box-shadow: 0px 1px 3px 1px rgba(0, 0, 0, 0.15);\n",
              "      filter: drop-shadow(0px 1px 2px rgba(0, 0, 0, 0.3));\n",
              "      fill: #FFFFFF;\n",
              "    }\n",
              "  </style>\n",
              "\n",
              "      <script>\n",
              "        const buttonEl =\n",
              "          document.querySelector('#df-a7937ef6-2586-4394-af96-594b22d48116 button.colab-df-convert');\n",
              "        buttonEl.style.display =\n",
              "          google.colab.kernel.accessAllowed ? 'block' : 'none';\n",
              "\n",
              "        async function convertToInteractive(key) {\n",
              "          const element = document.querySelector('#df-a7937ef6-2586-4394-af96-594b22d48116');\n",
              "          const dataTable =\n",
              "            await google.colab.kernel.invokeFunction('convertToInteractive',\n",
              "                                                     [key], {});\n",
              "          if (!dataTable) return;\n",
              "\n",
              "          const docLinkHtml = 'Like what you see? Visit the ' +\n",
              "            '<a target=\"_blank\" href=https://colab.research.google.com/notebooks/data_table.ipynb>data table notebook</a>'\n",
              "            + ' to learn more about interactive tables.';\n",
              "          element.innerHTML = '';\n",
              "          dataTable['output_type'] = 'display_data';\n",
              "          await google.colab.output.renderOutput(dataTable, element);\n",
              "          const docLink = document.createElement('div');\n",
              "          docLink.innerHTML = docLinkHtml;\n",
              "          element.appendChild(docLink);\n",
              "        }\n",
              "      </script>\n",
              "    </div>\n",
              "  </div>\n",
              "  "
            ]
          },
          "metadata": {},
          "execution_count": 14
        }
      ]
    },
    {
      "cell_type": "code",
      "source": [
        "# Merge weather data to train/test data\n",
        "train_data_use = train_data_use.merge(weather, left_on='\"datacreationdate\"', right_on='觀測時間(hour)', how='left')\n",
        "test_data_use = test_data_use.merge(weather, left_on='\"datacreationdate\"', right_on='觀測時間(hour)', how='left')\n",
        "train_data_use.drop(['觀測時間(hour)'], axis=1, inplace=True)\n",
        "test_data_use.drop(['觀測時間(hour)'], axis=1, inplace=True)"
      ],
      "metadata": {
        "id": "SoWaS3r6u0xQ"
      },
      "execution_count": 15,
      "outputs": []
    },
    {
      "cell_type": "code",
      "source": [
        "# Cleanse NAs of string format\n",
        "train_data_use.replace(['X','T','V','…'], np.nan, inplace=True)\n",
        "test_data_use.replace(['X','T','V','…'], np.nan, inplace=True)\n",
        "# Convert dtype to float \n",
        "convert_col = ['\"aqi\"','\"windspeed\"','\"winddirec\"','氣溫(℃)','相對溼度(%)','最大陣風(m/s)','降水量(mm)','降水時數(h)']\n",
        "train_data_use[convert_col] = train_data_use[convert_col].astype(float)\n",
        "test_data_use[convert_col] = test_data_use[convert_col].astype(float)"
      ],
      "metadata": {
        "id": "v1Zb63_eu5Tb"
      },
      "execution_count": 16,
      "outputs": []
    },
    {
      "cell_type": "code",
      "source": [
        "train_data_use"
      ],
      "metadata": {
        "colab": {
          "base_uri": "https://localhost:8080/",
          "height": 467
        },
        "id": "TjZt5maXvirP",
        "outputId": "47efecf5-eb4b-46f6-90bc-dc3926d7f441"
      },
      "execution_count": 17,
      "outputs": [
        {
          "output_type": "execute_result",
          "data": {
            "text/plain": [
              "       \"aqi\" \"datacreationdate\"  \"windspeed\"  \"winddirec\"  氣溫(℃)  相對溼度(%)  \\\n",
              "0       22.0   2018-06-01 00:00          2.1        359.0   29.2     76.0   \n",
              "1       24.0   2018-06-01 01:00          2.4          8.4   28.8     78.0   \n",
              "2       24.0   2018-06-01 02:00          2.0          1.4   29.0     77.0   \n",
              "3       23.0   2018-06-01 03:00          1.9        358.0   28.6     79.0   \n",
              "4       22.0   2018-06-01 04:00          2.4         46.0   28.5     79.0   \n",
              "...      ...                ...          ...          ...    ...      ...   \n",
              "40089   24.0   2022-05-31 19:00          1.0        219.0   29.3     77.0   \n",
              "40090   23.0   2022-05-31 20:00          1.4        219.0   29.2     76.0   \n",
              "40091   22.0   2022-05-31 21:00          1.1        207.0   29.2     78.0   \n",
              "40092   32.0   2022-05-31 22:00          0.7        187.0   29.1     74.0   \n",
              "40093   19.0   2022-05-31 23:00          0.8        160.0   28.5     81.0   \n",
              "\n",
              "       最大陣風(m/s)  降水量(mm)  降水時數(h)  \n",
              "0            7.5      0.0      0.0  \n",
              "1            7.1      0.0      0.0  \n",
              "2            5.1      0.0      0.0  \n",
              "3            5.3      0.0      0.0  \n",
              "4            5.9      0.0      0.0  \n",
              "...          ...      ...      ...  \n",
              "40089        4.0      0.0      0.0  \n",
              "40090        4.5      0.0      0.0  \n",
              "40091        4.3      0.0      0.0  \n",
              "40092        3.3      0.0      0.0  \n",
              "40093        3.8      0.0      0.0  \n",
              "\n",
              "[40094 rows x 9 columns]"
            ],
            "text/html": [
              "\n",
              "  <div id=\"df-bd298861-03e2-42a2-900c-847113486ae6\">\n",
              "    <div class=\"colab-df-container\">\n",
              "      <div>\n",
              "<style scoped>\n",
              "    .dataframe tbody tr th:only-of-type {\n",
              "        vertical-align: middle;\n",
              "    }\n",
              "\n",
              "    .dataframe tbody tr th {\n",
              "        vertical-align: top;\n",
              "    }\n",
              "\n",
              "    .dataframe thead th {\n",
              "        text-align: right;\n",
              "    }\n",
              "</style>\n",
              "<table border=\"1\" class=\"dataframe\">\n",
              "  <thead>\n",
              "    <tr style=\"text-align: right;\">\n",
              "      <th></th>\n",
              "      <th>\"aqi\"</th>\n",
              "      <th>\"datacreationdate\"</th>\n",
              "      <th>\"windspeed\"</th>\n",
              "      <th>\"winddirec\"</th>\n",
              "      <th>氣溫(℃)</th>\n",
              "      <th>相對溼度(%)</th>\n",
              "      <th>最大陣風(m/s)</th>\n",
              "      <th>降水量(mm)</th>\n",
              "      <th>降水時數(h)</th>\n",
              "    </tr>\n",
              "  </thead>\n",
              "  <tbody>\n",
              "    <tr>\n",
              "      <th>0</th>\n",
              "      <td>22.0</td>\n",
              "      <td>2018-06-01 00:00</td>\n",
              "      <td>2.1</td>\n",
              "      <td>359.0</td>\n",
              "      <td>29.2</td>\n",
              "      <td>76.0</td>\n",
              "      <td>7.5</td>\n",
              "      <td>0.0</td>\n",
              "      <td>0.0</td>\n",
              "    </tr>\n",
              "    <tr>\n",
              "      <th>1</th>\n",
              "      <td>24.0</td>\n",
              "      <td>2018-06-01 01:00</td>\n",
              "      <td>2.4</td>\n",
              "      <td>8.4</td>\n",
              "      <td>28.8</td>\n",
              "      <td>78.0</td>\n",
              "      <td>7.1</td>\n",
              "      <td>0.0</td>\n",
              "      <td>0.0</td>\n",
              "    </tr>\n",
              "    <tr>\n",
              "      <th>2</th>\n",
              "      <td>24.0</td>\n",
              "      <td>2018-06-01 02:00</td>\n",
              "      <td>2.0</td>\n",
              "      <td>1.4</td>\n",
              "      <td>29.0</td>\n",
              "      <td>77.0</td>\n",
              "      <td>5.1</td>\n",
              "      <td>0.0</td>\n",
              "      <td>0.0</td>\n",
              "    </tr>\n",
              "    <tr>\n",
              "      <th>3</th>\n",
              "      <td>23.0</td>\n",
              "      <td>2018-06-01 03:00</td>\n",
              "      <td>1.9</td>\n",
              "      <td>358.0</td>\n",
              "      <td>28.6</td>\n",
              "      <td>79.0</td>\n",
              "      <td>5.3</td>\n",
              "      <td>0.0</td>\n",
              "      <td>0.0</td>\n",
              "    </tr>\n",
              "    <tr>\n",
              "      <th>4</th>\n",
              "      <td>22.0</td>\n",
              "      <td>2018-06-01 04:00</td>\n",
              "      <td>2.4</td>\n",
              "      <td>46.0</td>\n",
              "      <td>28.5</td>\n",
              "      <td>79.0</td>\n",
              "      <td>5.9</td>\n",
              "      <td>0.0</td>\n",
              "      <td>0.0</td>\n",
              "    </tr>\n",
              "    <tr>\n",
              "      <th>...</th>\n",
              "      <td>...</td>\n",
              "      <td>...</td>\n",
              "      <td>...</td>\n",
              "      <td>...</td>\n",
              "      <td>...</td>\n",
              "      <td>...</td>\n",
              "      <td>...</td>\n",
              "      <td>...</td>\n",
              "      <td>...</td>\n",
              "    </tr>\n",
              "    <tr>\n",
              "      <th>40089</th>\n",
              "      <td>24.0</td>\n",
              "      <td>2022-05-31 19:00</td>\n",
              "      <td>1.0</td>\n",
              "      <td>219.0</td>\n",
              "      <td>29.3</td>\n",
              "      <td>77.0</td>\n",
              "      <td>4.0</td>\n",
              "      <td>0.0</td>\n",
              "      <td>0.0</td>\n",
              "    </tr>\n",
              "    <tr>\n",
              "      <th>40090</th>\n",
              "      <td>23.0</td>\n",
              "      <td>2022-05-31 20:00</td>\n",
              "      <td>1.4</td>\n",
              "      <td>219.0</td>\n",
              "      <td>29.2</td>\n",
              "      <td>76.0</td>\n",
              "      <td>4.5</td>\n",
              "      <td>0.0</td>\n",
              "      <td>0.0</td>\n",
              "    </tr>\n",
              "    <tr>\n",
              "      <th>40091</th>\n",
              "      <td>22.0</td>\n",
              "      <td>2022-05-31 21:00</td>\n",
              "      <td>1.1</td>\n",
              "      <td>207.0</td>\n",
              "      <td>29.2</td>\n",
              "      <td>78.0</td>\n",
              "      <td>4.3</td>\n",
              "      <td>0.0</td>\n",
              "      <td>0.0</td>\n",
              "    </tr>\n",
              "    <tr>\n",
              "      <th>40092</th>\n",
              "      <td>32.0</td>\n",
              "      <td>2022-05-31 22:00</td>\n",
              "      <td>0.7</td>\n",
              "      <td>187.0</td>\n",
              "      <td>29.1</td>\n",
              "      <td>74.0</td>\n",
              "      <td>3.3</td>\n",
              "      <td>0.0</td>\n",
              "      <td>0.0</td>\n",
              "    </tr>\n",
              "    <tr>\n",
              "      <th>40093</th>\n",
              "      <td>19.0</td>\n",
              "      <td>2022-05-31 23:00</td>\n",
              "      <td>0.8</td>\n",
              "      <td>160.0</td>\n",
              "      <td>28.5</td>\n",
              "      <td>81.0</td>\n",
              "      <td>3.8</td>\n",
              "      <td>0.0</td>\n",
              "      <td>0.0</td>\n",
              "    </tr>\n",
              "  </tbody>\n",
              "</table>\n",
              "<p>40094 rows × 9 columns</p>\n",
              "</div>\n",
              "      <button class=\"colab-df-convert\" onclick=\"convertToInteractive('df-bd298861-03e2-42a2-900c-847113486ae6')\"\n",
              "              title=\"Convert this dataframe to an interactive table.\"\n",
              "              style=\"display:none;\">\n",
              "        \n",
              "  <svg xmlns=\"http://www.w3.org/2000/svg\" height=\"24px\"viewBox=\"0 0 24 24\"\n",
              "       width=\"24px\">\n",
              "    <path d=\"M0 0h24v24H0V0z\" fill=\"none\"/>\n",
              "    <path d=\"M18.56 5.44l.94 2.06.94-2.06 2.06-.94-2.06-.94-.94-2.06-.94 2.06-2.06.94zm-11 1L8.5 8.5l.94-2.06 2.06-.94-2.06-.94L8.5 2.5l-.94 2.06-2.06.94zm10 10l.94 2.06.94-2.06 2.06-.94-2.06-.94-.94-2.06-.94 2.06-2.06.94z\"/><path d=\"M17.41 7.96l-1.37-1.37c-.4-.4-.92-.59-1.43-.59-.52 0-1.04.2-1.43.59L10.3 9.45l-7.72 7.72c-.78.78-.78 2.05 0 2.83L4 21.41c.39.39.9.59 1.41.59.51 0 1.02-.2 1.41-.59l7.78-7.78 2.81-2.81c.8-.78.8-2.07 0-2.86zM5.41 20L4 18.59l7.72-7.72 1.47 1.35L5.41 20z\"/>\n",
              "  </svg>\n",
              "      </button>\n",
              "      \n",
              "  <style>\n",
              "    .colab-df-container {\n",
              "      display:flex;\n",
              "      flex-wrap:wrap;\n",
              "      gap: 12px;\n",
              "    }\n",
              "\n",
              "    .colab-df-convert {\n",
              "      background-color: #E8F0FE;\n",
              "      border: none;\n",
              "      border-radius: 50%;\n",
              "      cursor: pointer;\n",
              "      display: none;\n",
              "      fill: #1967D2;\n",
              "      height: 32px;\n",
              "      padding: 0 0 0 0;\n",
              "      width: 32px;\n",
              "    }\n",
              "\n",
              "    .colab-df-convert:hover {\n",
              "      background-color: #E2EBFA;\n",
              "      box-shadow: 0px 1px 2px rgba(60, 64, 67, 0.3), 0px 1px 3px 1px rgba(60, 64, 67, 0.15);\n",
              "      fill: #174EA6;\n",
              "    }\n",
              "\n",
              "    [theme=dark] .colab-df-convert {\n",
              "      background-color: #3B4455;\n",
              "      fill: #D2E3FC;\n",
              "    }\n",
              "\n",
              "    [theme=dark] .colab-df-convert:hover {\n",
              "      background-color: #434B5C;\n",
              "      box-shadow: 0px 1px 3px 1px rgba(0, 0, 0, 0.15);\n",
              "      filter: drop-shadow(0px 1px 2px rgba(0, 0, 0, 0.3));\n",
              "      fill: #FFFFFF;\n",
              "    }\n",
              "  </style>\n",
              "\n",
              "      <script>\n",
              "        const buttonEl =\n",
              "          document.querySelector('#df-bd298861-03e2-42a2-900c-847113486ae6 button.colab-df-convert');\n",
              "        buttonEl.style.display =\n",
              "          google.colab.kernel.accessAllowed ? 'block' : 'none';\n",
              "\n",
              "        async function convertToInteractive(key) {\n",
              "          const element = document.querySelector('#df-bd298861-03e2-42a2-900c-847113486ae6');\n",
              "          const dataTable =\n",
              "            await google.colab.kernel.invokeFunction('convertToInteractive',\n",
              "                                                     [key], {});\n",
              "          if (!dataTable) return;\n",
              "\n",
              "          const docLinkHtml = 'Like what you see? Visit the ' +\n",
              "            '<a target=\"_blank\" href=https://colab.research.google.com/notebooks/data_table.ipynb>data table notebook</a>'\n",
              "            + ' to learn more about interactive tables.';\n",
              "          element.innerHTML = '';\n",
              "          dataTable['output_type'] = 'display_data';\n",
              "          await google.colab.output.renderOutput(dataTable, element);\n",
              "          const docLink = document.createElement('div');\n",
              "          docLink.innerHTML = docLinkHtml;\n",
              "          element.appendChild(docLink);\n",
              "        }\n",
              "      </script>\n",
              "    </div>\n",
              "  </div>\n",
              "  "
            ]
          },
          "metadata": {},
          "execution_count": 17
        }
      ]
    },
    {
      "cell_type": "markdown",
      "source": [
        "敘述統計"
      ],
      "metadata": {
        "id": "lSgba6hzSSTE"
      }
    },
    {
      "cell_type": "code",
      "source": [
        "df = pd.concat([train_data_use, test_data_use], axis=0, ignore_index=True)\n",
        "df"
      ],
      "metadata": {
        "colab": {
          "base_uri": "https://localhost:8080/",
          "height": 467
        },
        "id": "GX0wvQa6SWyo",
        "outputId": "05d9ff44-122a-4e09-800d-38ea26a223c4"
      },
      "execution_count": 34,
      "outputs": [
        {
          "output_type": "execute_result",
          "data": {
            "text/plain": [
              "       \"aqi\" \"datacreationdate\"  \"windspeed\"  \"winddirec\"  氣溫(℃)  相對溼度(%)  \\\n",
              "0       22.0   2018-06-01 00:00          2.1        359.0   29.2     76.0   \n",
              "1       24.0   2018-06-01 01:00          2.4          8.4   28.8     78.0   \n",
              "2       24.0   2018-06-01 02:00          2.0          1.4   29.0     77.0   \n",
              "3       23.0   2018-06-01 03:00          1.9        358.0   28.6     79.0   \n",
              "4       22.0   2018-06-01 04:00          2.4         46.0   28.5     79.0   \n",
              "...      ...                ...          ...          ...    ...      ...   \n",
              "48789   57.0   2023-05-31 19:00          0.5        323.0   28.7     74.0   \n",
              "48790   55.0   2023-05-31 20:00          0.7        353.0   28.4     77.0   \n",
              "48791   49.0   2023-05-31 21:00          0.6        352.0   28.0     79.0   \n",
              "48792   44.0   2023-05-31 22:00          0.6        355.0   27.8     81.0   \n",
              "48793   41.0   2023-05-31 23:00          0.7        358.0   27.6     81.0   \n",
              "\n",
              "       最大陣風(m/s)  降水量(mm)  降水時數(h)  \n",
              "0            7.5      0.0      0.0  \n",
              "1            7.1      0.0      0.0  \n",
              "2            5.1      0.0      0.0  \n",
              "3            5.3      0.0      0.0  \n",
              "4            5.9      0.0      0.0  \n",
              "...          ...      ...      ...  \n",
              "48789        9.3      0.0      0.0  \n",
              "48790        8.2      0.0      0.0  \n",
              "48791        9.3      0.0      0.0  \n",
              "48792        6.5      0.0      0.0  \n",
              "48793        6.1      0.0      0.0  \n",
              "\n",
              "[48794 rows x 9 columns]"
            ],
            "text/html": [
              "\n",
              "  <div id=\"df-94d9a320-3fc6-4fb4-90ef-6058669d4091\">\n",
              "    <div class=\"colab-df-container\">\n",
              "      <div>\n",
              "<style scoped>\n",
              "    .dataframe tbody tr th:only-of-type {\n",
              "        vertical-align: middle;\n",
              "    }\n",
              "\n",
              "    .dataframe tbody tr th {\n",
              "        vertical-align: top;\n",
              "    }\n",
              "\n",
              "    .dataframe thead th {\n",
              "        text-align: right;\n",
              "    }\n",
              "</style>\n",
              "<table border=\"1\" class=\"dataframe\">\n",
              "  <thead>\n",
              "    <tr style=\"text-align: right;\">\n",
              "      <th></th>\n",
              "      <th>\"aqi\"</th>\n",
              "      <th>\"datacreationdate\"</th>\n",
              "      <th>\"windspeed\"</th>\n",
              "      <th>\"winddirec\"</th>\n",
              "      <th>氣溫(℃)</th>\n",
              "      <th>相對溼度(%)</th>\n",
              "      <th>最大陣風(m/s)</th>\n",
              "      <th>降水量(mm)</th>\n",
              "      <th>降水時數(h)</th>\n",
              "    </tr>\n",
              "  </thead>\n",
              "  <tbody>\n",
              "    <tr>\n",
              "      <th>0</th>\n",
              "      <td>22.0</td>\n",
              "      <td>2018-06-01 00:00</td>\n",
              "      <td>2.1</td>\n",
              "      <td>359.0</td>\n",
              "      <td>29.2</td>\n",
              "      <td>76.0</td>\n",
              "      <td>7.5</td>\n",
              "      <td>0.0</td>\n",
              "      <td>0.0</td>\n",
              "    </tr>\n",
              "    <tr>\n",
              "      <th>1</th>\n",
              "      <td>24.0</td>\n",
              "      <td>2018-06-01 01:00</td>\n",
              "      <td>2.4</td>\n",
              "      <td>8.4</td>\n",
              "      <td>28.8</td>\n",
              "      <td>78.0</td>\n",
              "      <td>7.1</td>\n",
              "      <td>0.0</td>\n",
              "      <td>0.0</td>\n",
              "    </tr>\n",
              "    <tr>\n",
              "      <th>2</th>\n",
              "      <td>24.0</td>\n",
              "      <td>2018-06-01 02:00</td>\n",
              "      <td>2.0</td>\n",
              "      <td>1.4</td>\n",
              "      <td>29.0</td>\n",
              "      <td>77.0</td>\n",
              "      <td>5.1</td>\n",
              "      <td>0.0</td>\n",
              "      <td>0.0</td>\n",
              "    </tr>\n",
              "    <tr>\n",
              "      <th>3</th>\n",
              "      <td>23.0</td>\n",
              "      <td>2018-06-01 03:00</td>\n",
              "      <td>1.9</td>\n",
              "      <td>358.0</td>\n",
              "      <td>28.6</td>\n",
              "      <td>79.0</td>\n",
              "      <td>5.3</td>\n",
              "      <td>0.0</td>\n",
              "      <td>0.0</td>\n",
              "    </tr>\n",
              "    <tr>\n",
              "      <th>4</th>\n",
              "      <td>22.0</td>\n",
              "      <td>2018-06-01 04:00</td>\n",
              "      <td>2.4</td>\n",
              "      <td>46.0</td>\n",
              "      <td>28.5</td>\n",
              "      <td>79.0</td>\n",
              "      <td>5.9</td>\n",
              "      <td>0.0</td>\n",
              "      <td>0.0</td>\n",
              "    </tr>\n",
              "    <tr>\n",
              "      <th>...</th>\n",
              "      <td>...</td>\n",
              "      <td>...</td>\n",
              "      <td>...</td>\n",
              "      <td>...</td>\n",
              "      <td>...</td>\n",
              "      <td>...</td>\n",
              "      <td>...</td>\n",
              "      <td>...</td>\n",
              "      <td>...</td>\n",
              "    </tr>\n",
              "    <tr>\n",
              "      <th>48789</th>\n",
              "      <td>57.0</td>\n",
              "      <td>2023-05-31 19:00</td>\n",
              "      <td>0.5</td>\n",
              "      <td>323.0</td>\n",
              "      <td>28.7</td>\n",
              "      <td>74.0</td>\n",
              "      <td>9.3</td>\n",
              "      <td>0.0</td>\n",
              "      <td>0.0</td>\n",
              "    </tr>\n",
              "    <tr>\n",
              "      <th>48790</th>\n",
              "      <td>55.0</td>\n",
              "      <td>2023-05-31 20:00</td>\n",
              "      <td>0.7</td>\n",
              "      <td>353.0</td>\n",
              "      <td>28.4</td>\n",
              "      <td>77.0</td>\n",
              "      <td>8.2</td>\n",
              "      <td>0.0</td>\n",
              "      <td>0.0</td>\n",
              "    </tr>\n",
              "    <tr>\n",
              "      <th>48791</th>\n",
              "      <td>49.0</td>\n",
              "      <td>2023-05-31 21:00</td>\n",
              "      <td>0.6</td>\n",
              "      <td>352.0</td>\n",
              "      <td>28.0</td>\n",
              "      <td>79.0</td>\n",
              "      <td>9.3</td>\n",
              "      <td>0.0</td>\n",
              "      <td>0.0</td>\n",
              "    </tr>\n",
              "    <tr>\n",
              "      <th>48792</th>\n",
              "      <td>44.0</td>\n",
              "      <td>2023-05-31 22:00</td>\n",
              "      <td>0.6</td>\n",
              "      <td>355.0</td>\n",
              "      <td>27.8</td>\n",
              "      <td>81.0</td>\n",
              "      <td>6.5</td>\n",
              "      <td>0.0</td>\n",
              "      <td>0.0</td>\n",
              "    </tr>\n",
              "    <tr>\n",
              "      <th>48793</th>\n",
              "      <td>41.0</td>\n",
              "      <td>2023-05-31 23:00</td>\n",
              "      <td>0.7</td>\n",
              "      <td>358.0</td>\n",
              "      <td>27.6</td>\n",
              "      <td>81.0</td>\n",
              "      <td>6.1</td>\n",
              "      <td>0.0</td>\n",
              "      <td>0.0</td>\n",
              "    </tr>\n",
              "  </tbody>\n",
              "</table>\n",
              "<p>48794 rows × 9 columns</p>\n",
              "</div>\n",
              "      <button class=\"colab-df-convert\" onclick=\"convertToInteractive('df-94d9a320-3fc6-4fb4-90ef-6058669d4091')\"\n",
              "              title=\"Convert this dataframe to an interactive table.\"\n",
              "              style=\"display:none;\">\n",
              "        \n",
              "  <svg xmlns=\"http://www.w3.org/2000/svg\" height=\"24px\"viewBox=\"0 0 24 24\"\n",
              "       width=\"24px\">\n",
              "    <path d=\"M0 0h24v24H0V0z\" fill=\"none\"/>\n",
              "    <path d=\"M18.56 5.44l.94 2.06.94-2.06 2.06-.94-2.06-.94-.94-2.06-.94 2.06-2.06.94zm-11 1L8.5 8.5l.94-2.06 2.06-.94-2.06-.94L8.5 2.5l-.94 2.06-2.06.94zm10 10l.94 2.06.94-2.06 2.06-.94-2.06-.94-.94-2.06-.94 2.06-2.06.94z\"/><path d=\"M17.41 7.96l-1.37-1.37c-.4-.4-.92-.59-1.43-.59-.52 0-1.04.2-1.43.59L10.3 9.45l-7.72 7.72c-.78.78-.78 2.05 0 2.83L4 21.41c.39.39.9.59 1.41.59.51 0 1.02-.2 1.41-.59l7.78-7.78 2.81-2.81c.8-.78.8-2.07 0-2.86zM5.41 20L4 18.59l7.72-7.72 1.47 1.35L5.41 20z\"/>\n",
              "  </svg>\n",
              "      </button>\n",
              "      \n",
              "  <style>\n",
              "    .colab-df-container {\n",
              "      display:flex;\n",
              "      flex-wrap:wrap;\n",
              "      gap: 12px;\n",
              "    }\n",
              "\n",
              "    .colab-df-convert {\n",
              "      background-color: #E8F0FE;\n",
              "      border: none;\n",
              "      border-radius: 50%;\n",
              "      cursor: pointer;\n",
              "      display: none;\n",
              "      fill: #1967D2;\n",
              "      height: 32px;\n",
              "      padding: 0 0 0 0;\n",
              "      width: 32px;\n",
              "    }\n",
              "\n",
              "    .colab-df-convert:hover {\n",
              "      background-color: #E2EBFA;\n",
              "      box-shadow: 0px 1px 2px rgba(60, 64, 67, 0.3), 0px 1px 3px 1px rgba(60, 64, 67, 0.15);\n",
              "      fill: #174EA6;\n",
              "    }\n",
              "\n",
              "    [theme=dark] .colab-df-convert {\n",
              "      background-color: #3B4455;\n",
              "      fill: #D2E3FC;\n",
              "    }\n",
              "\n",
              "    [theme=dark] .colab-df-convert:hover {\n",
              "      background-color: #434B5C;\n",
              "      box-shadow: 0px 1px 3px 1px rgba(0, 0, 0, 0.15);\n",
              "      filter: drop-shadow(0px 1px 2px rgba(0, 0, 0, 0.3));\n",
              "      fill: #FFFFFF;\n",
              "    }\n",
              "  </style>\n",
              "\n",
              "      <script>\n",
              "        const buttonEl =\n",
              "          document.querySelector('#df-94d9a320-3fc6-4fb4-90ef-6058669d4091 button.colab-df-convert');\n",
              "        buttonEl.style.display =\n",
              "          google.colab.kernel.accessAllowed ? 'block' : 'none';\n",
              "\n",
              "        async function convertToInteractive(key) {\n",
              "          const element = document.querySelector('#df-94d9a320-3fc6-4fb4-90ef-6058669d4091');\n",
              "          const dataTable =\n",
              "            await google.colab.kernel.invokeFunction('convertToInteractive',\n",
              "                                                     [key], {});\n",
              "          if (!dataTable) return;\n",
              "\n",
              "          const docLinkHtml = 'Like what you see? Visit the ' +\n",
              "            '<a target=\"_blank\" href=https://colab.research.google.com/notebooks/data_table.ipynb>data table notebook</a>'\n",
              "            + ' to learn more about interactive tables.';\n",
              "          element.innerHTML = '';\n",
              "          dataTable['output_type'] = 'display_data';\n",
              "          await google.colab.output.renderOutput(dataTable, element);\n",
              "          const docLink = document.createElement('div');\n",
              "          docLink.innerHTML = docLinkHtml;\n",
              "          element.appendChild(docLink);\n",
              "        }\n",
              "      </script>\n",
              "    </div>\n",
              "  </div>\n",
              "  "
            ]
          },
          "metadata": {},
          "execution_count": 34
        }
      ]
    },
    {
      "cell_type": "code",
      "source": [
        "x = df['\"aqi\"']\n",
        "plt.hist(x, color = 'skyblue', edgecolor = 'steelblue')\n",
        "plt.xlabel('AQI')"
      ],
      "metadata": {
        "colab": {
          "base_uri": "https://localhost:8080/",
          "height": 466
        },
        "id": "0ALyWKxhSgqI",
        "outputId": "b0ceb884-a604-44c5-fb0c-3a958b6834f5"
      },
      "execution_count": 55,
      "outputs": [
        {
          "output_type": "execute_result",
          "data": {
            "text/plain": [
              "Text(0.5, 0, 'AQI')"
            ]
          },
          "metadata": {},
          "execution_count": 55
        },
        {
          "output_type": "display_data",
          "data": {
            "text/plain": [
              "<Figure size 640x480 with 1 Axes>"
            ],
            "image/png": "[encoded data removed]"
          },
          "metadata": {}
        }
      ]
    },
    {
      "cell_type": "code",
      "source": [
        "def aqi_index(x):\n",
        "    if x <= 50:\n",
        "        return 'Good'\n",
        "    elif 51 <= x <= 100:\n",
        "        return 'Moderate'\n",
        "    elif 101 <= x <= 150:\n",
        "        return 'Unhealthy for Sensitive Groups'\n",
        "    else:\n",
        "        return 'Unhealthy'\n",
        "\n",
        "df['aqi_level'] = df['\"aqi\"'].apply(aqi_index)\n",
        "df"
      ],
      "metadata": {
        "colab": {
          "base_uri": "https://localhost:8080/",
          "height": 485
        },
        "id": "2FS4j3HWSlH1",
        "outputId": "eb03bd0f-b722-4a25-a5d3-45507271a0c7"
      },
      "execution_count": 35,
      "outputs": [
        {
          "output_type": "execute_result",
          "data": {
            "text/plain": [
              "       \"aqi\" \"datacreationdate\"  \"windspeed\"  \"winddirec\"  氣溫(℃)  相對溼度(%)  \\\n",
              "0       22.0   2018-06-01 00:00          2.1        359.0   29.2     76.0   \n",
              "1       24.0   2018-06-01 01:00          2.4          8.4   28.8     78.0   \n",
              "2       24.0   2018-06-01 02:00          2.0          1.4   29.0     77.0   \n",
              "3       23.0   2018-06-01 03:00          1.9        358.0   28.6     79.0   \n",
              "4       22.0   2018-06-01 04:00          2.4         46.0   28.5     79.0   \n",
              "...      ...                ...          ...          ...    ...      ...   \n",
              "48789   57.0   2023-05-31 19:00          0.5        323.0   28.7     74.0   \n",
              "48790   55.0   2023-05-31 20:00          0.7        353.0   28.4     77.0   \n",
              "48791   49.0   2023-05-31 21:00          0.6        352.0   28.0     79.0   \n",
              "48792   44.0   2023-05-31 22:00          0.6        355.0   27.8     81.0   \n",
              "48793   41.0   2023-05-31 23:00          0.7        358.0   27.6     81.0   \n",
              "\n",
              "       最大陣風(m/s)  降水量(mm)  降水時數(h) aqi_level  \n",
              "0            7.5      0.0      0.0      Good  \n",
              "1            7.1      0.0      0.0      Good  \n",
              "2            5.1      0.0      0.0      Good  \n",
              "3            5.3      0.0      0.0      Good  \n",
              "4            5.9      0.0      0.0      Good  \n",
              "...          ...      ...      ...       ...  \n",
              "48789        9.3      0.0      0.0  Moderate  \n",
              "48790        8.2      0.0      0.0  Moderate  \n",
              "48791        9.3      0.0      0.0      Good  \n",
              "48792        6.5      0.0      0.0      Good  \n",
              "48793        6.1      0.0      0.0      Good  \n",
              "\n",
              "[48794 rows x 10 columns]"
            ],
            "text/html": [
              "\n",
              "  <div id=\"df-54ea1ba9-3424-4ba4-95d9-7ddf7e3edfc9\">\n",
              "    <div class=\"colab-df-container\">\n",
              "      <div>\n",
              "<style scoped>\n",
              "    .dataframe tbody tr th:only-of-type {\n",
              "        vertical-align: middle;\n",
              "    }\n",
              "\n",
              "    .dataframe tbody tr th {\n",
              "        vertical-align: top;\n",
              "    }\n",
              "\n",
              "    .dataframe thead th {\n",
              "        text-align: right;\n",
              "    }\n",
              "</style>\n",
              "<table border=\"1\" class=\"dataframe\">\n",
              "  <thead>\n",
              "    <tr style=\"text-align: right;\">\n",
              "      <th></th>\n",
              "      <th>\"aqi\"</th>\n",
              "      <th>\"datacreationdate\"</th>\n",
              "      <th>\"windspeed\"</th>\n",
              "      <th>\"winddirec\"</th>\n",
              "      <th>氣溫(℃)</th>\n",
              "      <th>相對溼度(%)</th>\n",
              "      <th>最大陣風(m/s)</th>\n",
              "      <th>降水量(mm)</th>\n",
              "      <th>降水時數(h)</th>\n",
              "      <th>aqi_level</th>\n",
              "    </tr>\n",
              "  </thead>\n",
              "  <tbody>\n",
              "    <tr>\n",
              "      <th>0</th>\n",
              "      <td>22.0</td>\n",
              "      <td>2018-06-01 00:00</td>\n",
              "      <td>2.1</td>\n",
              "      <td>359.0</td>\n",
              "      <td>29.2</td>\n",
              "      <td>76.0</td>\n",
              "      <td>7.5</td>\n",
              "      <td>0.0</td>\n",
              "      <td>0.0</td>\n",
              "      <td>Good</td>\n",
              "    </tr>\n",
              "    <tr>\n",
              "      <th>1</th>\n",
              "      <td>24.0</td>\n",
              "      <td>2018-06-01 01:00</td>\n",
              "      <td>2.4</td>\n",
              "      <td>8.4</td>\n",
              "      <td>28.8</td>\n",
              "      <td>78.0</td>\n",
              "      <td>7.1</td>\n",
              "      <td>0.0</td>\n",
              "      <td>0.0</td>\n",
              "      <td>Good</td>\n",
              "    </tr>\n",
              "    <tr>\n",
              "      <th>2</th>\n",
              "      <td>24.0</td>\n",
              "      <td>2018-06-01 02:00</td>\n",
              "      <td>2.0</td>\n",
              "      <td>1.4</td>\n",
              "      <td>29.0</td>\n",
              "      <td>77.0</td>\n",
              "      <td>5.1</td>\n",
              "      <td>0.0</td>\n",
              "      <td>0.0</td>\n",
              "      <td>Good</td>\n",
              "    </tr>\n",
              "    <tr>\n",
              "      <th>3</th>\n",
              "      <td>23.0</td>\n",
              "      <td>2018-06-01 03:00</td>\n",
              "      <td>1.9</td>\n",
              "      <td>358.0</td>\n",
              "      <td>28.6</td>\n",
              "      <td>79.0</td>\n",
              "      <td>5.3</td>\n",
              "      <td>0.0</td>\n",
              "      <td>0.0</td>\n",
              "      <td>Good</td>\n",
              "    </tr>\n",
              "    <tr>\n",
              "      <th>4</th>\n",
              "      <td>22.0</td>\n",
              "      <td>2018-06-01 04:00</td>\n",
              "      <td>2.4</td>\n",
              "      <td>46.0</td>\n",
              "      <td>28.5</td>\n",
              "      <td>79.0</td>\n",
              "      <td>5.9</td>\n",
              "      <td>0.0</td>\n",
              "      <td>0.0</td>\n",
              "      <td>Good</td>\n",
              "    </tr>\n",
              "    <tr>\n",
              "      <th>...</th>\n",
              "      <td>...</td>\n",
              "      <td>...</td>\n",
              "      <td>...</td>\n",
              "      <td>...</td>\n",
              "      <td>...</td>\n",
              "      <td>...</td>\n",
              "      <td>...</td>\n",
              "      <td>...</td>\n",
              "      <td>...</td>\n",
              "      <td>...</td>\n",
              "    </tr>\n",
              "    <tr>\n",
              "      <th>48789</th>\n",
              "      <td>57.0</td>\n",
              "      <td>2023-05-31 19:00</td>\n",
              "      <td>0.5</td>\n",
              "      <td>323.0</td>\n",
              "      <td>28.7</td>\n",
              "      <td>74.0</td>\n",
              "      <td>9.3</td>\n",
              "      <td>0.0</td>\n",
              "      <td>0.0</td>\n",
              "      <td>Moderate</td>\n",
              "    </tr>\n",
              "    <tr>\n",
              "      <th>48790</th>\n",
              "      <td>55.0</td>\n",
              "      <td>2023-05-31 20:00</td>\n",
              "      <td>0.7</td>\n",
              "      <td>353.0</td>\n",
              "      <td>28.4</td>\n",
              "      <td>77.0</td>\n",
              "      <td>8.2</td>\n",
              "      <td>0.0</td>\n",
              "      <td>0.0</td>\n",
              "      <td>Moderate</td>\n",
              "    </tr>\n",
              "    <tr>\n",
              "      <th>48791</th>\n",
              "      <td>49.0</td>\n",
              "      <td>2023-05-31 21:00</td>\n",
              "      <td>0.6</td>\n",
              "      <td>352.0</td>\n",
              "      <td>28.0</td>\n",
              "      <td>79.0</td>\n",
              "      <td>9.3</td>\n",
              "      <td>0.0</td>\n",
              "      <td>0.0</td>\n",
              "      <td>Good</td>\n",
              "    </tr>\n",
              "    <tr>\n",
              "      <th>48792</th>\n",
              "      <td>44.0</td>\n",
              "      <td>2023-05-31 22:00</td>\n",
              "      <td>0.6</td>\n",
              "      <td>355.0</td>\n",
              "      <td>27.8</td>\n",
              "      <td>81.0</td>\n",
              "      <td>6.5</td>\n",
              "      <td>0.0</td>\n",
              "      <td>0.0</td>\n",
              "      <td>Good</td>\n",
              "    </tr>\n",
              "    <tr>\n",
              "      <th>48793</th>\n",
              "      <td>41.0</td>\n",
              "      <td>2023-05-31 23:00</td>\n",
              "      <td>0.7</td>\n",
              "      <td>358.0</td>\n",
              "      <td>27.6</td>\n",
              "      <td>81.0</td>\n",
              "      <td>6.1</td>\n",
              "      <td>0.0</td>\n",
              "      <td>0.0</td>\n",
              "      <td>Good</td>\n",
              "    </tr>\n",
              "  </tbody>\n",
              "</table>\n",
              "<p>48794 rows × 10 columns</p>\n",
              "</div>\n",
              "      <button class=\"colab-df-convert\" onclick=\"convertToInteractive('df-54ea1ba9-3424-4ba4-95d9-7ddf7e3edfc9')\"\n",
              "              title=\"Convert this dataframe to an interactive table.\"\n",
              "              style=\"display:none;\">\n",
              "        \n",
              "  <svg xmlns=\"http://www.w3.org/2000/svg\" height=\"24px\"viewBox=\"0 0 24 24\"\n",
              "       width=\"24px\">\n",
              "    <path d=\"M0 0h24v24H0V0z\" fill=\"none\"/>\n",
              "    <path d=\"M18.56 5.44l.94 2.06.94-2.06 2.06-.94-2.06-.94-.94-2.06-.94 2.06-2.06.94zm-11 1L8.5 8.5l.94-2.06 2.06-.94-2.06-.94L8.5 2.5l-.94 2.06-2.06.94zm10 10l.94 2.06.94-2.06 2.06-.94-2.06-.94-.94-2.06-.94 2.06-2.06.94z\"/><path d=\"M17.41 7.96l-1.37-1.37c-.4-.4-.92-.59-1.43-.59-.52 0-1.04.2-1.43.59L10.3 9.45l-7.72 7.72c-.78.78-.78 2.05 0 2.83L4 21.41c.39.39.9.59 1.41.59.51 0 1.02-.2 1.41-.59l7.78-7.78 2.81-2.81c.8-.78.8-2.07 0-2.86zM5.41 20L4 18.59l7.72-7.72 1.47 1.35L5.41 20z\"/>\n",
              "  </svg>\n",
              "      </button>\n",
              "      \n",
              "  <style>\n",
              "    .colab-df-container {\n",
              "      display:flex;\n",
              "      flex-wrap:wrap;\n",
              "      gap: 12px;\n",
              "    }\n",
              "\n",
              "    .colab-df-convert {\n",
              "      background-color: #E8F0FE;\n",
              "      border: none;\n",
              "      border-radius: 50%;\n",
              "      cursor: pointer;\n",
              "      display: none;\n",
              "      fill: #1967D2;\n",
              "      height: 32px;\n",
              "      padding: 0 0 0 0;\n",
              "      width: 32px;\n",
              "    }\n",
              "\n",
              "    .colab-df-convert:hover {\n",
              "      background-color: #E2EBFA;\n",
              "      box-shadow: 0px 1px 2px rgba(60, 64, 67, 0.3), 0px 1px 3px 1px rgba(60, 64, 67, 0.15);\n",
              "      fill: #174EA6;\n",
              "    }\n",
              "\n",
              "    [theme=dark] .colab-df-convert {\n",
              "      background-color: #3B4455;\n",
              "      fill: #D2E3FC;\n",
              "    }\n",
              "\n",
              "    [theme=dark] .colab-df-convert:hover {\n",
              "      background-color: #434B5C;\n",
              "      box-shadow: 0px 1px 3px 1px rgba(0, 0, 0, 0.15);\n",
              "      filter: drop-shadow(0px 1px 2px rgba(0, 0, 0, 0.3));\n",
              "      fill: #FFFFFF;\n",
              "    }\n",
              "  </style>\n",
              "\n",
              "      <script>\n",
              "        const buttonEl =\n",
              "          document.querySelector('#df-54ea1ba9-3424-4ba4-95d9-7ddf7e3edfc9 button.colab-df-convert');\n",
              "        buttonEl.style.display =\n",
              "          google.colab.kernel.accessAllowed ? 'block' : 'none';\n",
              "\n",
              "        async function convertToInteractive(key) {\n",
              "          const element = document.querySelector('#df-54ea1ba9-3424-4ba4-95d9-7ddf7e3edfc9');\n",
              "          const dataTable =\n",
              "            await google.colab.kernel.invokeFunction('convertToInteractive',\n",
              "                                                     [key], {});\n",
              "          if (!dataTable) return;\n",
              "\n",
              "          const docLinkHtml = 'Like what you see? Visit the ' +\n",
              "            '<a target=\"_blank\" href=https://colab.research.google.com/notebooks/data_table.ipynb>data table notebook</a>'\n",
              "            + ' to learn more about interactive tables.';\n",
              "          element.innerHTML = '';\n",
              "          dataTable['output_type'] = 'display_data';\n",
              "          await google.colab.output.renderOutput(dataTable, element);\n",
              "          const docLink = document.createElement('div');\n",
              "          docLink.innerHTML = docLinkHtml;\n",
              "          element.appendChild(docLink);\n",
              "        }\n",
              "      </script>\n",
              "    </div>\n",
              "  </div>\n",
              "  "
            ]
          },
          "metadata": {},
          "execution_count": 35
        }
      ]
    },
    {
      "cell_type": "markdown",
      "source": [
        "設定字體"
      ],
      "metadata": {
        "id": "Ooa-W8XHUwJd"
      }
    },
    {
      "cell_type": "code",
      "source": [
        "import matplotlib.pyplot as plt\n",
        "from matplotlib.font_manager import FontProperties\n",
        "font=FontProperties(fname=r\"/content/drive/MyDrive/BigDataAnalyticsandDataMining/SimHei.ttf\",size=16)"
      ],
      "metadata": {
        "id": "TdfDw3d8Usmu"
      },
      "execution_count": 32,
      "outputs": []
    },
    {
      "cell_type": "code",
      "source": [
        "x = df['aqi_level']\n",
        "plt.bar(x.unique(), x.value_counts(), color = 'skyblue', edgecolor = 'steelblue',  width = 0.4)\n",
        "plt.xticks(rotation='vertical')\n",
        "plt.show()"
      ],
      "metadata": {
        "colab": {
          "base_uri": "https://localhost:8080/",
          "height": 632
        },
        "id": "3mysmMsDUHni",
        "outputId": "e3e66e5d-c0ec-4614-ee86-8078c13e6cdd"
      },
      "execution_count": 54,
      "outputs": [
        {
          "output_type": "display_data",
          "data": {
            "text/plain": [
              "<Figure size 640x480 with 1 Axes>"
            ],
            "image/png": "[encoded data removed]"
          },
          "metadata": {}
        }
      ]
    },
    {
      "cell_type": "code",
      "source": [
        "x = df['\"windspeed\"']\n",
        "plt.hist(x, color = 'skyblue', edgecolor = 'steelblue')\n",
        "plt.xlabel('windspeed')"
      ],
      "metadata": {
        "colab": {
          "base_uri": "https://localhost:8080/",
          "height": 466
        },
        "id": "fsbnTLukZxuk",
        "outputId": "87983ef5-f7c0-4ba9-96be-bd28453e5aef"
      },
      "execution_count": 57,
      "outputs": [
        {
          "output_type": "execute_result",
          "data": {
            "text/plain": [
              "Text(0.5, 0, 'windspeed')"
            ]
          },
          "metadata": {},
          "execution_count": 57
        },
        {
          "output_type": "display_data",
          "data": {
            "text/plain": [
              "<Figure size 640x480 with 1 Axes>"
            ],
            "image/png": "[encoded data removed]"
          },
          "metadata": {}
        }
      ]
    },
    {
      "cell_type": "code",
      "source": [
        "x = df['\"winddirec\"']\n",
        "plt.hist(x, color = 'skyblue', edgecolor = 'steelblue')\n",
        "plt.xlabel('winddirec')"
      ],
      "metadata": {
        "colab": {
          "base_uri": "https://localhost:8080/",
          "height": 466
        },
        "id": "l2On4Oo03BbR",
        "outputId": "2530cf75-3cc3-4033-b037-abb56ccf1beb"
      },
      "execution_count": 141,
      "outputs": [
        {
          "output_type": "execute_result",
          "data": {
            "text/plain": [
              "Text(0.5, 0, 'winddirec')"
            ]
          },
          "metadata": {},
          "execution_count": 141
        },
        {
          "output_type": "display_data",
          "data": {
            "text/plain": [
              "<Figure size 640x480 with 1 Axes>"
            ],
            "image/png": "[encoded data removed]"
          },
          "metadata": {}
        }
      ]
    },
    {
      "cell_type": "code",
      "source": [
        "x = df['氣溫(℃)']\n",
        "plt.hist(x, color = 'skyblue', edgecolor = 'steelblue')\n",
        "plt.xlabel('氣溫(℃)', fontproperties=font)"
      ],
      "metadata": {
        "colab": {
          "base_uri": "https://localhost:8080/",
          "height": 473
        },
        "id": "4iHQ6Wav1xDG",
        "outputId": "dcf0c540-e27b-4128-9c0a-77d2432eeb41"
      },
      "execution_count": 140,
      "outputs": [
        {
          "output_type": "execute_result",
          "data": {
            "text/plain": [
              "Text(0.5, 0, '氣溫(℃)')"
            ]
          },
          "metadata": {},
          "execution_count": 140
        },
        {
          "output_type": "display_data",
          "data": {
            "text/plain": [
              "<Figure size 640x480 with 1 Axes>"
            ],
            "image/png": "[encoded data removed]"
          },
          "metadata": {}
        }
      ]
    },
    {
      "cell_type": "code",
      "source": [
        "x = df['相對溼度(%)']\n",
        "plt.hist(x, color = 'skyblue', edgecolor = 'steelblue')\n",
        "plt.xlabel('相對溼度(%)', fontproperties=font)"
      ],
      "metadata": {
        "colab": {
          "base_uri": "https://localhost:8080/",
          "height": 473
        },
        "id": "2Q3MNgx-3fPv",
        "outputId": "8876ec67-4754-4738-be33-56356dd5b7b2"
      },
      "execution_count": 142,
      "outputs": [
        {
          "output_type": "execute_result",
          "data": {
            "text/plain": [
              "Text(0.5, 0, '相對溼度(%)')"
            ]
          },
          "metadata": {},
          "execution_count": 142
        },
        {
          "output_type": "display_data",
          "data": {
            "text/plain": [
              "<Figure size 640x480 with 1 Axes>"
            ],
            "image/png": "[encoded data removed]"
          },
          "metadata": {}
        }
      ]
    },
    {
      "cell_type": "code",
      "source": [
        "x = df['最大陣風(m/s)']\n",
        "plt.hist(x, color = 'skyblue', edgecolor = 'steelblue')\n",
        "plt.xlabel('最大陣風(m/s)', fontproperties=font)"
      ],
      "metadata": {
        "colab": {
          "base_uri": "https://localhost:8080/",
          "height": 473
        },
        "id": "ltj_q5FK4DDC",
        "outputId": "0958d5ae-4ccd-42c8-a731-868423e60338"
      },
      "execution_count": 143,
      "outputs": [
        {
          "output_type": "execute_result",
          "data": {
            "text/plain": [
              "Text(0.5, 0, '最大陣風(m/s)')"
            ]
          },
          "metadata": {},
          "execution_count": 143
        },
        {
          "output_type": "display_data",
          "data": {
            "text/plain": [
              "<Figure size 640x480 with 1 Axes>"
            ],
            "image/png": "[encoded data removed]"
          },
          "metadata": {}
        }
      ]
    },
    {
      "cell_type": "code",
      "source": [
        "x = df['降水量(mm)']\n",
        "plt.hist(x, color = 'skyblue', edgecolor = 'steelblue')\n",
        "plt.xlabel('降水量(mm)', fontproperties=font)"
      ],
      "metadata": {
        "colab": {
          "base_uri": "https://localhost:8080/",
          "height": 473
        },
        "id": "t42C20J_4Rcz",
        "outputId": "24d59178-a3ed-40d3-a7b4-f073c69ad0e4"
      },
      "execution_count": 144,
      "outputs": [
        {
          "output_type": "execute_result",
          "data": {
            "text/plain": [
              "Text(0.5, 0, '降水量(mm)')"
            ]
          },
          "metadata": {},
          "execution_count": 144
        },
        {
          "output_type": "display_data",
          "data": {
            "text/plain": [
              "<Figure size 640x480 with 1 Axes>"
            ],
            "image/png": "[encoded data removed]"
          },
          "metadata": {}
        }
      ]
    },
    {
      "cell_type": "code",
      "source": [
        "x = df['降水時數(h)']\n",
        "plt.hist(x, color = 'skyblue', edgecolor = 'steelblue')\n",
        "plt.xlabel('降水時數(h)', fontproperties=font)"
      ],
      "metadata": {
        "colab": {
          "base_uri": "https://localhost:8080/",
          "height": 473
        },
        "id": "pwWdOvtT4g_Q",
        "outputId": "da67ba03-ecb6-47a6-9851-4194ec493f63"
      },
      "execution_count": 145,
      "outputs": [
        {
          "output_type": "execute_result",
          "data": {
            "text/plain": [
              "Text(0.5, 0, '降水時數(h)')"
            ]
          },
          "metadata": {},
          "execution_count": 145
        },
        {
          "output_type": "display_data",
          "data": {
            "text/plain": [
              "<Figure size 640x480 with 1 Axes>"
            ],
            "image/png": "[encoded data removed]"
          },
          "metadata": {}
        }
      ]
    },
    {
      "cell_type": "markdown",
      "source": [
        "NA imputing"
      ],
      "metadata": {
        "id": "z8o3PGXz4elA"
      }
    },
    {
      "cell_type": "code",
      "source": [
        "# Process Time Data\n",
        "# To Pandas datetime format\n",
        "train_data_use['\"datacreationdate\"'] = pd.to_datetime(train_data_use['\"datacreationdate\"'])\n",
        "test_data_use['\"datacreationdate\"'] = pd.to_datetime(test_data_use['\"datacreationdate\"'])\n",
        "\n",
        "# Sort time data\n",
        "train_data_use.sort_values('\"datacreationdate\"', inplace=True)\n",
        "test_data_use.sort_values('\"datacreationdate\"', inplace=True)"
      ],
      "metadata": {
        "id": "JDH2D_iD4g3E"
      },
      "execution_count": 18,
      "outputs": []
    },
    {
      "cell_type": "code",
      "source": [
        "# Set time as index\n",
        "train_data_use.set_index('\"datacreationdate\"', inplace=True)\n",
        "test_data_use.set_index('\"datacreationdate\"', inplace=True)"
      ],
      "metadata": {
        "id": "kOdaccOq4iKW"
      },
      "execution_count": 19,
      "outputs": []
    },
    {
      "cell_type": "code",
      "source": [
        "test_data_use.isna().sum()"
      ],
      "metadata": {
        "colab": {
          "base_uri": "https://localhost:8080/"
        },
        "id": "aq8Zoxt5KSgp",
        "outputId": "3ad59c22-e52f-4507-dd1c-858bd4564d41"
      },
      "execution_count": 20,
      "outputs": [
        {
          "output_type": "execute_result",
          "data": {
            "text/plain": [
              "\"aqi\"            2\n",
              "\"windspeed\"    387\n",
              "\"winddirec\"    387\n",
              "氣溫(℃)            0\n",
              "相對溼度(%)          0\n",
              "最大陣風(m/s)        0\n",
              "降水量(mm)        282\n",
              "降水時數(h)          0\n",
              "dtype: int64"
            ]
          },
          "metadata": {},
          "execution_count": 20
        }
      ]
    },
    {
      "cell_type": "code",
      "source": [
        "train_data_use.isna().sum()"
      ],
      "metadata": {
        "colab": {
          "base_uri": "https://localhost:8080/"
        },
        "id": "T6FZ6viTKfzD",
        "outputId": "48b85bd4-b3c6-49ad-807b-b8e1c78ae7e4"
      },
      "execution_count": 21,
      "outputs": [
        {
          "output_type": "execute_result",
          "data": {
            "text/plain": [
              "\"aqi\"          227\n",
              "\"windspeed\"    238\n",
              "\"winddirec\"    227\n",
              "氣溫(℃)            3\n",
              "相對溼度(%)        811\n",
              "最大陣風(m/s)       13\n",
              "降水量(mm)        945\n",
              "降水時數(h)          0\n",
              "dtype: int64"
            ]
          },
          "metadata": {},
          "execution_count": 21
        }
      ]
    },
    {
      "cell_type": "code",
      "source": [
        "train_data_use = train_data_use.fillna(method='ffill')\n",
        "test_data_use = test_data_use.fillna(method='ffill')"
      ],
      "metadata": {
        "id": "rZaxJxRgLGvk"
      },
      "execution_count": 22,
      "outputs": []
    },
    {
      "cell_type": "code",
      "source": [
        "train_data_use.isna().sum()"
      ],
      "metadata": {
        "colab": {
          "base_uri": "https://localhost:8080/"
        },
        "id": "biPtyN_ELLX8",
        "outputId": "51607ad4-8db3-45e6-c237-07ae9512357a"
      },
      "execution_count": 23,
      "outputs": [
        {
          "output_type": "execute_result",
          "data": {
            "text/plain": [
              "\"aqi\"          0\n",
              "\"windspeed\"    0\n",
              "\"winddirec\"    0\n",
              "氣溫(℃)          0\n",
              "相對溼度(%)        0\n",
              "最大陣風(m/s)      0\n",
              "降水量(mm)        0\n",
              "降水時數(h)        0\n",
              "dtype: int64"
            ]
          },
          "metadata": {},
          "execution_count": 23
        }
      ]
    },
    {
      "cell_type": "code",
      "source": [
        "print('train data shape:', train_data_use.shape)\n",
        "print('test data shape:', test_data_use.shape)"
      ],
      "metadata": {
        "colab": {
          "base_uri": "https://localhost:8080/"
        },
        "id": "GZX4mf2YLOX7",
        "outputId": "d960b00f-2bf7-4377-dce6-139be950b2ba"
      },
      "execution_count": 64,
      "outputs": [
        {
          "output_type": "stream",
          "name": "stdout",
          "text": [
            "train data shape: (40094, 8)\n",
            "test data shape: (8700, 8)\n"
          ]
        }
      ]
    },
    {
      "cell_type": "markdown",
      "source": [
        "Test start"
      ],
      "metadata": {
        "id": "5MjEstk-LXQt"
      }
    },
    {
      "cell_type": "code",
      "source": [
        "test_data_use.dtypes"
      ],
      "metadata": {
        "colab": {
          "base_uri": "https://localhost:8080/"
        },
        "id": "ob5DtNTYLVsd",
        "outputId": "5c98ea2c-f54d-45d1-b2ca-4a988410d3da"
      },
      "execution_count": 24,
      "outputs": [
        {
          "output_type": "execute_result",
          "data": {
            "text/plain": [
              "\"aqi\"          float64\n",
              "\"windspeed\"    float64\n",
              "\"winddirec\"    float64\n",
              "氣溫(℃)          float64\n",
              "相對溼度(%)        float64\n",
              "最大陣風(m/s)      float64\n",
              "降水量(mm)        float64\n",
              "降水時數(h)        float64\n",
              "dtype: object"
            ]
          },
          "metadata": {},
          "execution_count": 24
        }
      ]
    },
    {
      "cell_type": "code",
      "source": [
        "train_data_use.isna().sum()"
      ],
      "metadata": {
        "colab": {
          "base_uri": "https://localhost:8080/"
        },
        "id": "YYCVwJImLfFu",
        "outputId": "5aef54f8-da6f-4694-e730-ec5ac3a3b154"
      },
      "execution_count": 66,
      "outputs": [
        {
          "output_type": "execute_result",
          "data": {
            "text/plain": [
              "\"aqi\"          0\n",
              "\"windspeed\"    0\n",
              "\"winddirec\"    0\n",
              "氣溫(℃)          0\n",
              "相對溼度(%)        0\n",
              "最大陣風(m/s)      0\n",
              "降水量(mm)        0\n",
              "降水時數(h)        0\n",
              "dtype: int64"
            ]
          },
          "metadata": {},
          "execution_count": 66
        }
      ]
    },
    {
      "cell_type": "code",
      "source": [
        "train_data_use"
      ],
      "metadata": {
        "colab": {
          "base_uri": "https://localhost:8080/",
          "height": 455
        },
        "id": "nuBDlMoRLfzP",
        "outputId": "72e9f7cf-0eea-42d0-cb14-a7784f15e2f4"
      },
      "execution_count": 67,
      "outputs": [
        {
          "output_type": "execute_result",
          "data": {
            "text/plain": [
              "                     \"aqi\"  \"windspeed\"  \"winddirec\"  氣溫(℃)  相對溼度(%)  \\\n",
              "\"datacreationdate\"                                                     \n",
              "2018-06-01 00:00:00   22.0          2.1        359.0   29.2     76.0   \n",
              "2018-06-01 01:00:00   24.0          2.4          8.4   28.8     78.0   \n",
              "2018-06-01 02:00:00   24.0          2.0          1.4   29.0     77.0   \n",
              "2018-06-01 03:00:00   23.0          1.9        358.0   28.6     79.0   \n",
              "2018-06-01 04:00:00   22.0          2.4         46.0   28.5     79.0   \n",
              "...                    ...          ...          ...    ...      ...   \n",
              "2022-05-31 19:00:00   24.0          1.0        219.0   29.3     77.0   \n",
              "2022-05-31 20:00:00   23.0          1.4        219.0   29.2     76.0   \n",
              "2022-05-31 21:00:00   22.0          1.1        207.0   29.2     78.0   \n",
              "2022-05-31 22:00:00   32.0          0.7        187.0   29.1     74.0   \n",
              "2022-05-31 23:00:00   19.0          0.8        160.0   28.5     81.0   \n",
              "\n",
              "                     最大陣風(m/s)  降水量(mm)  降水時數(h)  \n",
              "\"datacreationdate\"                                \n",
              "2018-06-01 00:00:00        7.5      0.0      0.0  \n",
              "2018-06-01 01:00:00        7.1      0.0      0.0  \n",
              "2018-06-01 02:00:00        5.1      0.0      0.0  \n",
              "2018-06-01 03:00:00        5.3      0.0      0.0  \n",
              "2018-06-01 04:00:00        5.9      0.0      0.0  \n",
              "...                        ...      ...      ...  \n",
              "2022-05-31 19:00:00        4.0      0.0      0.0  \n",
              "2022-05-31 20:00:00        4.5      0.0      0.0  \n",
              "2022-05-31 21:00:00        4.3      0.0      0.0  \n",
              "2022-05-31 22:00:00        3.3      0.0      0.0  \n",
              "2022-05-31 23:00:00        3.8      0.0      0.0  \n",
              "\n",
              "[40094 rows x 8 columns]"
            ],
            "text/html": [
              "\n",
              "  <div id=\"df-2befbab7-34c3-4404-bd46-74639d06c0a0\">\n",
              "    <div class=\"colab-df-container\">\n",
              "      <div>\n",
              "<style scoped>\n",
              "    .dataframe tbody tr th:only-of-type {\n",
              "        vertical-align: middle;\n",
              "    }\n",
              "\n",
              "    .dataframe tbody tr th {\n",
              "        vertical-align: top;\n",
              "    }\n",
              "\n",
              "    .dataframe thead th {\n",
              "        text-align: right;\n",
              "    }\n",
              "</style>\n",
              "<table border=\"1\" class=\"dataframe\">\n",
              "  <thead>\n",
              "    <tr style=\"text-align: right;\">\n",
              "      <th></th>\n",
              "      <th>\"aqi\"</th>\n",
              "      <th>\"windspeed\"</th>\n",
              "      <th>\"winddirec\"</th>\n",
              "      <th>氣溫(℃)</th>\n",
              "      <th>相對溼度(%)</th>\n",
              "      <th>最大陣風(m/s)</th>\n",
              "      <th>降水量(mm)</th>\n",
              "      <th>降水時數(h)</th>\n",
              "    </tr>\n",
              "    <tr>\n",
              "      <th>\"datacreationdate\"</th>\n",
              "      <th></th>\n",
              "      <th></th>\n",
              "      <th></th>\n",
              "      <th></th>\n",
              "      <th></th>\n",
              "      <th></th>\n",
              "      <th></th>\n",
              "      <th></th>\n",
              "    </tr>\n",
              "  </thead>\n",
              "  <tbody>\n",
              "    <tr>\n",
              "      <th>2018-06-01 00:00:00</th>\n",
              "      <td>22.0</td>\n",
              "      <td>2.1</td>\n",
              "      <td>359.0</td>\n",
              "      <td>29.2</td>\n",
              "      <td>76.0</td>\n",
              "      <td>7.5</td>\n",
              "      <td>0.0</td>\n",
              "      <td>0.0</td>\n",
              "    </tr>\n",
              "    <tr>\n",
              "      <th>2018-06-01 01:00:00</th>\n",
              "      <td>24.0</td>\n",
              "      <td>2.4</td>\n",
              "      <td>8.4</td>\n",
              "      <td>28.8</td>\n",
              "      <td>78.0</td>\n",
              "      <td>7.1</td>\n",
              "      <td>0.0</td>\n",
              "      <td>0.0</td>\n",
              "    </tr>\n",
              "    <tr>\n",
              "      <th>2018-06-01 02:00:00</th>\n",
              "      <td>24.0</td>\n",
              "      <td>2.0</td>\n",
              "      <td>1.4</td>\n",
              "      <td>29.0</td>\n",
              "      <td>77.0</td>\n",
              "      <td>5.1</td>\n",
              "      <td>0.0</td>\n",
              "      <td>0.0</td>\n",
              "    </tr>\n",
              "    <tr>\n",
              "      <th>2018-06-01 03:00:00</th>\n",
              "      <td>23.0</td>\n",
              "      <td>1.9</td>\n",
              "      <td>358.0</td>\n",
              "      <td>28.6</td>\n",
              "      <td>79.0</td>\n",
              "      <td>5.3</td>\n",
              "      <td>0.0</td>\n",
              "      <td>0.0</td>\n",
              "    </tr>\n",
              "    <tr>\n",
              "      <th>2018-06-01 04:00:00</th>\n",
              "      <td>22.0</td>\n",
              "      <td>2.4</td>\n",
              "      <td>46.0</td>\n",
              "      <td>28.5</td>\n",
              "      <td>79.0</td>\n",
              "      <td>5.9</td>\n",
              "      <td>0.0</td>\n",
              "      <td>0.0</td>\n",
              "    </tr>\n",
              "    <tr>\n",
              "      <th>...</th>\n",
              "      <td>...</td>\n",
              "      <td>...</td>\n",
              "      <td>...</td>\n",
              "      <td>...</td>\n",
              "      <td>...</td>\n",
              "      <td>...</td>\n",
              "      <td>...</td>\n",
              "      <td>...</td>\n",
              "    </tr>\n",
              "    <tr>\n",
              "      <th>2022-05-31 19:00:00</th>\n",
              "      <td>24.0</td>\n",
              "      <td>1.0</td>\n",
              "      <td>219.0</td>\n",
              "      <td>29.3</td>\n",
              "      <td>77.0</td>\n",
              "      <td>4.0</td>\n",
              "      <td>0.0</td>\n",
              "      <td>0.0</td>\n",
              "    </tr>\n",
              "    <tr>\n",
              "      <th>2022-05-31 20:00:00</th>\n",
              "      <td>23.0</td>\n",
              "      <td>1.4</td>\n",
              "      <td>219.0</td>\n",
              "      <td>29.2</td>\n",
              "      <td>76.0</td>\n",
              "      <td>4.5</td>\n",
              "      <td>0.0</td>\n",
              "      <td>0.0</td>\n",
              "    </tr>\n",
              "    <tr>\n",
              "      <th>2022-05-31 21:00:00</th>\n",
              "      <td>22.0</td>\n",
              "      <td>1.1</td>\n",
              "      <td>207.0</td>\n",
              "      <td>29.2</td>\n",
              "      <td>78.0</td>\n",
              "      <td>4.3</td>\n",
              "      <td>0.0</td>\n",
              "      <td>0.0</td>\n",
              "    </tr>\n",
              "    <tr>\n",
              "      <th>2022-05-31 22:00:00</th>\n",
              "      <td>32.0</td>\n",
              "      <td>0.7</td>\n",
              "      <td>187.0</td>\n",
              "      <td>29.1</td>\n",
              "      <td>74.0</td>\n",
              "      <td>3.3</td>\n",
              "      <td>0.0</td>\n",
              "      <td>0.0</td>\n",
              "    </tr>\n",
              "    <tr>\n",
              "      <th>2022-05-31 23:00:00</th>\n",
              "      <td>19.0</td>\n",
              "      <td>0.8</td>\n",
              "      <td>160.0</td>\n",
              "      <td>28.5</td>\n",
              "      <td>81.0</td>\n",
              "      <td>3.8</td>\n",
              "      <td>0.0</td>\n",
              "      <td>0.0</td>\n",
              "    </tr>\n",
              "  </tbody>\n",
              "</table>\n",
              "<p>40094 rows × 8 columns</p>\n",
              "</div>\n",
              "      <button class=\"colab-df-convert\" onclick=\"convertToInteractive('df-2befbab7-34c3-4404-bd46-74639d06c0a0')\"\n",
              "              title=\"Convert this dataframe to an interactive table.\"\n",
              "              style=\"display:none;\">\n",
              "        \n",
              "  <svg xmlns=\"http://www.w3.org/2000/svg\" height=\"24px\"viewBox=\"0 0 24 24\"\n",
              "       width=\"24px\">\n",
              "    <path d=\"M0 0h24v24H0V0z\" fill=\"none\"/>\n",
              "    <path d=\"M18.56 5.44l.94 2.06.94-2.06 2.06-.94-2.06-.94-.94-2.06-.94 2.06-2.06.94zm-11 1L8.5 8.5l.94-2.06 2.06-.94-2.06-.94L8.5 2.5l-.94 2.06-2.06.94zm10 10l.94 2.06.94-2.06 2.06-.94-2.06-.94-.94-2.06-.94 2.06-2.06.94z\"/><path d=\"M17.41 7.96l-1.37-1.37c-.4-.4-.92-.59-1.43-.59-.52 0-1.04.2-1.43.59L10.3 9.45l-7.72 7.72c-.78.78-.78 2.05 0 2.83L4 21.41c.39.39.9.59 1.41.59.51 0 1.02-.2 1.41-.59l7.78-7.78 2.81-2.81c.8-.78.8-2.07 0-2.86zM5.41 20L4 18.59l7.72-7.72 1.47 1.35L5.41 20z\"/>\n",
              "  </svg>\n",
              "      </button>\n",
              "      \n",
              "  <style>\n",
              "    .colab-df-container {\n",
              "      display:flex;\n",
              "      flex-wrap:wrap;\n",
              "      gap: 12px;\n",
              "    }\n",
              "\n",
              "    .colab-df-convert {\n",
              "      background-color: #E8F0FE;\n",
              "      border: none;\n",
              "      border-radius: 50%;\n",
              "      cursor: pointer;\n",
              "      display: none;\n",
              "      fill: #1967D2;\n",
              "      height: 32px;\n",
              "      padding: 0 0 0 0;\n",
              "      width: 32px;\n",
              "    }\n",
              "\n",
              "    .colab-df-convert:hover {\n",
              "      background-color: #E2EBFA;\n",
              "      box-shadow: 0px 1px 2px rgba(60, 64, 67, 0.3), 0px 1px 3px 1px rgba(60, 64, 67, 0.15);\n",
              "      fill: #174EA6;\n",
              "    }\n",
              "\n",
              "    [theme=dark] .colab-df-convert {\n",
              "      background-color: #3B4455;\n",
              "      fill: #D2E3FC;\n",
              "    }\n",
              "\n",
              "    [theme=dark] .colab-df-convert:hover {\n",
              "      background-color: #434B5C;\n",
              "      box-shadow: 0px 1px 3px 1px rgba(0, 0, 0, 0.15);\n",
              "      filter: drop-shadow(0px 1px 2px rgba(0, 0, 0, 0.3));\n",
              "      fill: #FFFFFF;\n",
              "    }\n",
              "  </style>\n",
              "\n",
              "      <script>\n",
              "        const buttonEl =\n",
              "          document.querySelector('#df-2befbab7-34c3-4404-bd46-74639d06c0a0 button.colab-df-convert');\n",
              "        buttonEl.style.display =\n",
              "          google.colab.kernel.accessAllowed ? 'block' : 'none';\n",
              "\n",
              "        async function convertToInteractive(key) {\n",
              "          const element = document.querySelector('#df-2befbab7-34c3-4404-bd46-74639d06c0a0');\n",
              "          const dataTable =\n",
              "            await google.colab.kernel.invokeFunction('convertToInteractive',\n",
              "                                                     [key], {});\n",
              "          if (!dataTable) return;\n",
              "\n",
              "          const docLinkHtml = 'Like what you see? Visit the ' +\n",
              "            '<a target=\"_blank\" href=https://colab.research.google.com/notebooks/data_table.ipynb>data table notebook</a>'\n",
              "            + ' to learn more about interactive tables.';\n",
              "          element.innerHTML = '';\n",
              "          dataTable['output_type'] = 'display_data';\n",
              "          await google.colab.output.renderOutput(dataTable, element);\n",
              "          const docLink = document.createElement('div');\n",
              "          docLink.innerHTML = docLinkHtml;\n",
              "          element.appendChild(docLink);\n",
              "        }\n",
              "      </script>\n",
              "    </div>\n",
              "  </div>\n",
              "  "
            ]
          },
          "metadata": {},
          "execution_count": 67
        }
      ]
    },
    {
      "cell_type": "markdown",
      "source": [
        "Decision Tree"
      ],
      "metadata": {
        "id": "3fKKf5C3LpjL"
      }
    },
    {
      "cell_type": "code",
      "source": [
        "# 從訓練集和測試集中分離特徵和目標變數\n",
        "X_train = train_data_use.drop('\"aqi\"', axis=1)\n",
        "y_train = train_data_use['\"aqi\"']\n",
        "X_test = test_data_use.drop('\"aqi\"', axis=1)\n",
        "y_test = test_data_use['\"aqi\"']\n",
        "\n",
        "scaler = MinMaxScaler(feature_range=(0, 1))\n",
        "X_train_scaled = scaler.fit_transform(X_train)\n",
        "X_test_scaled = scaler.transform(X_test)"
      ],
      "metadata": {
        "id": "UD7aDhnALhud"
      },
      "execution_count": 25,
      "outputs": []
    },
    {
      "cell_type": "code",
      "source": [
        "from sklearn.tree import DecisionTreeClassifier\n",
        "tree = DecisionTreeClassifier(criterion = 'entropy')\n",
        "tree.fit(X_train_scaled,y_train)"
      ],
      "metadata": {
        "colab": {
          "base_uri": "https://localhost:8080/",
          "height": 74
        },
        "id": "otltoPTIM0dY",
        "outputId": "12d0fd64-5e5e-48ca-d53c-dbe1a5122402"
      },
      "execution_count": 26,
      "outputs": [
        {
          "output_type": "execute_result",
          "data": {
            "text/plain": [
              "DecisionTreeClassifier(criterion='entropy')"
            ],
            "text/html": [
              "<style>#sk-container-id-1 {color: black;background-color: white;}#sk-container-id-1 pre{padding: 0;}#sk-container-id-1 div.sk-toggleable {background-color: white;}#sk-container-id-1 label.sk-toggleable__label {cursor: pointer;display: block;width: 100%;margin-bottom: 0;padding: 0.3em;box-sizing: border-box;text-align: center;}#sk-container-id-1 label.sk-toggleable__label-arrow:before {content: \"▸\";float: left;margin-right: 0.25em;color: #696969;}#sk-container-id-1 label.sk-toggleable__label-arrow:hover:before {color: black;}#sk-container-id-1 div.sk-estimator:hover label.sk-toggleable__label-arrow:before {color: black;}#sk-container-id-1 div.sk-toggleable__content {max-height: 0;max-width: 0;overflow: hidden;text-align: left;background-color: #f0f8ff;}#sk-container-id-1 div.sk-toggleable__content pre {margin: 0.2em;color: black;border-radius: 0.25em;background-color: #f0f8ff;}#sk-container-id-1 input.sk-toggleable__control:checked~div.sk-toggleable__content {max-height: 200px;max-width: 100%;overflow: auto;}#sk-container-id-1 input.sk-toggleable__control:checked~label.sk-toggleable__label-arrow:before {content: \"▾\";}#sk-container-id-1 div.sk-estimator input.sk-toggleable__control:checked~label.sk-toggleable__label {background-color: #d4ebff;}#sk-container-id-1 div.sk-label input.sk-toggleable__control:checked~label.sk-toggleable__label {background-color: #d4ebff;}#sk-container-id-1 input.sk-hidden--visually {border: 0;clip: rect(1px 1px 1px 1px);clip: rect(1px, 1px, 1px, 1px);height: 1px;margin: -1px;overflow: hidden;padding: 0;position: absolute;width: 1px;}#sk-container-id-1 div.sk-estimator {font-family: monospace;background-color: #f0f8ff;border: 1px dotted black;border-radius: 0.25em;box-sizing: border-box;margin-bottom: 0.5em;}#sk-container-id-1 div.sk-estimator:hover {background-color: #d4ebff;}#sk-container-id-1 div.sk-parallel-item::after {content: \"\";width: 100%;border-bottom: 1px solid gray;flex-grow: 1;}#sk-container-id-1 div.sk-label:hover label.sk-toggleable__label {background-color: #d4ebff;}#sk-container-id-1 div.sk-serial::before {content: \"\";position: absolute;border-left: 1px solid gray;box-sizing: border-box;top: 0;bottom: 0;left: 50%;z-index: 0;}#sk-container-id-1 div.sk-serial {display: flex;flex-direction: column;align-items: center;background-color: white;padding-right: 0.2em;padding-left: 0.2em;position: relative;}#sk-container-id-1 div.sk-item {position: relative;z-index: 1;}#sk-container-id-1 div.sk-parallel {display: flex;align-items: stretch;justify-content: center;background-color: white;position: relative;}#sk-container-id-1 div.sk-item::before, #sk-container-id-1 div.sk-parallel-item::before {content: \"\";position: absolute;border-left: 1px solid gray;box-sizing: border-box;top: 0;bottom: 0;left: 50%;z-index: -1;}#sk-container-id-1 div.sk-parallel-item {display: flex;flex-direction: column;z-index: 1;position: relative;background-color: white;}#sk-container-id-1 div.sk-parallel-item:first-child::after {align-self: flex-end;width: 50%;}#sk-container-id-1 div.sk-parallel-item:last-child::after {align-self: flex-start;width: 50%;}#sk-container-id-1 div.sk-parallel-item:only-child::after {width: 0;}#sk-container-id-1 div.sk-dashed-wrapped {border: 1px dashed gray;margin: 0 0.4em 0.5em 0.4em;box-sizing: border-box;padding-bottom: 0.4em;background-color: white;}#sk-container-id-1 div.sk-label label {font-family: monospace;font-weight: bold;display: inline-block;line-height: 1.2em;}#sk-container-id-1 div.sk-label-container {text-align: center;}#sk-container-id-1 div.sk-container {/* jupyter's `normalize.less` sets `[hidden] { display: none; }` but bootstrap.min.css set `[hidden] { display: none !important; }` so we also need the `!important` here to be able to override the default hidden behavior on the sphinx rendered scikit-learn.org. See: https://github.com/scikit-learn/scikit-learn/issues/21755 */display: inline-block !important;position: relative;}#sk-container-id-1 div.sk-text-repr-fallback {display: none;}</style><div id=\"sk-container-id-1\" class=\"sk-top-container\"><div class=\"sk-text-repr-fallback\"><pre>DecisionTreeClassifier(criterion=&#x27;entropy&#x27;)</pre><b>In a Jupyter environment, please rerun this cell to show the HTML representation or trust the notebook. <br />On GitHub, the HTML representation is unable to render, please try loading this page with nbviewer.org.</b></div><div class=\"sk-container\" hidden><div class=\"sk-item\"><div class=\"sk-estimator sk-toggleable\"><input class=\"sk-toggleable__control sk-hidden--visually\" id=\"sk-estimator-id-1\" type=\"checkbox\" checked><label for=\"sk-estimator-id-1\" class=\"sk-toggleable__label sk-toggleable__label-arrow\">DecisionTreeClassifier</label><div class=\"sk-toggleable__content\"><pre>DecisionTreeClassifier(criterion=&#x27;entropy&#x27;)</pre></div></div></div></div></div>"
            ]
          },
          "metadata": {},
          "execution_count": 26
        }
      ]
    },
    {
      "cell_type": "code",
      "source": [
        "y_train_pred_scaled = tree.predict(X_train_scaled)\n",
        "y_test_pred_scaled = tree.predict(X_test_scaled)"
      ],
      "metadata": {
        "id": "hTIr_sWBvuGI"
      },
      "execution_count": 27,
      "outputs": []
    },
    {
      "cell_type": "code",
      "source": [
        "y_train_pred_scaled"
      ],
      "metadata": {
        "colab": {
          "base_uri": "https://localhost:8080/"
        },
        "id": "6kH113xMvyn7",
        "outputId": "6256e88c-7a48-4427-ba90-d4a4bbed5e18"
      },
      "execution_count": 28,
      "outputs": [
        {
          "output_type": "execute_result",
          "data": {
            "text/plain": [
              "array([22., 24., 24., ..., 22., 32., 19.])"
            ]
          },
          "metadata": {},
          "execution_count": 28
        }
      ]
    },
    {
      "cell_type": "code",
      "source": [
        "train_dates = train_data_use.index\n",
        "test_dates = test_data_use.index\n",
        "\n",
        "plt.figure(figsize=(10, 6))\n",
        "plt.plot(test_dates, y_test, label='Actual (Test)')\n",
        "plt.plot(test_dates, y_test_pred_scaled, label='Predicted (Test)')\n",
        "plt.xlabel('Time')\n",
        "plt.ylabel('AQI')\n",
        "plt.title('AQI Prediction')\n",
        "plt.legend()\n",
        "plt.xticks(rotation=45)\n",
        "plt.show()"
      ],
      "metadata": {
        "colab": {
          "base_uri": "https://localhost:8080/",
          "height": 601
        },
        "id": "5MSmWB1tyIzv",
        "outputId": "a2ba51ae-428d-4c27-8473-11b26b830005"
      },
      "execution_count": 29,
      "outputs": [
        {
          "output_type": "display_data",
          "data": {
            "text/plain": [
              "<Figure size 1000x600 with 1 Axes>"
            ],
            "image/png": "[encoded data removed]"
          },
          "metadata": {}
        }
      ]
    },
    {
      "cell_type": "code",
      "source": [
        "# 定義分類閥值和對應的分類標籤\n",
        "thresholds = [0, 50, 100, 150, 200]\n",
        "labels = ['良好', '普通', '對敏感族群不健康', '對所有族群不健康']\n",
        "\n",
        "# 使用np.digitize將數值轉換為分類標籤的索引值\n",
        "indices_test = np.digitize(y_test, thresholds)\n",
        "indices_test_prd = np.digitize(y_test_pred_scaled, thresholds)\n",
        "\n",
        "# 根據索引值將數值轉換為對應的分類標籤\n",
        "y_test = [labels[i-1] for i in indices_test]\n",
        "y_test_pred = [labels[i-1] for i in indices_test_prd]\n",
        "\n",
        "# 計算測試集的準確率\n",
        "accuracy_train = accuracy_score(y_test, y_test_pred)\n",
        "print(\"訓練集準確率：\", accuracy_train)\n",
        "\n",
        "# 計算測試集的混淆矩陣\n",
        "confusion_matrix_test = confusion_matrix(y_test, y_test_pred, labels=labels)\n",
        "print(\"測試集混淆矩陣：\")\n",
        "print(confusion_matrix_test)"
      ],
      "metadata": {
        "colab": {
          "base_uri": "https://localhost:8080/"
        },
        "id": "OFShxjSav01p",
        "outputId": "596e5457-cc19-4494-9a9b-d0b3c63541d2"
      },
      "execution_count": 105,
      "outputs": [
        {
          "output_type": "stream",
          "name": "stdout",
          "text": [
            "訓練集準確率： 0.5495402298850575\n",
            "測試集混淆矩陣：\n",
            "[[2167  868  165   20]\n",
            " [1032 2467  716  126]\n",
            " [ 112  418  134   29]\n",
            " [ 216  169   48   13]]\n"
          ]
        }
      ]
    },
    {
      "cell_type": "markdown",
      "source": [
        "Random Forest"
      ],
      "metadata": {
        "id": "8axxkQzxOneO"
      }
    },
    {
      "cell_type": "code",
      "source": [
        "pip install tsfresh"
      ],
      "metadata": {
        "colab": {
          "base_uri": "https://localhost:8080/"
        },
        "id": "xHFsZSp3stwP",
        "outputId": "65b64921-acc1-4576-ec58-2bb273e5f8c7"
      },
      "execution_count": 30,
      "outputs": [
        {
          "output_type": "stream",
          "name": "stdout",
          "text": [
            "Looking in indexes: https://pypi.org/simple, https://us-python.pkg.dev/colab-wheels/public/simple/\n",
            "Collecting tsfresh\n",
            "  Downloading tsfresh-0.20.1-py2.py3-none-any.whl (95 kB)\n",
            "\u001b[2K     \u001b[90m━━━━━━━━━━━━━━━━━━━━━━━━━━━━━━━━━━━━━━━━\u001b[0m \u001b[32m95.3/95.3 kB\u001b[0m \u001b[31m5.4 MB/s\u001b[0m eta \u001b[36m0:00:00\u001b[0m\n",
            "\u001b[?25hRequirement already satisfied: requests>=2.9.1 in /usr/local/lib/python3.10/dist-packages (from tsfresh) (2.27.1)\n",
            "Requirement already satisfied: numpy>=1.15.1 in /usr/local/lib/python3.10/dist-packages (from tsfresh) (1.22.4)\n",
            "Requirement already satisfied: pandas>=0.25.0 in /usr/local/lib/python3.10/dist-packages (from tsfresh) (1.5.3)\n",
            "Requirement already satisfied: scipy>=1.2.0 in /usr/local/lib/python3.10/dist-packages (from tsfresh) (1.10.1)\n",
            "Requirement already satisfied: statsmodels>=0.13 in /usr/local/lib/python3.10/dist-packages (from tsfresh) (0.13.5)\n",
            "Requirement already satisfied: patsy>=0.4.1 in /usr/local/lib/python3.10/dist-packages (from tsfresh) (0.5.3)\n",
            "Requirement already satisfied: scikit-learn>=0.22.0 in /usr/local/lib/python3.10/dist-packages (from tsfresh) (1.2.2)\n",
            "Requirement already satisfied: tqdm>=4.10.0 in /usr/local/lib/python3.10/dist-packages (from tsfresh) (4.65.0)\n",
            "Requirement already satisfied: dask[dataframe]>=2.9.0 in /usr/local/lib/python3.10/dist-packages (from tsfresh) (2022.12.1)\n",
            "Requirement already satisfied: distributed>=2.11.0 in /usr/local/lib/python3.10/dist-packages (from tsfresh) (2022.12.1)\n",
            "Collecting stumpy>=1.7.2 (from tsfresh)\n",
            "  Downloading stumpy-1.11.1-py3-none-any.whl (136 kB)\n",
            "\u001b[2K     \u001b[90m━━━━━━━━━━━━━━━━━━━━━━━━━━━━━━━━━━━━━━\u001b[0m \u001b[32m136.2/136.2 kB\u001b[0m \u001b[31m15.6 MB/s\u001b[0m eta \u001b[36m0:00:00\u001b[0m\n",
            "\u001b[?25hRequirement already satisfied: cloudpickle in /usr/local/lib/python3.10/dist-packages (from tsfresh) (2.2.1)\n",
            "Requirement already satisfied: click>=7.0 in /usr/local/lib/python3.10/dist-packages (from dask[dataframe]>=2.9.0->tsfresh) (8.1.3)\n",
            "Requirement already satisfied: fsspec>=0.6.0 in /usr/local/lib/python3.10/dist-packages (from dask[dataframe]>=2.9.0->tsfresh) (2023.4.0)\n",
            "Requirement already satisfied: packaging>=20.0 in /usr/local/lib/python3.10/dist-packages (from dask[dataframe]>=2.9.0->tsfresh) (23.1)\n",
            "Requirement already satisfied: partd>=0.3.10 in /usr/local/lib/python3.10/dist-packages (from dask[dataframe]>=2.9.0->tsfresh) (1.4.0)\n",
            "Requirement already satisfied: pyyaml>=5.3.1 in /usr/local/lib/python3.10/dist-packages (from dask[dataframe]>=2.9.0->tsfresh) (6.0)\n",
            "Requirement already satisfied: toolz>=0.8.2 in /usr/local/lib/python3.10/dist-packages (from dask[dataframe]>=2.9.0->tsfresh) (0.12.0)\n",
            "Requirement already satisfied: jinja2 in /usr/local/lib/python3.10/dist-packages (from distributed>=2.11.0->tsfresh) (3.1.2)\n",
            "Requirement already satisfied: locket>=1.0.0 in /usr/local/lib/python3.10/dist-packages (from distributed>=2.11.0->tsfresh) (1.0.0)\n",
            "Requirement already satisfied: msgpack>=0.6.0 in /usr/local/lib/python3.10/dist-packages (from distributed>=2.11.0->tsfresh) (1.0.5)\n",
            "Requirement already satisfied: psutil>=5.0 in /usr/local/lib/python3.10/dist-packages (from distributed>=2.11.0->tsfresh) (5.9.5)\n",
            "Requirement already satisfied: sortedcontainers!=2.0.0,!=2.0.1 in /usr/local/lib/python3.10/dist-packages (from distributed>=2.11.0->tsfresh) (2.4.0)\n",
            "Requirement already satisfied: tblib>=1.6.0 in /usr/local/lib/python3.10/dist-packages (from distributed>=2.11.0->tsfresh) (1.7.0)\n",
            "Requirement already satisfied: tornado>=6.0.3 in /usr/local/lib/python3.10/dist-packages (from distributed>=2.11.0->tsfresh) (6.3.1)\n",
            "Requirement already satisfied: urllib3 in /usr/local/lib/python3.10/dist-packages (from distributed>=2.11.0->tsfresh) (1.26.15)\n",
            "Requirement already satisfied: zict>=0.1.3 in /usr/local/lib/python3.10/dist-packages (from distributed>=2.11.0->tsfresh) (3.0.0)\n",
            "Requirement already satisfied: python-dateutil>=2.8.1 in /usr/local/lib/python3.10/dist-packages (from pandas>=0.25.0->tsfresh) (2.8.2)\n",
            "Requirement already satisfied: pytz>=2020.1 in /usr/local/lib/python3.10/dist-packages (from pandas>=0.25.0->tsfresh) (2022.7.1)\n",
            "Requirement already satisfied: six in /usr/local/lib/python3.10/dist-packages (from patsy>=0.4.1->tsfresh) (1.16.0)\n",
            "Requirement already satisfied: certifi>=2017.4.17 in /usr/local/lib/python3.10/dist-packages (from requests>=2.9.1->tsfresh) (2022.12.7)\n",
            "Requirement already satisfied: charset-normalizer~=2.0.0 in /usr/local/lib/python3.10/dist-packages (from requests>=2.9.1->tsfresh) (2.0.12)\n",
            "Requirement already satisfied: idna<4,>=2.5 in /usr/local/lib/python3.10/dist-packages (from requests>=2.9.1->tsfresh) (3.4)\n",
            "Requirement already satisfied: joblib>=1.1.1 in /usr/local/lib/python3.10/dist-packages (from scikit-learn>=0.22.0->tsfresh) (1.2.0)\n",
            "Requirement already satisfied: threadpoolctl>=2.0.0 in /usr/local/lib/python3.10/dist-packages (from scikit-learn>=0.22.0->tsfresh) (3.1.0)\n",
            "Requirement already satisfied: numba>=0.54 in /usr/local/lib/python3.10/dist-packages (from stumpy>=1.7.2->tsfresh) (0.56.4)\n",
            "Requirement already satisfied: llvmlite<0.40,>=0.39.0dev0 in /usr/local/lib/python3.10/dist-packages (from numba>=0.54->stumpy>=1.7.2->tsfresh) (0.39.1)\n",
            "Requirement already satisfied: setuptools in /usr/local/lib/python3.10/dist-packages (from numba>=0.54->stumpy>=1.7.2->tsfresh) (67.7.2)\n",
            "Requirement already satisfied: MarkupSafe>=2.0 in /usr/local/lib/python3.10/dist-packages (from jinja2->distributed>=2.11.0->tsfresh) (2.1.2)\n",
            "Installing collected packages: stumpy, tsfresh\n",
            "Successfully installed stumpy-1.11.1 tsfresh-0.20.1\n"
          ]
        }
      ]
    },
    {
      "cell_type": "code",
      "source": [
        "pip install sktime"
      ],
      "metadata": {
        "colab": {
          "base_uri": "https://localhost:8080/"
        },
        "id": "k9W-EMOptluw",
        "outputId": "f194065d-a18f-4c70-daae-e43d6fba9bdc"
      },
      "execution_count": 31,
      "outputs": [
        {
          "output_type": "stream",
          "name": "stdout",
          "text": [
            "Looking in indexes: https://pypi.org/simple, https://us-python.pkg.dev/colab-wheels/public/simple/\n",
            "Collecting sktime\n",
            "  Downloading sktime-0.19.1-py3-none-any.whl (17.0 MB)\n",
            "\u001b[2K     \u001b[90m━━━━━━━━━━━━━━━━━━━━━━━━━━━━━━━━━━━━━━━━\u001b[0m \u001b[32m17.0/17.0 MB\u001b[0m \u001b[31m35.0 MB/s\u001b[0m eta \u001b[36m0:00:00\u001b[0m\n",
            "\u001b[?25hCollecting deprecated>=1.2.13 (from sktime)\n",
            "  Downloading Deprecated-1.2.14-py2.py3-none-any.whl (9.6 kB)\n",
            "Requirement already satisfied: numpy<1.25,>=1.21.0 in /usr/local/lib/python3.10/dist-packages (from sktime) (1.22.4)\n",
            "Requirement already satisfied: pandas<2.1.0,>=1.1.0 in /usr/local/lib/python3.10/dist-packages (from sktime) (1.5.3)\n",
            "Requirement already satisfied: packaging in /usr/local/lib/python3.10/dist-packages (from sktime) (23.1)\n",
            "Collecting scikit-base<0.5.0 (from sktime)\n",
            "  Downloading scikit_base-0.4.6-py3-none-any.whl (119 kB)\n",
            "\u001b[2K     \u001b[90m━━━━━━━━━━━━━━━━━━━━━━━━━━━━━━━━━━━━━━━\u001b[0m \u001b[32m119.1/119.1 kB\u001b[0m \u001b[31m7.3 MB/s\u001b[0m eta \u001b[36m0:00:00\u001b[0m\n",
            "\u001b[?25hRequirement already satisfied: scikit-learn<1.3.0,>=0.24.0 in /usr/local/lib/python3.10/dist-packages (from sktime) (1.2.2)\n",
            "Requirement already satisfied: scipy<2.0.0,>=1.2.0 in /usr/local/lib/python3.10/dist-packages (from sktime) (1.10.1)\n",
            "Requirement already satisfied: wrapt<2,>=1.10 in /usr/local/lib/python3.10/dist-packages (from deprecated>=1.2.13->sktime) (1.14.1)\n",
            "Requirement already satisfied: python-dateutil>=2.8.1 in /usr/local/lib/python3.10/dist-packages (from pandas<2.1.0,>=1.1.0->sktime) (2.8.2)\n",
            "Requirement already satisfied: pytz>=2020.1 in /usr/local/lib/python3.10/dist-packages (from pandas<2.1.0,>=1.1.0->sktime) (2022.7.1)\n",
            "Requirement already satisfied: joblib>=1.1.1 in /usr/local/lib/python3.10/dist-packages (from scikit-learn<1.3.0,>=0.24.0->sktime) (1.2.0)\n",
            "Requirement already satisfied: threadpoolctl>=2.0.0 in /usr/local/lib/python3.10/dist-packages (from scikit-learn<1.3.0,>=0.24.0->sktime) (3.1.0)\n",
            "Requirement already satisfied: six>=1.5 in /usr/local/lib/python3.10/dist-packages (from python-dateutil>=2.8.1->pandas<2.1.0,>=1.1.0->sktime) (1.16.0)\n",
            "Installing collected packages: scikit-base, deprecated, sktime\n",
            "Successfully installed deprecated-1.2.14 scikit-base-0.4.6 sktime-0.19.1\n"
          ]
        }
      ]
    },
    {
      "cell_type": "code",
      "source": [
        "from tsfresh.utilities.dataframe_functions import make_forecasting_frame\n",
        "from tsfresh import extract_features\n",
        "from sktime.regression.interval_based import TimeSeriesForestRegressor"
      ],
      "metadata": {
        "id": "ZeGXiMeir-mb"
      },
      "execution_count": 32,
      "outputs": []
    },
    {
      "cell_type": "code",
      "source": [
        "# 從訓練集和測試集中分離特徵和目標變數\n",
        "X_train = train_data_use.drop('\"aqi\"', axis=1)\n",
        "y_train = train_data_use['\"aqi\"']\n",
        "X_test = test_data_use.drop('\"aqi\"', axis=1)\n",
        "y_test = test_data_use['\"aqi\"']\n",
        "\n",
        "scaler = MinMaxScaler(feature_range=(0, 1))\n",
        "X_train_scaled = scaler.fit_transform(X_train)\n",
        "X_test_scaled = scaler.transform(X_test)"
      ],
      "metadata": {
        "id": "AwayZyZEuD5n"
      },
      "execution_count": 33,
      "outputs": []
    },
    {
      "cell_type": "code",
      "source": [
        "rf = TimeSeriesForestRegressor(n_estimators=100, random_state=0)\n",
        "rf.fit(X_train_scaled, y_train)"
      ],
      "metadata": {
        "colab": {
          "base_uri": "https://localhost:8080/",
          "height": 74
        },
        "id": "FHCzcIt2r_YJ",
        "outputId": "95d161e4-bc5a-470f-a891-56d3fb886e6e"
      },
      "execution_count": 34,
      "outputs": [
        {
          "output_type": "execute_result",
          "data": {
            "text/plain": [
              "TimeSeriesForestRegressor(n_estimators=100, random_state=0)"
            ],
            "text/html": [
              "<style>#sk-container-id-2 {color: black;background-color: white;}#sk-container-id-2 pre{padding: 0;}#sk-container-id-2 div.sk-toggleable {background-color: white;}#sk-container-id-2 label.sk-toggleable__label {cursor: pointer;display: block;width: 100%;margin-bottom: 0;padding: 0.3em;box-sizing: border-box;text-align: center;}#sk-container-id-2 label.sk-toggleable__label-arrow:before {content: \"▸\";float: left;margin-right: 0.25em;color: #696969;}#sk-container-id-2 label.sk-toggleable__label-arrow:hover:before {color: black;}#sk-container-id-2 div.sk-estimator:hover label.sk-toggleable__label-arrow:before {color: black;}#sk-container-id-2 div.sk-toggleable__content {max-height: 0;max-width: 0;overflow: hidden;text-align: left;background-color: #f0f8ff;}#sk-container-id-2 div.sk-toggleable__content pre {margin: 0.2em;color: black;border-radius: 0.25em;background-color: #f0f8ff;}#sk-container-id-2 input.sk-toggleable__control:checked~div.sk-toggleable__content {max-height: 200px;max-width: 100%;overflow: auto;}#sk-container-id-2 input.sk-toggleable__control:checked~label.sk-toggleable__label-arrow:before {content: \"▾\";}#sk-container-id-2 div.sk-estimator input.sk-toggleable__control:checked~label.sk-toggleable__label {background-color: #d4ebff;}#sk-container-id-2 div.sk-label input.sk-toggleable__control:checked~label.sk-toggleable__label {background-color: #d4ebff;}#sk-container-id-2 input.sk-hidden--visually {border: 0;clip: rect(1px 1px 1px 1px);clip: rect(1px, 1px, 1px, 1px);height: 1px;margin: -1px;overflow: hidden;padding: 0;position: absolute;width: 1px;}#sk-container-id-2 div.sk-estimator {font-family: monospace;background-color: #f0f8ff;border: 1px dotted black;border-radius: 0.25em;box-sizing: border-box;margin-bottom: 0.5em;}#sk-container-id-2 div.sk-estimator:hover {background-color: #d4ebff;}#sk-container-id-2 div.sk-parallel-item::after {content: \"\";width: 100%;border-bottom: 1px solid gray;flex-grow: 1;}#sk-container-id-2 div.sk-label:hover label.sk-toggleable__label {background-color: #d4ebff;}#sk-container-id-2 div.sk-serial::before {content: \"\";position: absolute;border-left: 1px solid gray;box-sizing: border-box;top: 0;bottom: 0;left: 50%;z-index: 0;}#sk-container-id-2 div.sk-serial {display: flex;flex-direction: column;align-items: center;background-color: white;padding-right: 0.2em;padding-left: 0.2em;position: relative;}#sk-container-id-2 div.sk-item {position: relative;z-index: 1;}#sk-container-id-2 div.sk-parallel {display: flex;align-items: stretch;justify-content: center;background-color: white;position: relative;}#sk-container-id-2 div.sk-item::before, #sk-container-id-2 div.sk-parallel-item::before {content: \"\";position: absolute;border-left: 1px solid gray;box-sizing: border-box;top: 0;bottom: 0;left: 50%;z-index: -1;}#sk-container-id-2 div.sk-parallel-item {display: flex;flex-direction: column;z-index: 1;position: relative;background-color: white;}#sk-container-id-2 div.sk-parallel-item:first-child::after {align-self: flex-end;width: 50%;}#sk-container-id-2 div.sk-parallel-item:last-child::after {align-self: flex-start;width: 50%;}#sk-container-id-2 div.sk-parallel-item:only-child::after {width: 0;}#sk-container-id-2 div.sk-dashed-wrapped {border: 1px dashed gray;margin: 0 0.4em 0.5em 0.4em;box-sizing: border-box;padding-bottom: 0.4em;background-color: white;}#sk-container-id-2 div.sk-label label {font-family: monospace;font-weight: bold;display: inline-block;line-height: 1.2em;}#sk-container-id-2 div.sk-label-container {text-align: center;}#sk-container-id-2 div.sk-container {/* jupyter's `normalize.less` sets `[hidden] { display: none; }` but bootstrap.min.css set `[hidden] { display: none !important; }` so we also need the `!important` here to be able to override the default hidden behavior on the sphinx rendered scikit-learn.org. See: https://github.com/scikit-learn/scikit-learn/issues/21755 */display: inline-block !important;position: relative;}#sk-container-id-2 div.sk-text-repr-fallback {display: none;}</style><div id=\"sk-container-id-2\" class=\"sk-top-container\"><div class=\"sk-text-repr-fallback\"><pre>TimeSeriesForestRegressor(n_estimators=100, random_state=0)</pre><b>In a Jupyter environment, please rerun this cell to show the HTML representation or trust the notebook. <br />On GitHub, the HTML representation is unable to render, please try loading this page with nbviewer.org.</b></div><div class=\"sk-container\" hidden><div class=\"sk-item\"><div class=\"sk-estimator sk-toggleable\"><input class=\"sk-toggleable__control sk-hidden--visually\" id=\"sk-estimator-id-2\" type=\"checkbox\" checked><label for=\"sk-estimator-id-2\" class=\"sk-toggleable__label sk-toggleable__label-arrow\">TimeSeriesForestRegressor</label><div class=\"sk-toggleable__content\"><pre>TimeSeriesForestRegressor(n_estimators=100, random_state=0)</pre></div></div></div></div></div>"
            ]
          },
          "metadata": {},
          "execution_count": 34
        }
      ]
    },
    {
      "cell_type": "code",
      "source": [
        "y_train_pred_scaled = rf.predict(X_train_scaled)\n",
        "y_test_pred_scaled = rf.predict(X_test_scaled)"
      ],
      "metadata": {
        "id": "j3IySjJVu0OC"
      },
      "execution_count": 35,
      "outputs": []
    },
    {
      "cell_type": "code",
      "source": [
        "y_train_pred_scaled"
      ],
      "metadata": {
        "colab": {
          "base_uri": "https://localhost:8080/"
        },
        "id": "96wIGj3Xu4eL",
        "outputId": "bdf2ad93-47e1-4fef-9ea1-89cdb5fc4385"
      },
      "execution_count": 36,
      "outputs": [
        {
          "output_type": "execute_result",
          "data": {
            "text/plain": [
              "array([24.73882353, 26.77538462, 27.128     , ..., 24.7325    ,\n",
              "       34.44923077, 26.2864    ])"
            ]
          },
          "metadata": {},
          "execution_count": 36
        }
      ]
    },
    {
      "cell_type": "code",
      "source": [
        "train_dates = train_data_use.index\n",
        "test_dates = test_data_use.index\n",
        "\n",
        "plt.figure(figsize=(10, 6))\n",
        "plt.plot(test_dates, y_test, label='Actual (Test)')\n",
        "plt.plot(test_dates, y_test_pred_scaled, label='Predicted (Test)')\n",
        "plt.xlabel('Time')\n",
        "plt.ylabel('AQI')\n",
        "plt.title('AQI Prediction')\n",
        "plt.legend()\n",
        "plt.xticks(rotation=45)\n",
        "plt.show()"
      ],
      "metadata": {
        "colab": {
          "base_uri": "https://localhost:8080/",
          "height": 601
        },
        "id": "SRJIoBGKyYpC",
        "outputId": "40dca510-fccc-4799-eb7b-870875effb76"
      },
      "execution_count": 37,
      "outputs": [
        {
          "output_type": "display_data",
          "data": {
            "text/plain": [
              "<Figure size 1000x600 with 1 Axes>"
            ],
            "image/png": "[encoded data removed]"
          },
          "metadata": {}
        }
      ]
    },
    {
      "cell_type": "code",
      "source": [
        "# 定義分類閥值和對應的分類標籤\n",
        "thresholds = [0, 50, 100, 150, 200]\n",
        "labels = ['良好', '普通', '對敏感族群不健康', '對所有族群不健康']\n",
        "\n",
        "# 使用np.digitize將數值轉換為分類標籤的索引值\n",
        "indices_test = np.digitize(y_test, thresholds)\n",
        "indices_test_prd = np.digitize(y_test_pred_scaled, thresholds)\n",
        "\n",
        "# 根據索引值將數值轉換為對應的分類標籤\n",
        "y_test = [labels[i-1] for i in indices_test]\n",
        "y_test_pred = [labels[i-1] for i in indices_test_prd]\n",
        "\n",
        "# 計算測試集的準確率\n",
        "accuracy_train = accuracy_score(y_test, y_test_pred)\n",
        "print(\"訓練集準確率：\", accuracy_train)\n",
        "\n",
        "# 計算測試集的混淆矩陣\n",
        "confusion_matrix_test = confusion_matrix(y_test, y_test_pred, labels=labels)\n",
        "print(\"測試集混淆矩陣：\")\n",
        "print(confusion_matrix_test)"
      ],
      "metadata": {
        "colab": {
          "base_uri": "https://localhost:8080/"
        },
        "id": "PyukuuJZuuub",
        "outputId": "070f0432-bb24-4c7e-99a7-35a17dbf8dfe"
      },
      "execution_count": 98,
      "outputs": [
        {
          "output_type": "stream",
          "name": "stdout",
          "text": [
            "訓練集準確率： 0.6739080459770115\n",
            "測試集混淆矩陣：\n",
            "[[2141 1043   36    0]\n",
            " [ 493 3661  187    0]\n",
            " [  26  606   61    0]\n",
            " [ 166  259   21    0]]\n"
          ]
        }
      ]
    },
    {
      "cell_type": "markdown",
      "source": [
        "LightGBM"
      ],
      "metadata": {
        "id": "JPH_Dz9_OrcR"
      }
    },
    {
      "cell_type": "code",
      "source": [
        "# 從訓練集和測試集中分離特徵和目標變數\n",
        "X_train = train_data_use.drop('\"aqi\"', axis=1)\n",
        "y_train = train_data_use['\"aqi\"']\n",
        "X_test = test_data_use.drop('\"aqi\"', axis=1)\n",
        "y_test = test_data_use['\"aqi\"']\n",
        "\n",
        "scaler = MinMaxScaler(feature_range=(0, 1))\n",
        "X_train_scaled = scaler.fit_transform(X_train)\n",
        "X_test_scaled = scaler.transform(X_test)"
      ],
      "metadata": {
        "id": "_a52talGqB2Y"
      },
      "execution_count": 73,
      "outputs": []
    },
    {
      "cell_type": "code",
      "source": [
        "import lightgbm as lgb\n",
        "from sklearn.metrics import accuracy_score, confusion_matrix"
      ],
      "metadata": {
        "id": "_pBLVAP9qNHk"
      },
      "execution_count": 74,
      "outputs": []
    },
    {
      "cell_type": "code",
      "source": [
        "dtrain = lgb.Dataset(X_train_scaled, label=y_train)\n",
        "dtest = lgb.Dataset(X_test_scaled, label=y_test)"
      ],
      "metadata": {
        "id": "WCvB4FA7kFpl"
      },
      "execution_count": 75,
      "outputs": []
    },
    {
      "cell_type": "code",
      "source": [
        "params = {'num_leaves':31, 'num_trees':100, 'objective':'regression'}\n",
        "params['metric'] = 'rmse'\n",
        "num_round=100\n",
        "model = lgb.train(params, dtrain, num_round)"
      ],
      "metadata": {
        "colab": {
          "base_uri": "https://localhost:8080/"
        },
        "id": "Y-g9IkfGqLXW",
        "outputId": "57031262-1939-4b51-b2ce-1efe71f54052"
      },
      "execution_count": 76,
      "outputs": [
        {
          "output_type": "stream",
          "name": "stdout",
          "text": [
            "[LightGBM] [Warning] Auto-choosing row-wise multi-threading, the overhead of testing was 0.001500 seconds.\n",
            "You can set `force_row_wise=true` to remove the overhead.\n",
            "And if memory is not enough, you can set `force_col_wise=true`.\n",
            "[LightGBM] [Info] Total Bins 838\n",
            "[LightGBM] [Info] Number of data points in the train set: 40094, number of used features: 7\n",
            "[LightGBM] [Info] Start training from score 65.106500\n"
          ]
        }
      ]
    },
    {
      "cell_type": "code",
      "source": [
        "dtrain"
      ],
      "metadata": {
        "colab": {
          "base_uri": "https://localhost:8080/"
        },
        "id": "b0iAKliknXIS",
        "outputId": "d699c833-aa55-4f9a-eb10-3c5a5b742213"
      },
      "execution_count": 67,
      "outputs": [
        {
          "output_type": "execute_result",
          "data": {
            "text/plain": [
              "<lightgbm.basic.Dataset at 0x7f02a3367f10>"
            ]
          },
          "metadata": {},
          "execution_count": 67
        }
      ]
    },
    {
      "cell_type": "code",
      "source": [
        "y_train_pred_scaled = model.predict(X_train_scaled)\n",
        "y_test_pred_scaled = model.predict(X_test_scaled)"
      ],
      "metadata": {
        "id": "8H6e8fEHj1Z5"
      },
      "execution_count": 77,
      "outputs": []
    },
    {
      "cell_type": "code",
      "source": [
        "y_test_pred_scaled"
      ],
      "metadata": {
        "colab": {
          "base_uri": "https://localhost:8080/"
        },
        "id": "I0w5h8XAkONn",
        "outputId": "6bb44f69-6889-4ddb-dd90-80e18a3922d4"
      },
      "execution_count": 69,
      "outputs": [
        {
          "output_type": "execute_result",
          "data": {
            "text/plain": [
              "array([30.86436569, 31.87248669, 29.76807033, ..., 54.86093734,\n",
              "       51.49232213, 52.68523219])"
            ]
          },
          "metadata": {},
          "execution_count": 69
        }
      ]
    },
    {
      "cell_type": "code",
      "source": [
        "train_dates = train_data_use.index\n",
        "test_dates = test_data_use.index\n",
        "\n",
        "plt.figure(figsize=(10, 6))\n",
        "plt.plot(test_dates, y_test, label='Actual (Test)')\n",
        "plt.plot(test_dates, y_test_pred_scaled, label='Predicted (Test)')\n",
        "plt.xlabel('Time')\n",
        "plt.ylabel('AQI')\n",
        "plt.title('AQI Prediction')\n",
        "plt.legend()\n",
        "plt.xticks(rotation=45)\n",
        "plt.show()"
      ],
      "metadata": {
        "colab": {
          "base_uri": "https://localhost:8080/",
          "height": 601
        },
        "id": "JPPbkZkwqOrP",
        "outputId": "a4791f5c-6667-4e42-9322-0e17d6949e01"
      },
      "execution_count": 78,
      "outputs": [
        {
          "output_type": "display_data",
          "data": {
            "text/plain": [
              "<Figure size 1000x600 with 1 Axes>"
            ],
            "image/png": "[encoded data removed]"
          },
          "metadata": {}
        }
      ]
    },
    {
      "cell_type": "code",
      "source": [
        "# 定義分類閥值和對應的分類標籤\n",
        "thresholds = [0, 50, 100, 150, 200]\n",
        "labels = ['良好', '普通', '對敏感族群不健康', '對所有族群不健康']\n",
        "\n",
        "# 使用np.digitize將數值轉換為分類標籤的索引值\n",
        "indices_test = np.digitize(y_test, thresholds)\n",
        "indices_test_prd = np.digitize(y_test_pred_scaled, thresholds)\n",
        "\n",
        "# 根據索引值將數值轉換為對應的分類標籤\n",
        "y_test = [labels[i-1] for i in indices_test]\n",
        "y_test_pred = [labels[i-1] for i in indices_test_prd]\n",
        "\n",
        "# 計算測試集的準確率\n",
        "accuracy_train = accuracy_score(y_test, y_test_pred)\n",
        "print(\"訓練集準確率：\", accuracy_train)\n",
        "\n",
        "# 計算測試集的混淆矩陣\n",
        "confusion_matrix_test = confusion_matrix(y_test, y_test_pred, labels=labels)\n",
        "print(\"測試集混淆矩陣：\")\n",
        "print(confusion_matrix_test)"
      ],
      "metadata": {
        "colab": {
          "base_uri": "https://localhost:8080/"
        },
        "id": "8DrONUUukSxP",
        "outputId": "396f5305-961d-4beb-afbb-ef916b7810df"
      },
      "execution_count": 71,
      "outputs": [
        {
          "output_type": "stream",
          "name": "stdout",
          "text": [
            "訓練集準確率： 0.7028735632183908\n",
            "測試集混淆矩陣：\n",
            "[[2341  878    1    0]\n",
            " [ 544 3738   59    0]\n",
            " [  23  634   36    0]\n",
            " [ 204  229   13    0]]\n"
          ]
        }
      ]
    }
  ]
}